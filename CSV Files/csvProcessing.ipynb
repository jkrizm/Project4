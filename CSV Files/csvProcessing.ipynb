{
 "cells": [
  {
   "cell_type": "code",
   "execution_count": 30,
   "metadata": {},
   "outputs": [],
   "source": [
    "import pandas as pd\n",
    "import numpy as np"
   ]
  },
  {
   "cell_type": "code",
   "execution_count": 31,
   "metadata": {},
   "outputs": [
    {
     "name": "stderr",
     "output_type": "stream",
     "text": [
      "/var/folders/z1/1sbxvkbx0jjc2gfz5ytpg7g40000gn/T/ipykernel_8720/2269180974.py:8: FutureWarning: The frame.append method is deprecated and will be removed from pandas in a future version. Use pandas.concat instead.\n",
      "  atrributes_df = atrributes_df.append(curr_df)\n",
      "/var/folders/z1/1sbxvkbx0jjc2gfz5ytpg7g40000gn/T/ipykernel_8720/2269180974.py:8: FutureWarning: The frame.append method is deprecated and will be removed from pandas in a future version. Use pandas.concat instead.\n",
      "  atrributes_df = atrributes_df.append(curr_df)\n",
      "/var/folders/z1/1sbxvkbx0jjc2gfz5ytpg7g40000gn/T/ipykernel_8720/2269180974.py:8: FutureWarning: The frame.append method is deprecated and will be removed from pandas in a future version. Use pandas.concat instead.\n",
      "  atrributes_df = atrributes_df.append(curr_df)\n",
      "/var/folders/z1/1sbxvkbx0jjc2gfz5ytpg7g40000gn/T/ipykernel_8720/2269180974.py:8: FutureWarning: The frame.append method is deprecated and will be removed from pandas in a future version. Use pandas.concat instead.\n",
      "  atrributes_df = atrributes_df.append(curr_df)\n",
      "/var/folders/z1/1sbxvkbx0jjc2gfz5ytpg7g40000gn/T/ipykernel_8720/2269180974.py:8: FutureWarning: The frame.append method is deprecated and will be removed from pandas in a future version. Use pandas.concat instead.\n",
      "  atrributes_df = atrributes_df.append(curr_df)\n",
      "/var/folders/z1/1sbxvkbx0jjc2gfz5ytpg7g40000gn/T/ipykernel_8720/2269180974.py:8: FutureWarning: The frame.append method is deprecated and will be removed from pandas in a future version. Use pandas.concat instead.\n",
      "  atrributes_df = atrributes_df.append(curr_df)\n",
      "/var/folders/z1/1sbxvkbx0jjc2gfz5ytpg7g40000gn/T/ipykernel_8720/2269180974.py:8: FutureWarning: The frame.append method is deprecated and will be removed from pandas in a future version. Use pandas.concat instead.\n",
      "  atrributes_df = atrributes_df.append(curr_df)\n",
      "/var/folders/z1/1sbxvkbx0jjc2gfz5ytpg7g40000gn/T/ipykernel_8720/2269180974.py:8: FutureWarning: The frame.append method is deprecated and will be removed from pandas in a future version. Use pandas.concat instead.\n",
      "  atrributes_df = atrributes_df.append(curr_df)\n",
      "/var/folders/z1/1sbxvkbx0jjc2gfz5ytpg7g40000gn/T/ipykernel_8720/2269180974.py:8: FutureWarning: The frame.append method is deprecated and will be removed from pandas in a future version. Use pandas.concat instead.\n",
      "  atrributes_df = atrributes_df.append(curr_df)\n",
      "/var/folders/z1/1sbxvkbx0jjc2gfz5ytpg7g40000gn/T/ipykernel_8720/2269180974.py:8: FutureWarning: The frame.append method is deprecated and will be removed from pandas in a future version. Use pandas.concat instead.\n",
      "  atrributes_df = atrributes_df.append(curr_df)\n",
      "/var/folders/z1/1sbxvkbx0jjc2gfz5ytpg7g40000gn/T/ipykernel_8720/2269180974.py:8: FutureWarning: The frame.append method is deprecated and will be removed from pandas in a future version. Use pandas.concat instead.\n",
      "  atrributes_df = atrributes_df.append(curr_df)\n",
      "/var/folders/z1/1sbxvkbx0jjc2gfz5ytpg7g40000gn/T/ipykernel_8720/2269180974.py:8: FutureWarning: The frame.append method is deprecated and will be removed from pandas in a future version. Use pandas.concat instead.\n",
      "  atrributes_df = atrributes_df.append(curr_df)\n",
      "/var/folders/z1/1sbxvkbx0jjc2gfz5ytpg7g40000gn/T/ipykernel_8720/2269180974.py:8: FutureWarning: The frame.append method is deprecated and will be removed from pandas in a future version. Use pandas.concat instead.\n",
      "  atrributes_df = atrributes_df.append(curr_df)\n",
      "/var/folders/z1/1sbxvkbx0jjc2gfz5ytpg7g40000gn/T/ipykernel_8720/2269180974.py:8: FutureWarning: The frame.append method is deprecated and will be removed from pandas in a future version. Use pandas.concat instead.\n",
      "  atrributes_df = atrributes_df.append(curr_df)\n",
      "/var/folders/z1/1sbxvkbx0jjc2gfz5ytpg7g40000gn/T/ipykernel_8720/2269180974.py:8: FutureWarning: The frame.append method is deprecated and will be removed from pandas in a future version. Use pandas.concat instead.\n",
      "  atrributes_df = atrributes_df.append(curr_df)\n",
      "/var/folders/z1/1sbxvkbx0jjc2gfz5ytpg7g40000gn/T/ipykernel_8720/2269180974.py:8: FutureWarning: The frame.append method is deprecated and will be removed from pandas in a future version. Use pandas.concat instead.\n",
      "  atrributes_df = atrributes_df.append(curr_df)\n",
      "/var/folders/z1/1sbxvkbx0jjc2gfz5ytpg7g40000gn/T/ipykernel_8720/2269180974.py:8: FutureWarning: The frame.append method is deprecated and will be removed from pandas in a future version. Use pandas.concat instead.\n",
      "  atrributes_df = atrributes_df.append(curr_df)\n",
      "/var/folders/z1/1sbxvkbx0jjc2gfz5ytpg7g40000gn/T/ipykernel_8720/2269180974.py:8: FutureWarning: The frame.append method is deprecated and will be removed from pandas in a future version. Use pandas.concat instead.\n",
      "  atrributes_df = atrributes_df.append(curr_df)\n",
      "/var/folders/z1/1sbxvkbx0jjc2gfz5ytpg7g40000gn/T/ipykernel_8720/2269180974.py:8: FutureWarning: The frame.append method is deprecated and will be removed from pandas in a future version. Use pandas.concat instead.\n",
      "  atrributes_df = atrributes_df.append(curr_df)\n",
      "/var/folders/z1/1sbxvkbx0jjc2gfz5ytpg7g40000gn/T/ipykernel_8720/2269180974.py:8: FutureWarning: The frame.append method is deprecated and will be removed from pandas in a future version. Use pandas.concat instead.\n",
      "  atrributes_df = atrributes_df.append(curr_df)\n",
      "/var/folders/z1/1sbxvkbx0jjc2gfz5ytpg7g40000gn/T/ipykernel_8720/2269180974.py:8: FutureWarning: The frame.append method is deprecated and will be removed from pandas in a future version. Use pandas.concat instead.\n",
      "  atrributes_df = atrributes_df.append(curr_df)\n",
      "/var/folders/z1/1sbxvkbx0jjc2gfz5ytpg7g40000gn/T/ipykernel_8720/2269180974.py:8: FutureWarning: The frame.append method is deprecated and will be removed from pandas in a future version. Use pandas.concat instead.\n",
      "  atrributes_df = atrributes_df.append(curr_df)\n",
      "/var/folders/z1/1sbxvkbx0jjc2gfz5ytpg7g40000gn/T/ipykernel_8720/2269180974.py:8: FutureWarning: The frame.append method is deprecated and will be removed from pandas in a future version. Use pandas.concat instead.\n",
      "  atrributes_df = atrributes_df.append(curr_df)\n",
      "/var/folders/z1/1sbxvkbx0jjc2gfz5ytpg7g40000gn/T/ipykernel_8720/2269180974.py:8: FutureWarning: The frame.append method is deprecated and will be removed from pandas in a future version. Use pandas.concat instead.\n",
      "  atrributes_df = atrributes_df.append(curr_df)\n",
      "/var/folders/z1/1sbxvkbx0jjc2gfz5ytpg7g40000gn/T/ipykernel_8720/2269180974.py:8: FutureWarning: The frame.append method is deprecated and will be removed from pandas in a future version. Use pandas.concat instead.\n",
      "  atrributes_df = atrributes_df.append(curr_df)\n",
      "/var/folders/z1/1sbxvkbx0jjc2gfz5ytpg7g40000gn/T/ipykernel_8720/2269180974.py:8: FutureWarning: The frame.append method is deprecated and will be removed from pandas in a future version. Use pandas.concat instead.\n",
      "  atrributes_df = atrributes_df.append(curr_df)\n",
      "/var/folders/z1/1sbxvkbx0jjc2gfz5ytpg7g40000gn/T/ipykernel_8720/2269180974.py:8: FutureWarning: The frame.append method is deprecated and will be removed from pandas in a future version. Use pandas.concat instead.\n",
      "  atrributes_df = atrributes_df.append(curr_df)\n",
      "/var/folders/z1/1sbxvkbx0jjc2gfz5ytpg7g40000gn/T/ipykernel_8720/2269180974.py:8: FutureWarning: The frame.append method is deprecated and will be removed from pandas in a future version. Use pandas.concat instead.\n",
      "  atrributes_df = atrributes_df.append(curr_df)\n",
      "/var/folders/z1/1sbxvkbx0jjc2gfz5ytpg7g40000gn/T/ipykernel_8720/2269180974.py:8: FutureWarning: The frame.append method is deprecated and will be removed from pandas in a future version. Use pandas.concat instead.\n",
      "  atrributes_df = atrributes_df.append(curr_df)\n",
      "/var/folders/z1/1sbxvkbx0jjc2gfz5ytpg7g40000gn/T/ipykernel_8720/2269180974.py:8: FutureWarning: The frame.append method is deprecated and will be removed from pandas in a future version. Use pandas.concat instead.\n",
      "  atrributes_df = atrributes_df.append(curr_df)\n",
      "/var/folders/z1/1sbxvkbx0jjc2gfz5ytpg7g40000gn/T/ipykernel_8720/2269180974.py:8: FutureWarning: The frame.append method is deprecated and will be removed from pandas in a future version. Use pandas.concat instead.\n",
      "  atrributes_df = atrributes_df.append(curr_df)\n"
     ]
    },
    {
     "data": {
      "text/html": [
       "<div>\n",
       "<style scoped>\n",
       "    .dataframe tbody tr th:only-of-type {\n",
       "        vertical-align: middle;\n",
       "    }\n",
       "\n",
       "    .dataframe tbody tr th {\n",
       "        vertical-align: top;\n",
       "    }\n",
       "\n",
       "    .dataframe thead th {\n",
       "        text-align: right;\n",
       "    }\n",
       "</style>\n",
       "<table border=\"1\" class=\"dataframe\">\n",
       "  <thead>\n",
       "    <tr style=\"text-align: right;\">\n",
       "      <th></th>\n",
       "      <th>id</th>\n",
       "      <th>song_name</th>\n",
       "      <th>artist</th>\n",
       "      <th>pic_url</th>\n",
       "      <th>preview_url</th>\n",
       "      <th>release_year</th>\n",
       "      <th>decade</th>\n",
       "      <th>danceability</th>\n",
       "      <th>energy</th>\n",
       "      <th>key</th>\n",
       "      <th>...</th>\n",
       "      <th>liveness</th>\n",
       "      <th>valence</th>\n",
       "      <th>tempo</th>\n",
       "      <th>type</th>\n",
       "      <th>uri</th>\n",
       "      <th>track_href</th>\n",
       "      <th>analysis_url</th>\n",
       "      <th>duration_ms</th>\n",
       "      <th>time_signature</th>\n",
       "      <th>adanceability</th>\n",
       "    </tr>\n",
       "  </thead>\n",
       "  <tbody>\n",
       "    <tr>\n",
       "      <th>0</th>\n",
       "      <td>1H5IfYyIIAlgDX8zguUzns</td>\n",
       "      <td>Suspicious Minds</td>\n",
       "      <td>Elvis Presley</td>\n",
       "      <td>https://i.scdn.co/image/ab67616d0000b273fdc0aa...</td>\n",
       "      <td>https://p.scdn.co/mp3-preview/e7072dbcb87f4c8c...</td>\n",
       "      <td>1969</td>\n",
       "      <td>1960</td>\n",
       "      <td>0.487</td>\n",
       "      <td>0.382</td>\n",
       "      <td>7</td>\n",
       "      <td>...</td>\n",
       "      <td>0.411</td>\n",
       "      <td>0.714</td>\n",
       "      <td>116.557</td>\n",
       "      <td>audio_features</td>\n",
       "      <td>spotify:track:1H5IfYyIIAlgDX8zguUzns</td>\n",
       "      <td>https://api.spotify.com/v1/tracks/1H5IfYyIIAlg...</td>\n",
       "      <td>https://api.spotify.com/v1/audio-analysis/1H5I...</td>\n",
       "      <td>261280</td>\n",
       "      <td>4</td>\n",
       "      <td>NaN</td>\n",
       "    </tr>\n",
       "    <tr>\n",
       "      <th>1</th>\n",
       "      <td>1H5IfYyIIAlgDX8zguUzns</td>\n",
       "      <td>Suspicious Minds</td>\n",
       "      <td>Elvis Presley</td>\n",
       "      <td>https://i.scdn.co/image/ab67616d0000b273fdc0aa...</td>\n",
       "      <td>https://p.scdn.co/mp3-preview/e7072dbcb87f4c8c...</td>\n",
       "      <td>1969</td>\n",
       "      <td>1960</td>\n",
       "      <td>0.487</td>\n",
       "      <td>0.382</td>\n",
       "      <td>7</td>\n",
       "      <td>...</td>\n",
       "      <td>0.411</td>\n",
       "      <td>0.714</td>\n",
       "      <td>116.557</td>\n",
       "      <td>audio_features</td>\n",
       "      <td>spotify:track:1H5IfYyIIAlgDX8zguUzns</td>\n",
       "      <td>https://api.spotify.com/v1/tracks/1H5IfYyIIAlg...</td>\n",
       "      <td>https://api.spotify.com/v1/audio-analysis/1H5I...</td>\n",
       "      <td>261280</td>\n",
       "      <td>4</td>\n",
       "      <td>NaN</td>\n",
       "    </tr>\n",
       "    <tr>\n",
       "      <th>2</th>\n",
       "      <td>1H5IfYyIIAlgDX8zguUzns</td>\n",
       "      <td>Suspicious Minds</td>\n",
       "      <td>Elvis Presley</td>\n",
       "      <td>https://i.scdn.co/image/ab67616d0000b273fdc0aa...</td>\n",
       "      <td>https://p.scdn.co/mp3-preview/e7072dbcb87f4c8c...</td>\n",
       "      <td>1969</td>\n",
       "      <td>1960</td>\n",
       "      <td>0.487</td>\n",
       "      <td>0.382</td>\n",
       "      <td>7</td>\n",
       "      <td>...</td>\n",
       "      <td>0.411</td>\n",
       "      <td>0.714</td>\n",
       "      <td>116.557</td>\n",
       "      <td>audio_features</td>\n",
       "      <td>spotify:track:1H5IfYyIIAlgDX8zguUzns</td>\n",
       "      <td>https://api.spotify.com/v1/tracks/1H5IfYyIIAlg...</td>\n",
       "      <td>https://api.spotify.com/v1/audio-analysis/1H5I...</td>\n",
       "      <td>261280</td>\n",
       "      <td>4</td>\n",
       "      <td>NaN</td>\n",
       "    </tr>\n",
       "    <tr>\n",
       "      <th>3</th>\n",
       "      <td>1H5IfYyIIAlgDX8zguUzns</td>\n",
       "      <td>Suspicious Minds</td>\n",
       "      <td>Elvis Presley</td>\n",
       "      <td>https://i.scdn.co/image/ab67616d0000b273fdc0aa...</td>\n",
       "      <td>https://p.scdn.co/mp3-preview/e7072dbcb87f4c8c...</td>\n",
       "      <td>1969</td>\n",
       "      <td>1960</td>\n",
       "      <td>0.487</td>\n",
       "      <td>0.382</td>\n",
       "      <td>7</td>\n",
       "      <td>...</td>\n",
       "      <td>0.411</td>\n",
       "      <td>0.714</td>\n",
       "      <td>116.557</td>\n",
       "      <td>audio_features</td>\n",
       "      <td>spotify:track:1H5IfYyIIAlgDX8zguUzns</td>\n",
       "      <td>https://api.spotify.com/v1/tracks/1H5IfYyIIAlg...</td>\n",
       "      <td>https://api.spotify.com/v1/audio-analysis/1H5I...</td>\n",
       "      <td>261280</td>\n",
       "      <td>4</td>\n",
       "      <td>NaN</td>\n",
       "    </tr>\n",
       "    <tr>\n",
       "      <th>4</th>\n",
       "      <td>1H5IfYyIIAlgDX8zguUzns</td>\n",
       "      <td>Suspicious Minds</td>\n",
       "      <td>Elvis Presley</td>\n",
       "      <td>https://i.scdn.co/image/ab67616d0000b273fdc0aa...</td>\n",
       "      <td>https://p.scdn.co/mp3-preview/e7072dbcb87f4c8c...</td>\n",
       "      <td>1969</td>\n",
       "      <td>1960</td>\n",
       "      <td>0.487</td>\n",
       "      <td>0.382</td>\n",
       "      <td>7</td>\n",
       "      <td>...</td>\n",
       "      <td>0.411</td>\n",
       "      <td>0.714</td>\n",
       "      <td>116.557</td>\n",
       "      <td>audio_features</td>\n",
       "      <td>spotify:track:1H5IfYyIIAlgDX8zguUzns</td>\n",
       "      <td>https://api.spotify.com/v1/tracks/1H5IfYyIIAlg...</td>\n",
       "      <td>https://api.spotify.com/v1/audio-analysis/1H5I...</td>\n",
       "      <td>261280</td>\n",
       "      <td>4</td>\n",
       "      <td>NaN</td>\n",
       "    </tr>\n",
       "  </tbody>\n",
       "</table>\n",
       "<p>5 rows × 25 columns</p>\n",
       "</div>"
      ],
      "text/plain": [
       "                       id         song_name         artist  \\\n",
       "0  1H5IfYyIIAlgDX8zguUzns  Suspicious Minds  Elvis Presley   \n",
       "1  1H5IfYyIIAlgDX8zguUzns  Suspicious Minds  Elvis Presley   \n",
       "2  1H5IfYyIIAlgDX8zguUzns  Suspicious Minds  Elvis Presley   \n",
       "3  1H5IfYyIIAlgDX8zguUzns  Suspicious Minds  Elvis Presley   \n",
       "4  1H5IfYyIIAlgDX8zguUzns  Suspicious Minds  Elvis Presley   \n",
       "\n",
       "                                             pic_url  \\\n",
       "0  https://i.scdn.co/image/ab67616d0000b273fdc0aa...   \n",
       "1  https://i.scdn.co/image/ab67616d0000b273fdc0aa...   \n",
       "2  https://i.scdn.co/image/ab67616d0000b273fdc0aa...   \n",
       "3  https://i.scdn.co/image/ab67616d0000b273fdc0aa...   \n",
       "4  https://i.scdn.co/image/ab67616d0000b273fdc0aa...   \n",
       "\n",
       "                                         preview_url  release_year  decade  \\\n",
       "0  https://p.scdn.co/mp3-preview/e7072dbcb87f4c8c...          1969    1960   \n",
       "1  https://p.scdn.co/mp3-preview/e7072dbcb87f4c8c...          1969    1960   \n",
       "2  https://p.scdn.co/mp3-preview/e7072dbcb87f4c8c...          1969    1960   \n",
       "3  https://p.scdn.co/mp3-preview/e7072dbcb87f4c8c...          1969    1960   \n",
       "4  https://p.scdn.co/mp3-preview/e7072dbcb87f4c8c...          1969    1960   \n",
       "\n",
       "   danceability  energy  key  ...  liveness  valence    tempo            type  \\\n",
       "0         0.487   0.382    7  ...     0.411    0.714  116.557  audio_features   \n",
       "1         0.487   0.382    7  ...     0.411    0.714  116.557  audio_features   \n",
       "2         0.487   0.382    7  ...     0.411    0.714  116.557  audio_features   \n",
       "3         0.487   0.382    7  ...     0.411    0.714  116.557  audio_features   \n",
       "4         0.487   0.382    7  ...     0.411    0.714  116.557  audio_features   \n",
       "\n",
       "                                    uri  \\\n",
       "0  spotify:track:1H5IfYyIIAlgDX8zguUzns   \n",
       "1  spotify:track:1H5IfYyIIAlgDX8zguUzns   \n",
       "2  spotify:track:1H5IfYyIIAlgDX8zguUzns   \n",
       "3  spotify:track:1H5IfYyIIAlgDX8zguUzns   \n",
       "4  spotify:track:1H5IfYyIIAlgDX8zguUzns   \n",
       "\n",
       "                                          track_href  \\\n",
       "0  https://api.spotify.com/v1/tracks/1H5IfYyIIAlg...   \n",
       "1  https://api.spotify.com/v1/tracks/1H5IfYyIIAlg...   \n",
       "2  https://api.spotify.com/v1/tracks/1H5IfYyIIAlg...   \n",
       "3  https://api.spotify.com/v1/tracks/1H5IfYyIIAlg...   \n",
       "4  https://api.spotify.com/v1/tracks/1H5IfYyIIAlg...   \n",
       "\n",
       "                                        analysis_url  duration_ms  \\\n",
       "0  https://api.spotify.com/v1/audio-analysis/1H5I...       261280   \n",
       "1  https://api.spotify.com/v1/audio-analysis/1H5I...       261280   \n",
       "2  https://api.spotify.com/v1/audio-analysis/1H5I...       261280   \n",
       "3  https://api.spotify.com/v1/audio-analysis/1H5I...       261280   \n",
       "4  https://api.spotify.com/v1/audio-analysis/1H5I...       261280   \n",
       "\n",
       "  time_signature adanceability  \n",
       "0              4           NaN  \n",
       "1              4           NaN  \n",
       "2              4           NaN  \n",
       "3              4           NaN  \n",
       "4              4           NaN  \n",
       "\n",
       "[5 rows x 25 columns]"
      ]
     },
     "execution_count": 31,
     "metadata": {},
     "output_type": "execute_result"
    }
   ],
   "source": [
    "songs_df = pd.read_csv('playlist_dict.csv')\n",
    "songs_df['decade'] = (songs_df['release_year']/10).apply(np.int64)\n",
    "songs_df['decade'] = songs_df['decade'] * 10\n",
    "atrributes_df = pd.read_csv('audio_features_1.csv')\n",
    "attribute_files = ['audio_features_2.csv','audio_features_3.csv','audio_features_4.csv','audio_features_5.csv', 'audio_features_6.csv', 'audio_features_7.csv', 'audio_features_8.csv', 'audio_features_9.csv', 'audio_features_10.csv', 'audio_features_11.csv', 'audio_features_12.csv', 'audio_features_13.csv', 'audio_features_14.csv', 'audio_features_15.csv', 'audio_features_16.csv', 'audio_features_17.csv', 'audio_features_18.csv', 'audio_features_19.csv', 'audio_features_20.csv', 'audio_features_21.csv', 'audio_features_22.csv', 'audio_features_23.csv', 'audio_features_24.csv', 'audio_features_25.csv', 'audio_features_26.csv', 'songs1950s.csv', 'songs1960s.csv', 'songs1970s.csv', 'songs1980s.csv', 'songs1990s.csv', 'songs2000s.csv']\n",
    "for i in range(len(attribute_files)):\n",
    "    curr_df = pd.read_csv(attribute_files[i])\n",
    "    atrributes_df = atrributes_df.append(curr_df)\n",
    "complete_df = pd.merge(songs_df, atrributes_df, on='id')\n",
    "complete_df.head()"
   ]
  },
  {
   "cell_type": "code",
   "execution_count": 32,
   "metadata": {},
   "outputs": [
    {
     "data": {
      "text/plain": [
       "2286"
      ]
     },
     "execution_count": 32,
     "metadata": {},
     "output_type": "execute_result"
    }
   ],
   "source": [
    "len(complete_df['id'].unique())"
   ]
  },
  {
   "cell_type": "code",
   "execution_count": 33,
   "metadata": {},
   "outputs": [],
   "source": [
    "complete_df = complete_df.drop_duplicates(subset=['id'])"
   ]
  },
  {
   "cell_type": "code",
   "execution_count": 34,
   "metadata": {},
   "outputs": [
    {
     "data": {
      "text/plain": [
       "375"
      ]
     },
     "execution_count": 34,
     "metadata": {},
     "output_type": "execute_result"
    }
   ],
   "source": [
    "len(complete_df.loc[complete_df['decade'] > 2000])"
   ]
  },
  {
   "cell_type": "code",
   "execution_count": 35,
   "metadata": {},
   "outputs": [
    {
     "data": {
      "text/plain": [
       "2286"
      ]
     },
     "execution_count": 35,
     "metadata": {},
     "output_type": "execute_result"
    }
   ],
   "source": [
    "len(complete_df)"
   ]
  },
  {
   "cell_type": "code",
   "execution_count": 36,
   "metadata": {},
   "outputs": [],
   "source": [
    "del complete_df['adanceability']"
   ]
  },
  {
   "cell_type": "code",
   "execution_count": 37,
   "metadata": {},
   "outputs": [],
   "source": [
    "complete_df = complete_df.loc[complete_df['decade'] <= 2000]"
   ]
  },
  {
   "cell_type": "code",
   "execution_count": 38,
   "metadata": {},
   "outputs": [
    {
     "data": {
      "text/plain": [
       "1911"
      ]
     },
     "execution_count": 38,
     "metadata": {},
     "output_type": "execute_result"
    }
   ],
   "source": [
    "len(complete_df)"
   ]
  },
  {
   "cell_type": "code",
   "execution_count": 39,
   "metadata": {},
   "outputs": [],
   "source": [
    "complete_df.to_csv('final.csv', index=False)"
   ]
  }
 ],
 "metadata": {
  "kernelspec": {
   "display_name": "base",
   "language": "python",
   "name": "python3"
  },
  "language_info": {
   "codemirror_mode": {
    "name": "ipython",
    "version": 3
   },
   "file_extension": ".py",
   "mimetype": "text/x-python",
   "name": "python",
   "nbconvert_exporter": "python",
   "pygments_lexer": "ipython3",
   "version": "3.10.9"
  }
 },
 "nbformat": 4,
 "nbformat_minor": 2
}
