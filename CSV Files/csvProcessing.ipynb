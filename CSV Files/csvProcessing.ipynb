{
 "cells": [
  {
   "cell_type": "code",
   "execution_count": 26,
   "metadata": {},
   "outputs": [],
   "source": [
    "import pandas as pd\n",
    "import numpy as np"
   ]
  },
  {
   "cell_type": "code",
   "execution_count": 27,
   "metadata": {},
   "outputs": [
    {
     "name": "stderr",
     "output_type": "stream",
     "text": [
      "/var/folders/z1/1sbxvkbx0jjc2gfz5ytpg7g40000gn/T/ipykernel_4736/357404607.py:8: FutureWarning: The frame.append method is deprecated and will be removed from pandas in a future version. Use pandas.concat instead.\n",
      "  atrributes_df = atrributes_df.append(curr_df)\n",
      "/var/folders/z1/1sbxvkbx0jjc2gfz5ytpg7g40000gn/T/ipykernel_4736/357404607.py:8: FutureWarning: The frame.append method is deprecated and will be removed from pandas in a future version. Use pandas.concat instead.\n",
      "  atrributes_df = atrributes_df.append(curr_df)\n",
      "/var/folders/z1/1sbxvkbx0jjc2gfz5ytpg7g40000gn/T/ipykernel_4736/357404607.py:8: FutureWarning: The frame.append method is deprecated and will be removed from pandas in a future version. Use pandas.concat instead.\n",
      "  atrributes_df = atrributes_df.append(curr_df)\n",
      "/var/folders/z1/1sbxvkbx0jjc2gfz5ytpg7g40000gn/T/ipykernel_4736/357404607.py:8: FutureWarning: The frame.append method is deprecated and will be removed from pandas in a future version. Use pandas.concat instead.\n",
      "  atrributes_df = atrributes_df.append(curr_df)\n",
      "/var/folders/z1/1sbxvkbx0jjc2gfz5ytpg7g40000gn/T/ipykernel_4736/357404607.py:8: FutureWarning: The frame.append method is deprecated and will be removed from pandas in a future version. Use pandas.concat instead.\n",
      "  atrributes_df = atrributes_df.append(curr_df)\n",
      "/var/folders/z1/1sbxvkbx0jjc2gfz5ytpg7g40000gn/T/ipykernel_4736/357404607.py:8: FutureWarning: The frame.append method is deprecated and will be removed from pandas in a future version. Use pandas.concat instead.\n",
      "  atrributes_df = atrributes_df.append(curr_df)\n",
      "/var/folders/z1/1sbxvkbx0jjc2gfz5ytpg7g40000gn/T/ipykernel_4736/357404607.py:8: FutureWarning: The frame.append method is deprecated and will be removed from pandas in a future version. Use pandas.concat instead.\n",
      "  atrributes_df = atrributes_df.append(curr_df)\n",
      "/var/folders/z1/1sbxvkbx0jjc2gfz5ytpg7g40000gn/T/ipykernel_4736/357404607.py:8: FutureWarning: The frame.append method is deprecated and will be removed from pandas in a future version. Use pandas.concat instead.\n",
      "  atrributes_df = atrributes_df.append(curr_df)\n",
      "/var/folders/z1/1sbxvkbx0jjc2gfz5ytpg7g40000gn/T/ipykernel_4736/357404607.py:8: FutureWarning: The frame.append method is deprecated and will be removed from pandas in a future version. Use pandas.concat instead.\n",
      "  atrributes_df = atrributes_df.append(curr_df)\n",
      "/var/folders/z1/1sbxvkbx0jjc2gfz5ytpg7g40000gn/T/ipykernel_4736/357404607.py:8: FutureWarning: The frame.append method is deprecated and will be removed from pandas in a future version. Use pandas.concat instead.\n",
      "  atrributes_df = atrributes_df.append(curr_df)\n"
     ]
    },
    {
     "data": {
      "text/html": [
       "<div>\n",
       "<style scoped>\n",
       "    .dataframe tbody tr th:only-of-type {\n",
       "        vertical-align: middle;\n",
       "    }\n",
       "\n",
       "    .dataframe tbody tr th {\n",
       "        vertical-align: top;\n",
       "    }\n",
       "\n",
       "    .dataframe thead th {\n",
       "        text-align: right;\n",
       "    }\n",
       "</style>\n",
       "<table border=\"1\" class=\"dataframe\">\n",
       "  <thead>\n",
       "    <tr style=\"text-align: right;\">\n",
       "      <th></th>\n",
       "      <th>id</th>\n",
       "      <th>song_name</th>\n",
       "      <th>artist</th>\n",
       "      <th>pic_url</th>\n",
       "      <th>preview_url</th>\n",
       "      <th>release_year</th>\n",
       "      <th>decade</th>\n",
       "      <th>danceability</th>\n",
       "      <th>energy</th>\n",
       "      <th>key</th>\n",
       "      <th>...</th>\n",
       "      <th>instrumentalness</th>\n",
       "      <th>liveness</th>\n",
       "      <th>valence</th>\n",
       "      <th>tempo</th>\n",
       "      <th>type</th>\n",
       "      <th>uri</th>\n",
       "      <th>track_href</th>\n",
       "      <th>analysis_url</th>\n",
       "      <th>duration_ms</th>\n",
       "      <th>time_signature</th>\n",
       "    </tr>\n",
       "  </thead>\n",
       "  <tbody>\n",
       "    <tr>\n",
       "      <th>0</th>\n",
       "      <td>4Vn7TykT27PIygBiZjTR2s</td>\n",
       "      <td>Hotel California - 2013 Remaster</td>\n",
       "      <td>Eagles</td>\n",
       "      <td>https://i.scdn.co/image/ab67616d0000b273061849...</td>\n",
       "      <td>https://p.scdn.co/mp3-preview/6fedc11d0f55bef1...</td>\n",
       "      <td>2003</td>\n",
       "      <td>2000</td>\n",
       "      <td>0.579</td>\n",
       "      <td>0.508</td>\n",
       "      <td>2</td>\n",
       "      <td>...</td>\n",
       "      <td>0.000494</td>\n",
       "      <td>0.0575</td>\n",
       "      <td>0.609</td>\n",
       "      <td>147.125</td>\n",
       "      <td>audio_features</td>\n",
       "      <td>spotify:track:4Vn7TykT27PIygBiZjTR2s</td>\n",
       "      <td>https://api.spotify.com/v1/tracks/4Vn7TykT27PI...</td>\n",
       "      <td>https://api.spotify.com/v1/audio-analysis/4Vn7...</td>\n",
       "      <td>391376</td>\n",
       "      <td>4</td>\n",
       "    </tr>\n",
       "    <tr>\n",
       "      <th>1</th>\n",
       "      <td>2WfaOiMkCvy7F5fcp2zZ8L</td>\n",
       "      <td>Take on Me</td>\n",
       "      <td>a-ha</td>\n",
       "      <td>https://i.scdn.co/image/ab67616d0000b273e8dd4d...</td>\n",
       "      <td>https://p.scdn.co/mp3-preview/ed66a8c444c35b2f...</td>\n",
       "      <td>1985</td>\n",
       "      <td>1980</td>\n",
       "      <td>0.573</td>\n",
       "      <td>0.902</td>\n",
       "      <td>6</td>\n",
       "      <td>...</td>\n",
       "      <td>0.001250</td>\n",
       "      <td>0.0928</td>\n",
       "      <td>0.876</td>\n",
       "      <td>84.412</td>\n",
       "      <td>audio_features</td>\n",
       "      <td>spotify:track:2WfaOiMkCvy7F5fcp2zZ8L</td>\n",
       "      <td>https://api.spotify.com/v1/tracks/2WfaOiMkCvy7...</td>\n",
       "      <td>https://api.spotify.com/v1/audio-analysis/2Wfa...</td>\n",
       "      <td>225280</td>\n",
       "      <td>4</td>\n",
       "    </tr>\n",
       "    <tr>\n",
       "      <th>2</th>\n",
       "      <td>2WfaOiMkCvy7F5fcp2zZ8L</td>\n",
       "      <td>Take on Me</td>\n",
       "      <td>a-ha</td>\n",
       "      <td>https://i.scdn.co/image/ab67616d0000b273e8dd4d...</td>\n",
       "      <td>https://p.scdn.co/mp3-preview/ed66a8c444c35b2f...</td>\n",
       "      <td>1985</td>\n",
       "      <td>1980</td>\n",
       "      <td>0.573</td>\n",
       "      <td>0.902</td>\n",
       "      <td>6</td>\n",
       "      <td>...</td>\n",
       "      <td>0.001250</td>\n",
       "      <td>0.0928</td>\n",
       "      <td>0.876</td>\n",
       "      <td>84.412</td>\n",
       "      <td>audio_features</td>\n",
       "      <td>spotify:track:2WfaOiMkCvy7F5fcp2zZ8L</td>\n",
       "      <td>https://api.spotify.com/v1/tracks/2WfaOiMkCvy7...</td>\n",
       "      <td>https://api.spotify.com/v1/audio-analysis/2Wfa...</td>\n",
       "      <td>225280</td>\n",
       "      <td>4</td>\n",
       "    </tr>\n",
       "    <tr>\n",
       "      <th>3</th>\n",
       "      <td>2WfaOiMkCvy7F5fcp2zZ8L</td>\n",
       "      <td>Take on Me</td>\n",
       "      <td>a-ha</td>\n",
       "      <td>https://i.scdn.co/image/ab67616d0000b273e8dd4d...</td>\n",
       "      <td>https://p.scdn.co/mp3-preview/ed66a8c444c35b2f...</td>\n",
       "      <td>1985</td>\n",
       "      <td>1980</td>\n",
       "      <td>0.573</td>\n",
       "      <td>0.902</td>\n",
       "      <td>6</td>\n",
       "      <td>...</td>\n",
       "      <td>0.001250</td>\n",
       "      <td>0.0928</td>\n",
       "      <td>0.876</td>\n",
       "      <td>84.412</td>\n",
       "      <td>audio_features</td>\n",
       "      <td>spotify:track:2WfaOiMkCvy7F5fcp2zZ8L</td>\n",
       "      <td>https://api.spotify.com/v1/tracks/2WfaOiMkCvy7...</td>\n",
       "      <td>https://api.spotify.com/v1/audio-analysis/2Wfa...</td>\n",
       "      <td>225280</td>\n",
       "      <td>4</td>\n",
       "    </tr>\n",
       "    <tr>\n",
       "      <th>4</th>\n",
       "      <td>2WfaOiMkCvy7F5fcp2zZ8L</td>\n",
       "      <td>Take on Me</td>\n",
       "      <td>a-ha</td>\n",
       "      <td>https://i.scdn.co/image/ab67616d0000b273e8dd4d...</td>\n",
       "      <td>https://p.scdn.co/mp3-preview/ed66a8c444c35b2f...</td>\n",
       "      <td>1985</td>\n",
       "      <td>1980</td>\n",
       "      <td>0.573</td>\n",
       "      <td>0.902</td>\n",
       "      <td>6</td>\n",
       "      <td>...</td>\n",
       "      <td>0.001250</td>\n",
       "      <td>0.0928</td>\n",
       "      <td>0.876</td>\n",
       "      <td>84.412</td>\n",
       "      <td>audio_features</td>\n",
       "      <td>spotify:track:2WfaOiMkCvy7F5fcp2zZ8L</td>\n",
       "      <td>https://api.spotify.com/v1/tracks/2WfaOiMkCvy7...</td>\n",
       "      <td>https://api.spotify.com/v1/audio-analysis/2Wfa...</td>\n",
       "      <td>225280</td>\n",
       "      <td>4</td>\n",
       "    </tr>\n",
       "  </tbody>\n",
       "</table>\n",
       "<p>5 rows × 24 columns</p>\n",
       "</div>"
      ],
      "text/plain": [
       "                       id                         song_name  artist  \\\n",
       "0  4Vn7TykT27PIygBiZjTR2s  Hotel California - 2013 Remaster  Eagles   \n",
       "1  2WfaOiMkCvy7F5fcp2zZ8L                        Take on Me    a-ha   \n",
       "2  2WfaOiMkCvy7F5fcp2zZ8L                        Take on Me    a-ha   \n",
       "3  2WfaOiMkCvy7F5fcp2zZ8L                        Take on Me    a-ha   \n",
       "4  2WfaOiMkCvy7F5fcp2zZ8L                        Take on Me    a-ha   \n",
       "\n",
       "                                             pic_url  \\\n",
       "0  https://i.scdn.co/image/ab67616d0000b273061849...   \n",
       "1  https://i.scdn.co/image/ab67616d0000b273e8dd4d...   \n",
       "2  https://i.scdn.co/image/ab67616d0000b273e8dd4d...   \n",
       "3  https://i.scdn.co/image/ab67616d0000b273e8dd4d...   \n",
       "4  https://i.scdn.co/image/ab67616d0000b273e8dd4d...   \n",
       "\n",
       "                                         preview_url  release_year  decade  \\\n",
       "0  https://p.scdn.co/mp3-preview/6fedc11d0f55bef1...          2003    2000   \n",
       "1  https://p.scdn.co/mp3-preview/ed66a8c444c35b2f...          1985    1980   \n",
       "2  https://p.scdn.co/mp3-preview/ed66a8c444c35b2f...          1985    1980   \n",
       "3  https://p.scdn.co/mp3-preview/ed66a8c444c35b2f...          1985    1980   \n",
       "4  https://p.scdn.co/mp3-preview/ed66a8c444c35b2f...          1985    1980   \n",
       "\n",
       "   danceability  energy  key  ...  instrumentalness  liveness  valence  \\\n",
       "0         0.579   0.508    2  ...          0.000494    0.0575    0.609   \n",
       "1         0.573   0.902    6  ...          0.001250    0.0928    0.876   \n",
       "2         0.573   0.902    6  ...          0.001250    0.0928    0.876   \n",
       "3         0.573   0.902    6  ...          0.001250    0.0928    0.876   \n",
       "4         0.573   0.902    6  ...          0.001250    0.0928    0.876   \n",
       "\n",
       "     tempo            type                                   uri  \\\n",
       "0  147.125  audio_features  spotify:track:4Vn7TykT27PIygBiZjTR2s   \n",
       "1   84.412  audio_features  spotify:track:2WfaOiMkCvy7F5fcp2zZ8L   \n",
       "2   84.412  audio_features  spotify:track:2WfaOiMkCvy7F5fcp2zZ8L   \n",
       "3   84.412  audio_features  spotify:track:2WfaOiMkCvy7F5fcp2zZ8L   \n",
       "4   84.412  audio_features  spotify:track:2WfaOiMkCvy7F5fcp2zZ8L   \n",
       "\n",
       "                                          track_href  \\\n",
       "0  https://api.spotify.com/v1/tracks/4Vn7TykT27PI...   \n",
       "1  https://api.spotify.com/v1/tracks/2WfaOiMkCvy7...   \n",
       "2  https://api.spotify.com/v1/tracks/2WfaOiMkCvy7...   \n",
       "3  https://api.spotify.com/v1/tracks/2WfaOiMkCvy7...   \n",
       "4  https://api.spotify.com/v1/tracks/2WfaOiMkCvy7...   \n",
       "\n",
       "                                        analysis_url duration_ms  \\\n",
       "0  https://api.spotify.com/v1/audio-analysis/4Vn7...      391376   \n",
       "1  https://api.spotify.com/v1/audio-analysis/2Wfa...      225280   \n",
       "2  https://api.spotify.com/v1/audio-analysis/2Wfa...      225280   \n",
       "3  https://api.spotify.com/v1/audio-analysis/2Wfa...      225280   \n",
       "4  https://api.spotify.com/v1/audio-analysis/2Wfa...      225280   \n",
       "\n",
       "  time_signature  \n",
       "0              4  \n",
       "1              4  \n",
       "2              4  \n",
       "3              4  \n",
       "4              4  \n",
       "\n",
       "[5 rows x 24 columns]"
      ]
     },
     "execution_count": 27,
     "metadata": {},
     "output_type": "execute_result"
    }
   ],
   "source": [
    "songs_df = pd.read_csv('playlist_dict.csv')\n",
    "songs_df['decade'] = (songs_df['release_year']/10).apply(np.int64)\n",
    "songs_df['decade'] = songs_df['decade'] * 10\n",
    "atrributes_df = pd.read_csv('audio_features_1.csv')\n",
    "attribute_files = ['audio_features_4.csv','audio_features_2.csv','audio_features_3.csv','audio_features_5.csv', 'songs1950s.csv', 'songs1960s.csv', 'songs1970s.csv', 'songs1980s.csv', 'songs1990s.csv', 'songs2000s.csv']\n",
    "for i in range(len(attribute_files)):\n",
    "    curr_df = pd.read_csv(attribute_files[i])\n",
    "    atrributes_df = atrributes_df.append(curr_df)\n",
    "complete_df = pd.merge(songs_df, atrributes_df, on='id')\n",
    "complete_df.head()"
   ]
  },
  {
   "cell_type": "code",
   "execution_count": 28,
   "metadata": {},
   "outputs": [],
   "source": [
    "complete_df = complete_df.drop_duplicates(subset=['id'])"
   ]
  },
  {
   "cell_type": "code",
   "execution_count": 29,
   "metadata": {},
   "outputs": [
    {
     "data": {
      "text/plain": [
       "62"
      ]
     },
     "execution_count": 29,
     "metadata": {},
     "output_type": "execute_result"
    }
   ],
   "source": [
    "len(complete_df.loc[complete_df['decade'] > 2000])"
   ]
  },
  {
   "cell_type": "code",
   "execution_count": 30,
   "metadata": {},
   "outputs": [
    {
     "data": {
      "text/plain": [
       "929"
      ]
     },
     "execution_count": 30,
     "metadata": {},
     "output_type": "execute_result"
    }
   ],
   "source": [
    "len(complete_df)"
   ]
  },
  {
   "cell_type": "code",
   "execution_count": 31,
   "metadata": {},
   "outputs": [],
   "source": [
    "complete_df = complete_df.loc[complete_df['decade'] <= 2000]"
   ]
  },
  {
   "cell_type": "code",
   "execution_count": 32,
   "metadata": {},
   "outputs": [
    {
     "data": {
      "text/plain": [
       "867"
      ]
     },
     "execution_count": 32,
     "metadata": {},
     "output_type": "execute_result"
    }
   ],
   "source": [
    "len(complete_df)"
   ]
  },
  {
   "cell_type": "code",
   "execution_count": 33,
   "metadata": {},
   "outputs": [],
   "source": [
    "complete_df.to_csv('final.csv', index=False)"
   ]
  }
 ],
 "metadata": {
  "kernelspec": {
   "display_name": "base",
   "language": "python",
   "name": "python3"
  },
  "language_info": {
   "codemirror_mode": {
    "name": "ipython",
    "version": 3
   },
   "file_extension": ".py",
   "mimetype": "text/x-python",
   "name": "python",
   "nbconvert_exporter": "python",
   "pygments_lexer": "ipython3",
   "version": "3.10.9"
  }
 },
 "nbformat": 4,
 "nbformat_minor": 2
}
