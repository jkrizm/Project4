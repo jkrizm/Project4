{
 "cells": [
  {
   "cell_type": "code",
   "execution_count": 32,
   "metadata": {},
   "outputs": [],
   "source": [
    "import pandas as pd"
   ]
  },
  {
   "cell_type": "code",
   "execution_count": 37,
   "metadata": {},
   "outputs": [
    {
     "ename": "AssertionError",
     "evalue": "",
     "output_type": "error",
     "traceback": [
      "\u001b[0;31m---------------------------------------------------------------------------\u001b[0m",
      "\u001b[0;31mAssertionError\u001b[0m                            Traceback (most recent call last)",
      "\u001b[1;32m/Users/villarroelvalentina/Project4/CSV Files/csvProcessing.ipynb Cell 2\u001b[0m line \u001b[0;36m1\n\u001b[1;32m      <a href='vscode-notebook-cell:/Users/villarroelvalentina/Project4/CSV%20Files/csvProcessing.ipynb#W1sZmlsZQ%3D%3D?line=7'>8</a>\u001b[0m     curr_df \u001b[39m=\u001b[39m pd\u001b[39m.\u001b[39mread_csv(test_files[i])\n\u001b[1;32m      <a href='vscode-notebook-cell:/Users/villarroelvalentina/Project4/CSV%20Files/csvProcessing.ipynb#W1sZmlsZQ%3D%3D?line=8'>9</a>\u001b[0m     curr_df[\u001b[39m'\u001b[39m\u001b[39mtest\u001b[39m\u001b[39m'\u001b[39m] \u001b[39m=\u001b[39m \u001b[39m1\u001b[39m\n\u001b[0;32m---> <a href='vscode-notebook-cell:/Users/villarroelvalentina/Project4/CSV%20Files/csvProcessing.ipynb#W1sZmlsZQ%3D%3D?line=9'>10</a>\u001b[0m     curr_df[\u001b[39m'\u001b[39m\u001b[39mtest\u001b[39m\u001b[39m'\u001b[39m] \u001b[39m=\u001b[39m curr_df\u001b[39m.\u001b[39;49mapply(\u001b[39m1\u001b[39;49m, axis\u001b[39m=\u001b[39;49m\u001b[39m1\u001b[39;49m)\n\u001b[1;32m     <a href='vscode-notebook-cell:/Users/villarroelvalentina/Project4/CSV%20Files/csvProcessing.ipynb#W1sZmlsZQ%3D%3D?line=10'>11</a>\u001b[0m     atrributes_df \u001b[39m=\u001b[39m atrributes_df\u001b[39m.\u001b[39mmerge(curr_df)\n\u001b[1;32m     <a href='vscode-notebook-cell:/Users/villarroelvalentina/Project4/CSV%20Files/csvProcessing.ipynb#W1sZmlsZQ%3D%3D?line=11'>12</a>\u001b[0m \u001b[39melse\u001b[39;00m:\n",
      "File \u001b[0;32m~/anaconda3/lib/python3.10/site-packages/pandas/core/frame.py:9568\u001b[0m, in \u001b[0;36mDataFrame.apply\u001b[0;34m(self, func, axis, raw, result_type, args, **kwargs)\u001b[0m\n\u001b[1;32m   9557\u001b[0m \u001b[39mfrom\u001b[39;00m \u001b[39mpandas\u001b[39;00m\u001b[39m.\u001b[39;00m\u001b[39mcore\u001b[39;00m\u001b[39m.\u001b[39;00m\u001b[39mapply\u001b[39;00m \u001b[39mimport\u001b[39;00m frame_apply\n\u001b[1;32m   9559\u001b[0m op \u001b[39m=\u001b[39m frame_apply(\n\u001b[1;32m   9560\u001b[0m     \u001b[39mself\u001b[39m,\n\u001b[1;32m   9561\u001b[0m     func\u001b[39m=\u001b[39mfunc,\n\u001b[0;32m   (...)\u001b[0m\n\u001b[1;32m   9566\u001b[0m     kwargs\u001b[39m=\u001b[39mkwargs,\n\u001b[1;32m   9567\u001b[0m )\n\u001b[0;32m-> 9568\u001b[0m \u001b[39mreturn\u001b[39;00m op\u001b[39m.\u001b[39;49mapply()\u001b[39m.\u001b[39m__finalize__(\u001b[39mself\u001b[39m, method\u001b[39m=\u001b[39m\u001b[39m\"\u001b[39m\u001b[39mapply\u001b[39m\u001b[39m\"\u001b[39m)\n",
      "File \u001b[0;32m~/anaconda3/lib/python3.10/site-packages/pandas/core/apply.py:764\u001b[0m, in \u001b[0;36mFrameApply.apply\u001b[0;34m(self)\u001b[0m\n\u001b[1;32m    761\u001b[0m \u001b[39melif\u001b[39;00m \u001b[39mself\u001b[39m\u001b[39m.\u001b[39mraw:\n\u001b[1;32m    762\u001b[0m     \u001b[39mreturn\u001b[39;00m \u001b[39mself\u001b[39m\u001b[39m.\u001b[39mapply_raw()\n\u001b[0;32m--> 764\u001b[0m \u001b[39mreturn\u001b[39;00m \u001b[39mself\u001b[39;49m\u001b[39m.\u001b[39;49mapply_standard()\n",
      "File \u001b[0;32m~/anaconda3/lib/python3.10/site-packages/pandas/core/apply.py:891\u001b[0m, in \u001b[0;36mFrameApply.apply_standard\u001b[0;34m(self)\u001b[0m\n\u001b[1;32m    890\u001b[0m \u001b[39mdef\u001b[39;00m \u001b[39mapply_standard\u001b[39m(\u001b[39mself\u001b[39m):\n\u001b[0;32m--> 891\u001b[0m     results, res_index \u001b[39m=\u001b[39m \u001b[39mself\u001b[39;49m\u001b[39m.\u001b[39;49mapply_series_generator()\n\u001b[1;32m    893\u001b[0m     \u001b[39m# wrap results\u001b[39;00m\n\u001b[1;32m    894\u001b[0m     \u001b[39mreturn\u001b[39;00m \u001b[39mself\u001b[39m\u001b[39m.\u001b[39mwrap_results(results, res_index)\n",
      "File \u001b[0;32m~/anaconda3/lib/python3.10/site-packages/pandas/core/apply.py:897\u001b[0m, in \u001b[0;36mFrameApply.apply_series_generator\u001b[0;34m(self)\u001b[0m\n\u001b[1;32m    896\u001b[0m \u001b[39mdef\u001b[39;00m \u001b[39mapply_series_generator\u001b[39m(\u001b[39mself\u001b[39m) \u001b[39m-\u001b[39m\u001b[39m>\u001b[39m \u001b[39mtuple\u001b[39m[ResType, Index]:\n\u001b[0;32m--> 897\u001b[0m     \u001b[39massert\u001b[39;00m callable(\u001b[39mself\u001b[39m\u001b[39m.\u001b[39mf)\n\u001b[1;32m    899\u001b[0m     series_gen \u001b[39m=\u001b[39m \u001b[39mself\u001b[39m\u001b[39m.\u001b[39mseries_generator\n\u001b[1;32m    900\u001b[0m     res_index \u001b[39m=\u001b[39m \u001b[39mself\u001b[39m\u001b[39m.\u001b[39mresult_index\n",
      "\u001b[0;31mAssertionError\u001b[0m: "
     ]
    }
   ],
   "source": [
    "songs_df = pd.read_csv('playlist_dict.csv')\n",
    "atrributes_df = pd.read_csv('audio_features_1.csv')\n",
    "test_files = ['audio_features_2.csv', 'audio_features_3.csv', 'audio_features_4.csv', 'audio_features_5.csv']\n",
    "train_files = []\n",
    "# train_files = ['songs1950s.csv', 'songs1960s.csv', 'songs1970s.csv', 'songs1980s.csv', 'songs1990s.csv', 'songs2000s.csv']\n",
    "for i in range(len(test_files) + len(train_files)):\n",
    "    if i < len(test_files):\n",
    "        curr_df = pd.read_csv(test_files[i])\n",
    "        curr_df['test'] = curr_df.apply(1, axis=1)\n",
    "        atrributes_df = atrributes_df.merge(curr_df)\n",
    "    else:\n",
    "        curr_df = pd.read_csv(train_files[i - len(test_files)])\n",
    "        curr_df['test'] = [0 for j in range(len(curr_df))]\n",
    "        atrributes_df = atrributes_df.merge(curr_df)\n",
    "complete_df = pd.merge(songs_df, atrributes_df, on='id')\n",
    "complete_df.head()"
   ]
  },
  {
   "cell_type": "code",
   "execution_count": 34,
   "metadata": {},
   "outputs": [
    {
     "data": {
      "text/plain": [
       "0"
      ]
     },
     "execution_count": 34,
     "metadata": {},
     "output_type": "execute_result"
    }
   ],
   "source": [
    "len(complete_df[complete_df.duplicated()])"
   ]
  },
  {
   "cell_type": "code",
   "execution_count": 35,
   "metadata": {},
   "outputs": [],
   "source": [
    "complete_df.to_csv('final.csv', index=False)"
   ]
  }
 ],
 "metadata": {
  "kernelspec": {
   "display_name": "base",
   "language": "python",
   "name": "python3"
  },
  "language_info": {
   "codemirror_mode": {
    "name": "ipython",
    "version": 3
   },
   "file_extension": ".py",
   "mimetype": "text/x-python",
   "name": "python",
   "nbconvert_exporter": "python",
   "pygments_lexer": "ipython3",
   "version": "3.10.9"
  }
 },
 "nbformat": 4,
 "nbformat_minor": 2
}
