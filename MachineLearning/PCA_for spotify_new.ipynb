{
 "cells": [
  {
   "cell_type": "code",
   "execution_count": 55,
   "metadata": {},
   "outputs": [],
   "source": [
    "# Import the required libraries and dependencies\n",
    "import pandas as pd\n",
    "import hvplot.pandas\n",
    "import numpy as np\n",
    "from pathlib import Path\n",
    "from sklearn.cluster import KMeans\n",
    "from sklearn.decomposition import PCA\n",
    "from sklearn.preprocessing import StandardScaler"
   ]
  },
  {
   "cell_type": "markdown",
   "metadata": {},
   "source": [
    "### Step 1:  Read in the dataset about the current songs' decades of the playlists."
   ]
  },
  {
   "cell_type": "code",
   "execution_count": 56,
   "metadata": {},
   "outputs": [
    {
     "data": {
      "text/html": [
       "<div>\n",
       "<style scoped>\n",
       "    .dataframe tbody tr th:only-of-type {\n",
       "        vertical-align: middle;\n",
       "    }\n",
       "\n",
       "    .dataframe tbody tr th {\n",
       "        vertical-align: top;\n",
       "    }\n",
       "\n",
       "    .dataframe thead th {\n",
       "        text-align: right;\n",
       "    }\n",
       "</style>\n",
       "<table border=\"1\" class=\"dataframe\">\n",
       "  <thead>\n",
       "    <tr style=\"text-align: right;\">\n",
       "      <th></th>\n",
       "      <th>id</th>\n",
       "      <th>song_name</th>\n",
       "      <th>artist</th>\n",
       "      <th>pic_url</th>\n",
       "      <th>preview_url</th>\n",
       "      <th>release_year</th>\n",
       "      <th>danceability</th>\n",
       "      <th>energy</th>\n",
       "      <th>key</th>\n",
       "      <th>loudness</th>\n",
       "      <th>...</th>\n",
       "      <th>instrumentalness</th>\n",
       "      <th>liveness</th>\n",
       "      <th>valence</th>\n",
       "      <th>tempo</th>\n",
       "      <th>type</th>\n",
       "      <th>uri</th>\n",
       "      <th>track_href</th>\n",
       "      <th>analysis_url</th>\n",
       "      <th>duration_ms</th>\n",
       "      <th>time_signature</th>\n",
       "    </tr>\n",
       "    <tr>\n",
       "      <th>decade</th>\n",
       "      <th></th>\n",
       "      <th></th>\n",
       "      <th></th>\n",
       "      <th></th>\n",
       "      <th></th>\n",
       "      <th></th>\n",
       "      <th></th>\n",
       "      <th></th>\n",
       "      <th></th>\n",
       "      <th></th>\n",
       "      <th></th>\n",
       "      <th></th>\n",
       "      <th></th>\n",
       "      <th></th>\n",
       "      <th></th>\n",
       "      <th></th>\n",
       "      <th></th>\n",
       "      <th></th>\n",
       "      <th></th>\n",
       "      <th></th>\n",
       "      <th></th>\n",
       "    </tr>\n",
       "  </thead>\n",
       "  <tbody>\n",
       "    <tr>\n",
       "      <th>1960</th>\n",
       "      <td>1H5IfYyIIAlgDX8zguUzns</td>\n",
       "      <td>Suspicious Minds</td>\n",
       "      <td>Elvis Presley</td>\n",
       "      <td>https://i.scdn.co/image/ab67616d0000b273fdc0aa...</td>\n",
       "      <td>https://p.scdn.co/mp3-preview/e7072dbcb87f4c8c...</td>\n",
       "      <td>1969</td>\n",
       "      <td>0.487</td>\n",
       "      <td>0.382</td>\n",
       "      <td>7</td>\n",
       "      <td>-10.889</td>\n",
       "      <td>...</td>\n",
       "      <td>0.000005</td>\n",
       "      <td>0.411</td>\n",
       "      <td>0.714</td>\n",
       "      <td>116.557</td>\n",
       "      <td>audio_features</td>\n",
       "      <td>spotify:track:1H5IfYyIIAlgDX8zguUzns</td>\n",
       "      <td>https://api.spotify.com/v1/tracks/1H5IfYyIIAlg...</td>\n",
       "      <td>https://api.spotify.com/v1/audio-analysis/1H5I...</td>\n",
       "      <td>261280</td>\n",
       "      <td>4</td>\n",
       "    </tr>\n",
       "    <tr>\n",
       "      <th>1950</th>\n",
       "      <td>2xar08Fq5xra2KKZs5Bw9j</td>\n",
       "      <td>I've Got a Woman</td>\n",
       "      <td>Ray Charles</td>\n",
       "      <td>https://i.scdn.co/image/ab67616d0000b273f0e951...</td>\n",
       "      <td>https://p.scdn.co/mp3-preview/425d081433204c6d...</td>\n",
       "      <td>1957</td>\n",
       "      <td>0.556</td>\n",
       "      <td>0.610</td>\n",
       "      <td>9</td>\n",
       "      <td>-4.729</td>\n",
       "      <td>...</td>\n",
       "      <td>0.000002</td>\n",
       "      <td>0.258</td>\n",
       "      <td>0.665</td>\n",
       "      <td>199.373</td>\n",
       "      <td>audio_features</td>\n",
       "      <td>spotify:track:2xar08Fq5xra2KKZs5Bw9j</td>\n",
       "      <td>https://api.spotify.com/v1/tracks/2xar08Fq5xra...</td>\n",
       "      <td>https://api.spotify.com/v1/audio-analysis/2xar...</td>\n",
       "      <td>171467</td>\n",
       "      <td>4</td>\n",
       "    </tr>\n",
       "    <tr>\n",
       "      <th>1960</th>\n",
       "      <td>64VP3skE86iTvdOlbzuIcO</td>\n",
       "      <td>Great Balls Of Fire</td>\n",
       "      <td>Jerry Lee Lewis</td>\n",
       "      <td>https://i.scdn.co/image/ab67616d0000b27395788c...</td>\n",
       "      <td>NaN</td>\n",
       "      <td>1961</td>\n",
       "      <td>0.533</td>\n",
       "      <td>0.729</td>\n",
       "      <td>7</td>\n",
       "      <td>-7.227</td>\n",
       "      <td>...</td>\n",
       "      <td>0.000000</td>\n",
       "      <td>0.159</td>\n",
       "      <td>0.884</td>\n",
       "      <td>78.670</td>\n",
       "      <td>audio_features</td>\n",
       "      <td>spotify:track:64VP3skE86iTvdOlbzuIcO</td>\n",
       "      <td>https://api.spotify.com/v1/tracks/64VP3skE86iT...</td>\n",
       "      <td>https://api.spotify.com/v1/audio-analysis/64VP...</td>\n",
       "      <td>111536</td>\n",
       "      <td>4</td>\n",
       "    </tr>\n",
       "    <tr>\n",
       "      <th>1950</th>\n",
       "      <td>6C7aTTCUWRK7dD379yUT3W</td>\n",
       "      <td>Roll Over Beethoven</td>\n",
       "      <td>Chuck Berry</td>\n",
       "      <td>https://i.scdn.co/image/ab67616d0000b273a496dc...</td>\n",
       "      <td>NaN</td>\n",
       "      <td>1959</td>\n",
       "      <td>0.715</td>\n",
       "      <td>0.797</td>\n",
       "      <td>3</td>\n",
       "      <td>-10.154</td>\n",
       "      <td>...</td>\n",
       "      <td>0.000000</td>\n",
       "      <td>0.209</td>\n",
       "      <td>0.841</td>\n",
       "      <td>92.739</td>\n",
       "      <td>audio_features</td>\n",
       "      <td>spotify:track:6C7aTTCUWRK7dD379yUT3W</td>\n",
       "      <td>https://api.spotify.com/v1/tracks/6C7aTTCUWRK7...</td>\n",
       "      <td>https://api.spotify.com/v1/audio-analysis/6C7a...</td>\n",
       "      <td>144600</td>\n",
       "      <td>4</td>\n",
       "    </tr>\n",
       "    <tr>\n",
       "      <th>1950</th>\n",
       "      <td>3YdKJzcoMZMacISlpY4QoP</td>\n",
       "      <td>I Only Have Eyes for You</td>\n",
       "      <td>The Flamingos</td>\n",
       "      <td>https://i.scdn.co/image/ab67616d0000b2731ba2d2...</td>\n",
       "      <td>https://p.scdn.co/mp3-preview/8b14a85d40cb0931...</td>\n",
       "      <td>1959</td>\n",
       "      <td>0.552</td>\n",
       "      <td>0.313</td>\n",
       "      <td>5</td>\n",
       "      <td>-12.410</td>\n",
       "      <td>...</td>\n",
       "      <td>0.001700</td>\n",
       "      <td>0.120</td>\n",
       "      <td>0.303</td>\n",
       "      <td>88.554</td>\n",
       "      <td>audio_features</td>\n",
       "      <td>spotify:track:3YdKJzcoMZMacISlpY4QoP</td>\n",
       "      <td>https://api.spotify.com/v1/tracks/3YdKJzcoMZMa...</td>\n",
       "      <td>https://api.spotify.com/v1/audio-analysis/3YdK...</td>\n",
       "      <td>202773</td>\n",
       "      <td>3</td>\n",
       "    </tr>\n",
       "  </tbody>\n",
       "</table>\n",
       "<p>5 rows × 23 columns</p>\n",
       "</div>"
      ],
      "text/plain": [
       "                            id                 song_name           artist  \\\n",
       "decade                                                                      \n",
       "1960    1H5IfYyIIAlgDX8zguUzns          Suspicious Minds    Elvis Presley   \n",
       "1950    2xar08Fq5xra2KKZs5Bw9j          I've Got a Woman      Ray Charles   \n",
       "1960    64VP3skE86iTvdOlbzuIcO       Great Balls Of Fire  Jerry Lee Lewis   \n",
       "1950    6C7aTTCUWRK7dD379yUT3W       Roll Over Beethoven      Chuck Berry   \n",
       "1950    3YdKJzcoMZMacISlpY4QoP  I Only Have Eyes for You    The Flamingos   \n",
       "\n",
       "                                                  pic_url  \\\n",
       "decade                                                      \n",
       "1960    https://i.scdn.co/image/ab67616d0000b273fdc0aa...   \n",
       "1950    https://i.scdn.co/image/ab67616d0000b273f0e951...   \n",
       "1960    https://i.scdn.co/image/ab67616d0000b27395788c...   \n",
       "1950    https://i.scdn.co/image/ab67616d0000b273a496dc...   \n",
       "1950    https://i.scdn.co/image/ab67616d0000b2731ba2d2...   \n",
       "\n",
       "                                              preview_url  release_year  \\\n",
       "decade                                                                    \n",
       "1960    https://p.scdn.co/mp3-preview/e7072dbcb87f4c8c...          1969   \n",
       "1950    https://p.scdn.co/mp3-preview/425d081433204c6d...          1957   \n",
       "1960                                                  NaN          1961   \n",
       "1950                                                  NaN          1959   \n",
       "1950    https://p.scdn.co/mp3-preview/8b14a85d40cb0931...          1959   \n",
       "\n",
       "        danceability  energy  key  loudness  ...  instrumentalness  liveness  \\\n",
       "decade                                       ...                               \n",
       "1960           0.487   0.382    7   -10.889  ...          0.000005     0.411   \n",
       "1950           0.556   0.610    9    -4.729  ...          0.000002     0.258   \n",
       "1960           0.533   0.729    7    -7.227  ...          0.000000     0.159   \n",
       "1950           0.715   0.797    3   -10.154  ...          0.000000     0.209   \n",
       "1950           0.552   0.313    5   -12.410  ...          0.001700     0.120   \n",
       "\n",
       "        valence    tempo            type  \\\n",
       "decade                                     \n",
       "1960      0.714  116.557  audio_features   \n",
       "1950      0.665  199.373  audio_features   \n",
       "1960      0.884   78.670  audio_features   \n",
       "1950      0.841   92.739  audio_features   \n",
       "1950      0.303   88.554  audio_features   \n",
       "\n",
       "                                         uri  \\\n",
       "decade                                         \n",
       "1960    spotify:track:1H5IfYyIIAlgDX8zguUzns   \n",
       "1950    spotify:track:2xar08Fq5xra2KKZs5Bw9j   \n",
       "1960    spotify:track:64VP3skE86iTvdOlbzuIcO   \n",
       "1950    spotify:track:6C7aTTCUWRK7dD379yUT3W   \n",
       "1950    spotify:track:3YdKJzcoMZMacISlpY4QoP   \n",
       "\n",
       "                                               track_href  \\\n",
       "decade                                                      \n",
       "1960    https://api.spotify.com/v1/tracks/1H5IfYyIIAlg...   \n",
       "1950    https://api.spotify.com/v1/tracks/2xar08Fq5xra...   \n",
       "1960    https://api.spotify.com/v1/tracks/64VP3skE86iT...   \n",
       "1950    https://api.spotify.com/v1/tracks/6C7aTTCUWRK7...   \n",
       "1950    https://api.spotify.com/v1/tracks/3YdKJzcoMZMa...   \n",
       "\n",
       "                                             analysis_url duration_ms  \\\n",
       "decade                                                                  \n",
       "1960    https://api.spotify.com/v1/audio-analysis/1H5I...      261280   \n",
       "1950    https://api.spotify.com/v1/audio-analysis/2xar...      171467   \n",
       "1960    https://api.spotify.com/v1/audio-analysis/64VP...      111536   \n",
       "1950    https://api.spotify.com/v1/audio-analysis/6C7a...      144600   \n",
       "1950    https://api.spotify.com/v1/audio-analysis/3YdK...      202773   \n",
       "\n",
       "       time_signature  \n",
       "decade                 \n",
       "1960                4  \n",
       "1950                4  \n",
       "1960                4  \n",
       "1950                4  \n",
       "1950                3  \n",
       "\n",
       "[5 rows x 23 columns]"
      ]
     },
     "execution_count": 56,
     "metadata": {},
     "output_type": "execute_result"
    }
   ],
   "source": [
    "# Read the CSV file into a Pandas DataFrame\n",
    "# Set the index using the Ticker column\n",
    "songs_df = pd.read_csv(\n",
    "    Path(\"../final project/Database/final.csv\"),                \n",
    "    index_col=\"decade\"\n",
    ")\n",
    "\n",
    "# Review the DataFrame\n",
    "songs_df.head()"
   ]
  },
  {
   "cell_type": "code",
   "execution_count": 57,
   "metadata": {},
   "outputs": [
    {
     "data": {
      "text/plain": [
       "(1911, 23)"
      ]
     },
     "execution_count": 57,
     "metadata": {},
     "output_type": "execute_result"
    }
   ],
   "source": [
    "songs_df.shape"
   ]
  },
  {
   "cell_type": "code",
   "execution_count": 58,
   "metadata": {},
   "outputs": [
    {
     "data": {
      "text/plain": [
       "(1810, 13)"
      ]
     },
     "execution_count": 58,
     "metadata": {},
     "output_type": "execute_result"
    }
   ],
   "source": [
    "songs_df.drop(songs_df[(songs_df['release_year'] <1950)].index, inplace=True)\n",
    "songs_df = songs_df.drop(columns=['id', 'song_name', 'artist', 'pic_url', 'preview_url', 'release_year', 'type', 'uri', 'track_href', 'analysis_url'])\n",
    "songs_df = songs_df.dropna()\n",
    "songs_df.shape"
   ]
  },
  {
   "cell_type": "markdown",
   "metadata": {},
   "source": [
    "### Step 2: Scale the `songs_df` DataFrame and create a new DataFrame that contains the scaled data. "
   ]
  },
  {
   "cell_type": "code",
   "execution_count": 59,
   "metadata": {},
   "outputs": [],
   "source": [
    "# Scale the attribute values\n",
    "songs_scaled = StandardScaler().fit_transform(\n",
    "    songs_df[[\"danceability\", \"energy\", \"key\", \"loudness\", \"liveness\", \"valence\", \"tempo\", \"duration_ms\", \"acousticness\"]]\n",
    ")"
   ]
  },
  {
   "cell_type": "code",
   "execution_count": 60,
   "metadata": {},
   "outputs": [
    {
     "data": {
      "text/html": [
       "<div>\n",
       "<style scoped>\n",
       "    .dataframe tbody tr th:only-of-type {\n",
       "        vertical-align: middle;\n",
       "    }\n",
       "\n",
       "    .dataframe tbody tr th {\n",
       "        vertical-align: top;\n",
       "    }\n",
       "\n",
       "    .dataframe thead th {\n",
       "        text-align: right;\n",
       "    }\n",
       "</style>\n",
       "<table border=\"1\" class=\"dataframe\">\n",
       "  <thead>\n",
       "    <tr style=\"text-align: right;\">\n",
       "      <th></th>\n",
       "      <th>danceability</th>\n",
       "      <th>energy</th>\n",
       "      <th>key</th>\n",
       "      <th>loudness</th>\n",
       "      <th>liveness</th>\n",
       "      <th>valence</th>\n",
       "      <th>tempo</th>\n",
       "      <th>duration_ms</th>\n",
       "      <th>acousticness</th>\n",
       "    </tr>\n",
       "    <tr>\n",
       "      <th>decade</th>\n",
       "      <th></th>\n",
       "      <th></th>\n",
       "      <th></th>\n",
       "      <th></th>\n",
       "      <th></th>\n",
       "      <th></th>\n",
       "      <th></th>\n",
       "      <th></th>\n",
       "      <th></th>\n",
       "    </tr>\n",
       "  </thead>\n",
       "  <tbody>\n",
       "    <tr>\n",
       "      <th>1960</th>\n",
       "      <td>-0.662204</td>\n",
       "      <td>-1.027207</td>\n",
       "      <td>0.506439</td>\n",
       "      <td>-0.504184</td>\n",
       "      <td>1.717403</td>\n",
       "      <td>0.363120</td>\n",
       "      <td>-0.141088</td>\n",
       "      <td>0.585506</td>\n",
       "      <td>-0.894323</td>\n",
       "    </tr>\n",
       "    <tr>\n",
       "      <th>1950</th>\n",
       "      <td>-0.202466</td>\n",
       "      <td>-0.021973</td>\n",
       "      <td>1.069496</td>\n",
       "      <td>1.134323</td>\n",
       "      <td>0.607338</td>\n",
       "      <td>0.161596</td>\n",
       "      <td>2.778500</td>\n",
       "      <td>-0.725674</td>\n",
       "      <td>1.656623</td>\n",
       "    </tr>\n",
       "    <tr>\n",
       "      <th>1960</th>\n",
       "      <td>-0.355712</td>\n",
       "      <td>0.502689</td>\n",
       "      <td>0.506439</td>\n",
       "      <td>0.469877</td>\n",
       "      <td>-0.110940</td>\n",
       "      <td>1.062285</td>\n",
       "      <td>-1.476754</td>\n",
       "      <td>-1.600606</td>\n",
       "      <td>0.785663</td>\n",
       "    </tr>\n",
       "    <tr>\n",
       "      <th>1950</th>\n",
       "      <td>0.856928</td>\n",
       "      <td>0.802496</td>\n",
       "      <td>-0.619673</td>\n",
       "      <td>-0.308680</td>\n",
       "      <td>0.251826</td>\n",
       "      <td>0.885437</td>\n",
       "      <td>-0.980766</td>\n",
       "      <td>-1.117905</td>\n",
       "      <td>1.669526</td>\n",
       "    </tr>\n",
       "    <tr>\n",
       "      <th>1950</th>\n",
       "      <td>-0.229118</td>\n",
       "      <td>-1.331423</td>\n",
       "      <td>-0.056617</td>\n",
       "      <td>-0.908757</td>\n",
       "      <td>-0.393898</td>\n",
       "      <td>-1.327214</td>\n",
       "      <td>-1.128304</td>\n",
       "      <td>-0.268637</td>\n",
       "      <td>1.924362</td>\n",
       "    </tr>\n",
       "  </tbody>\n",
       "</table>\n",
       "</div>"
      ],
      "text/plain": [
       "        danceability    energy       key  loudness  liveness   valence  \\\n",
       "decade                                                                   \n",
       "1960       -0.662204 -1.027207  0.506439 -0.504184  1.717403  0.363120   \n",
       "1950       -0.202466 -0.021973  1.069496  1.134323  0.607338  0.161596   \n",
       "1960       -0.355712  0.502689  0.506439  0.469877 -0.110940  1.062285   \n",
       "1950        0.856928  0.802496 -0.619673 -0.308680  0.251826  0.885437   \n",
       "1950       -0.229118 -1.331423 -0.056617 -0.908757 -0.393898 -1.327214   \n",
       "\n",
       "           tempo  duration_ms  acousticness  \n",
       "decade                                       \n",
       "1960   -0.141088     0.585506     -0.894323  \n",
       "1950    2.778500    -0.725674      1.656623  \n",
       "1960   -1.476754    -1.600606      0.785663  \n",
       "1950   -0.980766    -1.117905      1.669526  \n",
       "1950   -1.128304    -0.268637      1.924362  "
      ]
     },
     "execution_count": 60,
     "metadata": {},
     "output_type": "execute_result"
    }
   ],
   "source": [
    "# Create a DataFrame with the scaled data\n",
    "songs_scaled = pd.DataFrame(\n",
    "    songs_scaled,\n",
    "    columns=[\"danceability\", \"energy\", \"key\", \"loudness\", \"liveness\", \"valence\", \"tempo\", \"duration_ms\", \"acousticness\"]\n",
    ")\n",
    "\n",
    "# Copy the tickers names from the original data\n",
    "songs_scaled[\"decade\"] = songs_df.index\n",
    "\n",
    "# Set the Ticker column as index\n",
    "songs_scaled = songs_scaled.set_index(\"decade\")\n",
    "\n",
    "# Display sample data\n",
    "songs_scaled.head()"
   ]
  },
  {
   "cell_type": "markdown",
   "metadata": {},
   "source": [
    "### Step 3: Initialize the K-means model with three clusters and then fit the `songs_scaled` DataFrame to the model."
   ]
  },
  {
   "cell_type": "code",
   "execution_count": 61,
   "metadata": {},
   "outputs": [],
   "source": [
    "# Initialize the K-Means model with n_clusters=4\n",
    "model = KMeans(n_clusters=4)"
   ]
  },
  {
   "cell_type": "code",
   "execution_count": 62,
   "metadata": {},
   "outputs": [
    {
     "name": "stderr",
     "output_type": "stream",
     "text": [
      "c:\\Users\\roxan\\anaconda3\\lib\\site-packages\\sklearn\\cluster\\_kmeans.py:1412: FutureWarning: The default value of `n_init` will change from 10 to 'auto' in 1.4. Set the value of `n_init` explicitly to suppress the warning\n",
      "  super()._check_params_vs_input(X, default_n_init=10)\n",
      "c:\\Users\\roxan\\anaconda3\\lib\\site-packages\\sklearn\\cluster\\_kmeans.py:1436: UserWarning: KMeans is known to have a memory leak on Windows with MKL, when there are less chunks than available threads. You can avoid it by setting the environment variable OMP_NUM_THREADS=8.\n",
      "  warnings.warn(\n"
     ]
    },
    {
     "data": {
      "text/html": [
       "<style>#sk-container-id-4 {color: black;}#sk-container-id-4 pre{padding: 0;}#sk-container-id-4 div.sk-toggleable {background-color: white;}#sk-container-id-4 label.sk-toggleable__label {cursor: pointer;display: block;width: 100%;margin-bottom: 0;padding: 0.3em;box-sizing: border-box;text-align: center;}#sk-container-id-4 label.sk-toggleable__label-arrow:before {content: \"▸\";float: left;margin-right: 0.25em;color: #696969;}#sk-container-id-4 label.sk-toggleable__label-arrow:hover:before {color: black;}#sk-container-id-4 div.sk-estimator:hover label.sk-toggleable__label-arrow:before {color: black;}#sk-container-id-4 div.sk-toggleable__content {max-height: 0;max-width: 0;overflow: hidden;text-align: left;background-color: #f0f8ff;}#sk-container-id-4 div.sk-toggleable__content pre {margin: 0.2em;color: black;border-radius: 0.25em;background-color: #f0f8ff;}#sk-container-id-4 input.sk-toggleable__control:checked~div.sk-toggleable__content {max-height: 200px;max-width: 100%;overflow: auto;}#sk-container-id-4 input.sk-toggleable__control:checked~label.sk-toggleable__label-arrow:before {content: \"▾\";}#sk-container-id-4 div.sk-estimator input.sk-toggleable__control:checked~label.sk-toggleable__label {background-color: #d4ebff;}#sk-container-id-4 div.sk-label input.sk-toggleable__control:checked~label.sk-toggleable__label {background-color: #d4ebff;}#sk-container-id-4 input.sk-hidden--visually {border: 0;clip: rect(1px 1px 1px 1px);clip: rect(1px, 1px, 1px, 1px);height: 1px;margin: -1px;overflow: hidden;padding: 0;position: absolute;width: 1px;}#sk-container-id-4 div.sk-estimator {font-family: monospace;background-color: #f0f8ff;border: 1px dotted black;border-radius: 0.25em;box-sizing: border-box;margin-bottom: 0.5em;}#sk-container-id-4 div.sk-estimator:hover {background-color: #d4ebff;}#sk-container-id-4 div.sk-parallel-item::after {content: \"\";width: 100%;border-bottom: 1px solid gray;flex-grow: 1;}#sk-container-id-4 div.sk-label:hover label.sk-toggleable__label {background-color: #d4ebff;}#sk-container-id-4 div.sk-serial::before {content: \"\";position: absolute;border-left: 1px solid gray;box-sizing: border-box;top: 0;bottom: 0;left: 50%;z-index: 0;}#sk-container-id-4 div.sk-serial {display: flex;flex-direction: column;align-items: center;background-color: white;padding-right: 0.2em;padding-left: 0.2em;position: relative;}#sk-container-id-4 div.sk-item {position: relative;z-index: 1;}#sk-container-id-4 div.sk-parallel {display: flex;align-items: stretch;justify-content: center;background-color: white;position: relative;}#sk-container-id-4 div.sk-item::before, #sk-container-id-4 div.sk-parallel-item::before {content: \"\";position: absolute;border-left: 1px solid gray;box-sizing: border-box;top: 0;bottom: 0;left: 50%;z-index: -1;}#sk-container-id-4 div.sk-parallel-item {display: flex;flex-direction: column;z-index: 1;position: relative;background-color: white;}#sk-container-id-4 div.sk-parallel-item:first-child::after {align-self: flex-end;width: 50%;}#sk-container-id-4 div.sk-parallel-item:last-child::after {align-self: flex-start;width: 50%;}#sk-container-id-4 div.sk-parallel-item:only-child::after {width: 0;}#sk-container-id-4 div.sk-dashed-wrapped {border: 1px dashed gray;margin: 0 0.4em 0.5em 0.4em;box-sizing: border-box;padding-bottom: 0.4em;background-color: white;}#sk-container-id-4 div.sk-label label {font-family: monospace;font-weight: bold;display: inline-block;line-height: 1.2em;}#sk-container-id-4 div.sk-label-container {text-align: center;}#sk-container-id-4 div.sk-container {/* jupyter's `normalize.less` sets `[hidden] { display: none; }` but bootstrap.min.css set `[hidden] { display: none !important; }` so we also need the `!important` here to be able to override the default hidden behavior on the sphinx rendered scikit-learn.org. See: https://github.com/scikit-learn/scikit-learn/issues/21755 */display: inline-block !important;position: relative;}#sk-container-id-4 div.sk-text-repr-fallback {display: none;}</style><div id=\"sk-container-id-4\" class=\"sk-top-container\"><div class=\"sk-text-repr-fallback\"><pre>KMeans(n_clusters=4)</pre><b>In a Jupyter environment, please rerun this cell to show the HTML representation or trust the notebook. <br />On GitHub, the HTML representation is unable to render, please try loading this page with nbviewer.org.</b></div><div class=\"sk-container\" hidden><div class=\"sk-item\"><div class=\"sk-estimator sk-toggleable\"><input class=\"sk-toggleable__control sk-hidden--visually\" id=\"sk-estimator-id-4\" type=\"checkbox\" checked><label for=\"sk-estimator-id-4\" class=\"sk-toggleable__label sk-toggleable__label-arrow\">KMeans</label><div class=\"sk-toggleable__content\"><pre>KMeans(n_clusters=4)</pre></div></div></div></div></div>"
      ],
      "text/plain": [
       "KMeans(n_clusters=4)"
      ]
     },
     "execution_count": 62,
     "metadata": {},
     "output_type": "execute_result"
    }
   ],
   "source": [
    "# Fit the model for the songs_scaled_scaled DataFrame\n",
    "model.fit(songs_scaled)"
   ]
  },
  {
   "cell_type": "markdown",
   "metadata": {},
   "source": [
    "### Step 4. Predict the clusters and then create a new DataFrame with the predicted clusters."
   ]
  },
  {
   "cell_type": "code",
   "execution_count": 63,
   "metadata": {},
   "outputs": [
    {
     "name": "stdout",
     "output_type": "stream",
     "text": [
      "[1 1 3 ... 3 3 1]\n"
     ]
    }
   ],
   "source": [
    "# Predict the model segments (clusters)\n",
    "songs_clusters = model.predict(songs_scaled)\n",
    "\n",
    "# View the song segments\n",
    "print(songs_clusters)"
   ]
  },
  {
   "cell_type": "code",
   "execution_count": 64,
   "metadata": {},
   "outputs": [
    {
     "data": {
      "text/html": [
       "<div>\n",
       "<style scoped>\n",
       "    .dataframe tbody tr th:only-of-type {\n",
       "        vertical-align: middle;\n",
       "    }\n",
       "\n",
       "    .dataframe tbody tr th {\n",
       "        vertical-align: top;\n",
       "    }\n",
       "\n",
       "    .dataframe thead th {\n",
       "        text-align: right;\n",
       "    }\n",
       "</style>\n",
       "<table border=\"1\" class=\"dataframe\">\n",
       "  <thead>\n",
       "    <tr style=\"text-align: right;\">\n",
       "      <th></th>\n",
       "      <th>danceability</th>\n",
       "      <th>energy</th>\n",
       "      <th>key</th>\n",
       "      <th>loudness</th>\n",
       "      <th>liveness</th>\n",
       "      <th>valence</th>\n",
       "      <th>tempo</th>\n",
       "      <th>duration_ms</th>\n",
       "      <th>acousticness</th>\n",
       "      <th>SongCluster</th>\n",
       "    </tr>\n",
       "    <tr>\n",
       "      <th>decade</th>\n",
       "      <th></th>\n",
       "      <th></th>\n",
       "      <th></th>\n",
       "      <th></th>\n",
       "      <th></th>\n",
       "      <th></th>\n",
       "      <th></th>\n",
       "      <th></th>\n",
       "      <th></th>\n",
       "      <th></th>\n",
       "    </tr>\n",
       "  </thead>\n",
       "  <tbody>\n",
       "    <tr>\n",
       "      <th>1960</th>\n",
       "      <td>-0.662204</td>\n",
       "      <td>-1.027207</td>\n",
       "      <td>0.506439</td>\n",
       "      <td>-0.504184</td>\n",
       "      <td>1.717403</td>\n",
       "      <td>0.363120</td>\n",
       "      <td>-0.141088</td>\n",
       "      <td>0.585506</td>\n",
       "      <td>-0.894323</td>\n",
       "      <td>1</td>\n",
       "    </tr>\n",
       "    <tr>\n",
       "      <th>1950</th>\n",
       "      <td>-0.202466</td>\n",
       "      <td>-0.021973</td>\n",
       "      <td>1.069496</td>\n",
       "      <td>1.134323</td>\n",
       "      <td>0.607338</td>\n",
       "      <td>0.161596</td>\n",
       "      <td>2.778500</td>\n",
       "      <td>-0.725674</td>\n",
       "      <td>1.656623</td>\n",
       "      <td>1</td>\n",
       "    </tr>\n",
       "    <tr>\n",
       "      <th>1960</th>\n",
       "      <td>-0.355712</td>\n",
       "      <td>0.502689</td>\n",
       "      <td>0.506439</td>\n",
       "      <td>0.469877</td>\n",
       "      <td>-0.110940</td>\n",
       "      <td>1.062285</td>\n",
       "      <td>-1.476754</td>\n",
       "      <td>-1.600606</td>\n",
       "      <td>0.785663</td>\n",
       "      <td>3</td>\n",
       "    </tr>\n",
       "    <tr>\n",
       "      <th>1950</th>\n",
       "      <td>0.856928</td>\n",
       "      <td>0.802496</td>\n",
       "      <td>-0.619673</td>\n",
       "      <td>-0.308680</td>\n",
       "      <td>0.251826</td>\n",
       "      <td>0.885437</td>\n",
       "      <td>-0.980766</td>\n",
       "      <td>-1.117905</td>\n",
       "      <td>1.669526</td>\n",
       "      <td>3</td>\n",
       "    </tr>\n",
       "    <tr>\n",
       "      <th>1950</th>\n",
       "      <td>-0.229118</td>\n",
       "      <td>-1.331423</td>\n",
       "      <td>-0.056617</td>\n",
       "      <td>-0.908757</td>\n",
       "      <td>-0.393898</td>\n",
       "      <td>-1.327214</td>\n",
       "      <td>-1.128304</td>\n",
       "      <td>-0.268637</td>\n",
       "      <td>1.924362</td>\n",
       "      <td>2</td>\n",
       "    </tr>\n",
       "  </tbody>\n",
       "</table>\n",
       "</div>"
      ],
      "text/plain": [
       "        danceability    energy       key  loudness  liveness   valence  \\\n",
       "decade                                                                   \n",
       "1960       -0.662204 -1.027207  0.506439 -0.504184  1.717403  0.363120   \n",
       "1950       -0.202466 -0.021973  1.069496  1.134323  0.607338  0.161596   \n",
       "1960       -0.355712  0.502689  0.506439  0.469877 -0.110940  1.062285   \n",
       "1950        0.856928  0.802496 -0.619673 -0.308680  0.251826  0.885437   \n",
       "1950       -0.229118 -1.331423 -0.056617 -0.908757 -0.393898 -1.327214   \n",
       "\n",
       "           tempo  duration_ms  acousticness  SongCluster  \n",
       "decade                                                    \n",
       "1960   -0.141088     0.585506     -0.894323            1  \n",
       "1950    2.778500    -0.725674      1.656623            1  \n",
       "1960   -1.476754    -1.600606      0.785663            3  \n",
       "1950   -0.980766    -1.117905      1.669526            3  \n",
       "1950   -1.128304    -0.268637      1.924362            2  "
      ]
     },
     "execution_count": 64,
     "metadata": {},
     "output_type": "execute_result"
    }
   ],
   "source": [
    "# Create a new column in the DataFrame with the predicted clusters\n",
    "songs_scaled[\"SongCluster\"] = songs_clusters\n",
    "\n",
    "# Review the DataFrame\n",
    "songs_scaled.head()"
   ]
  },
  {
   "cell_type": "markdown",
   "metadata": {},
   "source": [
    "### Step 5: Create a scatter plot to visualize the \"SongCluster\" using  \"danceability\" as the x-variable and \"energy\" as the y-variable.  Be sure to style and format your plot."
   ]
  },
  {
   "cell_type": "code",
   "execution_count": 65,
   "metadata": {},
   "outputs": [
    {
     "data": {},
     "metadata": {},
     "output_type": "display_data"
    },
    {
     "data": {
      "application/vnd.holoviews_exec.v0+json": "",
      "text/html": [
       "<div id='p1424'>\n",
       "  <div id=\"b7db6227-d8f7-4582-b327-0f8dcdc1c95d\" data-root-id=\"p1424\" style=\"display: contents;\"></div>\n",
       "</div>\n",
       "<script type=\"application/javascript\">(function(root) {\n",
       "  var docs_json = {\"222c8a9c-20a6-4154-bc7d-cad89410d99a\":{\"version\":\"3.2.1\",\"title\":\"Bokeh Application\",\"roots\":[{\"type\":\"object\",\"name\":\"Row\",\"id\":\"p1424\",\"attributes\":{\"name\":\"Row01881\",\"tags\":[\"embedded\"],\"stylesheets\":[\"\\n:host(.pn-loading.pn-arc):before, .pn-loading.pn-arc:before {\\n  background-image: url(\\\"data:image/svg+xml;base64,PHN2ZyB4bWxucz0iaHR0cDovL3d3dy53My5vcmcvMjAwMC9zdmciIHN0eWxlPSJtYXJnaW46IGF1dG87IGJhY2tncm91bmQ6IG5vbmU7IGRpc3BsYXk6IGJsb2NrOyBzaGFwZS1yZW5kZXJpbmc6IGF1dG87IiB2aWV3Qm94PSIwIDAgMTAwIDEwMCIgcHJlc2VydmVBc3BlY3RSYXRpbz0ieE1pZFlNaWQiPiAgPGNpcmNsZSBjeD0iNTAiIGN5PSI1MCIgZmlsbD0ibm9uZSIgc3Ryb2tlPSIjYzNjM2MzIiBzdHJva2Utd2lkdGg9IjEwIiByPSIzNSIgc3Ryb2tlLWRhc2hhcnJheT0iMTY0LjkzMzYxNDMxMzQ2NDE1IDU2Ljk3Nzg3MTQzNzgyMTM4Ij4gICAgPGFuaW1hdGVUcmFuc2Zvcm0gYXR0cmlidXRlTmFtZT0idHJhbnNmb3JtIiB0eXBlPSJyb3RhdGUiIHJlcGVhdENvdW50PSJpbmRlZmluaXRlIiBkdXI9IjFzIiB2YWx1ZXM9IjAgNTAgNTA7MzYwIDUwIDUwIiBrZXlUaW1lcz0iMDsxIj48L2FuaW1hdGVUcmFuc2Zvcm0+ICA8L2NpcmNsZT48L3N2Zz4=\\\");\\n  background-size: auto calc(min(50%, 400px));\\n}\",{\"type\":\"object\",\"name\":\"ImportedStyleSheet\",\"id\":\"p1427\",\"attributes\":{\"url\":\"https://cdn.holoviz.org/panel/1.2.3/dist/css/loading.css\"}},{\"type\":\"object\",\"name\":\"ImportedStyleSheet\",\"id\":\"p1532\",\"attributes\":{\"url\":\"https://cdn.holoviz.org/panel/1.2.3/dist/css/listpanel.css\"}},{\"type\":\"object\",\"name\":\"ImportedStyleSheet\",\"id\":\"p1425\",\"attributes\":{\"url\":\"https://cdn.holoviz.org/panel/1.2.3/dist/bundled/theme/default.css\"}},{\"type\":\"object\",\"name\":\"ImportedStyleSheet\",\"id\":\"p1426\",\"attributes\":{\"url\":\"https://cdn.holoviz.org/panel/1.2.3/dist/bundled/theme/native.css\"}}],\"min_width\":700,\"margin\":0,\"sizing_mode\":\"stretch_width\",\"align\":\"start\",\"children\":[{\"type\":\"object\",\"name\":\"Spacer\",\"id\":\"p1428\",\"attributes\":{\"name\":\"HSpacer01892\",\"stylesheets\":[\"\\n:host(.pn-loading.pn-arc):before, .pn-loading.pn-arc:before {\\n  background-image: url(\\\"data:image/svg+xml;base64,PHN2ZyB4bWxucz0iaHR0cDovL3d3dy53My5vcmcvMjAwMC9zdmciIHN0eWxlPSJtYXJnaW46IGF1dG87IGJhY2tncm91bmQ6IG5vbmU7IGRpc3BsYXk6IGJsb2NrOyBzaGFwZS1yZW5kZXJpbmc6IGF1dG87IiB2aWV3Qm94PSIwIDAgMTAwIDEwMCIgcHJlc2VydmVBc3BlY3RSYXRpbz0ieE1pZFlNaWQiPiAgPGNpcmNsZSBjeD0iNTAiIGN5PSI1MCIgZmlsbD0ibm9uZSIgc3Ryb2tlPSIjYzNjM2MzIiBzdHJva2Utd2lkdGg9IjEwIiByPSIzNSIgc3Ryb2tlLWRhc2hhcnJheT0iMTY0LjkzMzYxNDMxMzQ2NDE1IDU2Ljk3Nzg3MTQzNzgyMTM4Ij4gICAgPGFuaW1hdGVUcmFuc2Zvcm0gYXR0cmlidXRlTmFtZT0idHJhbnNmb3JtIiB0eXBlPSJyb3RhdGUiIHJlcGVhdENvdW50PSJpbmRlZmluaXRlIiBkdXI9IjFzIiB2YWx1ZXM9IjAgNTAgNTA7MzYwIDUwIDUwIiBrZXlUaW1lcz0iMDsxIj48L2FuaW1hdGVUcmFuc2Zvcm0+ICA8L2NpcmNsZT48L3N2Zz4=\\\");\\n  background-size: auto calc(min(50%, 400px));\\n}\",{\"id\":\"p1427\"},{\"id\":\"p1425\"},{\"id\":\"p1426\"}],\"margin\":0,\"sizing_mode\":\"stretch_width\",\"align\":\"start\"}},{\"type\":\"object\",\"name\":\"Figure\",\"id\":\"p1445\",\"attributes\":{\"width\":700,\"height\":300,\"margin\":[5,10],\"sizing_mode\":\"fixed\",\"align\":\"start\",\"x_range\":{\"type\":\"object\",\"name\":\"Range1d\",\"id\":\"p1429\",\"attributes\":{\"tags\":[[[\"acousticness\",\"acousticness\",null]],[]],\"start\":-1.1673069473876512,\"end\":2.2999347209617587,\"reset_start\":-1.1673069473876512,\"reset_end\":2.2999347209617587}},\"y_range\":{\"type\":\"object\",\"name\":\"Range1d\",\"id\":\"p1430\",\"attributes\":{\"tags\":[[[\"energy\",\"energy\",null]],{\"type\":\"map\",\"entries\":[[\"invert_yaxis\",false],[\"autorange\",false]]}],\"start\":-3.1152031374057283,\"end\":2.130216679667791,\"reset_start\":-3.1152031374057283,\"reset_end\":2.130216679667791}},\"x_scale\":{\"type\":\"object\",\"name\":\"LinearScale\",\"id\":\"p1455\"},\"y_scale\":{\"type\":\"object\",\"name\":\"LinearScale\",\"id\":\"p1456\"},\"title\":{\"type\":\"object\",\"name\":\"Title\",\"id\":\"p1448\",\"attributes\":{\"text\":\"Scatter Plot by Songs - k=4\",\"text_color\":\"black\",\"text_font_size\":\"12pt\"}},\"renderers\":[{\"type\":\"object\",\"name\":\"GlyphRenderer\",\"id\":\"p1481\",\"attributes\":{\"name\":\"0\",\"data_source\":{\"type\":\"object\",\"name\":\"ColumnDataSource\",\"id\":\"p1472\",\"attributes\":{\"selected\":{\"type\":\"object\",\"name\":\"Selection\",\"id\":\"p1473\",\"attributes\":{\"indices\":[],\"line_indices\":[]}},\"selection_policy\":{\"type\":\"object\",\"name\":\"UnionRenderers\",\"id\":\"p1474\"},\"data\":{\"type\":\"map\",\"entries\":[[\"acousticness\",{\"type\":\"ndarray\",\"array\":{\"type\":\"bytes\",\"data\":\"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\"},\"shape\":[417],\"dtype\":\"float64\",\"order\":\"little\"}],[\"energy\",{\"type\":\"ndarray\",\"array\":{\"type\":\"bytes\",\"data\":\"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\"},\"shape\":[417],\"dtype\":\"float64\",\"order\":\"little\"}],[\"decade\",{\"type\":\"ndarray\",\"array\":{\"type\":\"bytes\",\"data\":\"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\"},\"shape\":[417],\"dtype\":\"int32\",\"order\":\"little\"}],[\"SongCluster\",[0,0,0,0,0,0,0,0,0,0,0,0,0,0,0,0,0,0,0,0,0,0,0,0,0,0,0,0,0,0,0,0,0,0,0,0,0,0,0,0,0,0,0,0,0,0,0,0,0,0,0,0,0,0,0,0,0,0,0,0,0,0,0,0,0,0,0,0,0,0,0,0,0,0,0,0,0,0,0,0,0,0,0,0,0,0,0,0,0,0,0,0,0,0,0,0,0,0,0,0,0,0,0,0,0,0,0,0,0,0,0,0,0,0,0,0,0,0,0,0,0,0,0,0,0,0,0,0,0,0,0,0,0,0,0,0,0,0,0,0,0,0,0,0,0,0,0,0,0,0,0,0,0,0,0,0,0,0,0,0,0,0,0,0,0,0,0,0,0,0,0,0,0,0,0,0,0,0,0,0,0,0,0,0,0,0,0,0,0,0,0,0,0,0,0,0,0,0,0,0,0,0,0,0,0,0,0,0,0,0,0,0,0,0,0,0,0,0,0,0,0,0,0,0,0,0,0,0,0,0,0,0,0,0,0,0,0,0,0,0,0,0,0,0,0,0,0,0,0,0,0,0,0,0,0,0,0,0,0,0,0,0,0,0,0,0,0,0,0,0,0,0,0,0,0,0,0,0,0,0,0,0,0,0,0,0,0,0,0,0,0,0,0,0,0,0,0,0,0,0,0,0,0,0,0,0,0,0,0,0,0,0,0,0,0,0,0,0,0,0,0,0,0,0,0,0,0,0,0,0,0,0,0,0,0,0,0,0,0,0,0,0,0,0,0,0,0,0,0,0,0,0,0,0,0,0,0,0,0,0,0,0,0,0,0,0,0,0,0,0,0,0,0,0,0,0,0,0,0,0,0,0,0,0,0,0,0,0,0,0,0,0,0,0,0,0,0,0,0,0,0,0,0,0,0,0,0,0,0,0,0,0,0,0,0,0,0]]]}}},\"view\":{\"type\":\"object\",\"name\":\"CDSView\",\"id\":\"p1482\",\"attributes\":{\"filter\":{\"type\":\"object\",\"name\":\"AllIndices\",\"id\":\"p1483\"}}},\"glyph\":{\"type\":\"object\",\"name\":\"Scatter\",\"id\":\"p1478\",\"attributes\":{\"tags\":[\"apply_ranges\"],\"x\":{\"type\":\"field\",\"field\":\"acousticness\"},\"y\":{\"type\":\"field\",\"field\":\"energy\"},\"size\":{\"type\":\"value\",\"value\":5.477225575051661},\"line_color\":{\"type\":\"value\",\"value\":\"#30a2da\"},\"fill_color\":{\"type\":\"value\",\"value\":\"#30a2da\"},\"hatch_color\":{\"type\":\"value\",\"value\":\"#30a2da\"}}},\"selection_glyph\":{\"type\":\"object\",\"name\":\"Scatter\",\"id\":\"p1486\",\"attributes\":{\"tags\":[\"apply_ranges\"],\"x\":{\"type\":\"field\",\"field\":\"acousticness\"},\"y\":{\"type\":\"field\",\"field\":\"energy\"},\"size\":{\"type\":\"value\",\"value\":5.477225575051661},\"angle\":{\"type\":\"value\",\"value\":0.0},\"line_color\":{\"type\":\"value\",\"value\":\"#30a2da\"},\"line_alpha\":{\"type\":\"value\",\"value\":1.0},\"line_width\":{\"type\":\"value\",\"value\":1},\"line_join\":{\"type\":\"value\",\"value\":\"bevel\"},\"line_cap\":{\"type\":\"value\",\"value\":\"butt\"},\"line_dash\":{\"type\":\"value\",\"value\":[]},\"line_dash_offset\":{\"type\":\"value\",\"value\":0},\"fill_color\":{\"type\":\"value\",\"value\":\"#30a2da\"},\"fill_alpha\":{\"type\":\"value\",\"value\":1.0},\"hatch_color\":{\"type\":\"value\",\"value\":\"#30a2da\"},\"hatch_alpha\":{\"type\":\"value\",\"value\":1.0},\"hatch_scale\":{\"type\":\"value\",\"value\":12.0},\"hatch_pattern\":{\"type\":\"value\",\"value\":null},\"hatch_weight\":{\"type\":\"value\",\"value\":1.0},\"marker\":{\"type\":\"value\",\"value\":\"circle\"}}},\"nonselection_glyph\":{\"type\":\"object\",\"name\":\"Scatter\",\"id\":\"p1479\",\"attributes\":{\"tags\":[\"apply_ranges\"],\"x\":{\"type\":\"field\",\"field\":\"acousticness\"},\"y\":{\"type\":\"field\",\"field\":\"energy\"},\"size\":{\"type\":\"value\",\"value\":5.477225575051661},\"line_color\":{\"type\":\"value\",\"value\":\"#30a2da\"},\"line_alpha\":{\"type\":\"value\",\"value\":0.1},\"fill_color\":{\"type\":\"value\",\"value\":\"#30a2da\"},\"fill_alpha\":{\"type\":\"value\",\"value\":0.1},\"hatch_color\":{\"type\":\"value\",\"value\":\"#30a2da\"},\"hatch_alpha\":{\"type\":\"value\",\"value\":0.1}}},\"muted_glyph\":{\"type\":\"object\",\"name\":\"Scatter\",\"id\":\"p1480\",\"attributes\":{\"tags\":[\"apply_ranges\"],\"x\":{\"type\":\"field\",\"field\":\"acousticness\"},\"y\":{\"type\":\"field\",\"field\":\"energy\"},\"size\":{\"type\":\"value\",\"value\":5.477225575051661},\"line_color\":{\"type\":\"value\",\"value\":\"#30a2da\"},\"line_alpha\":{\"type\":\"value\",\"value\":0.2},\"fill_color\":{\"type\":\"value\",\"value\":\"#30a2da\"},\"fill_alpha\":{\"type\":\"value\",\"value\":0.2},\"hatch_color\":{\"type\":\"value\",\"value\":\"#30a2da\"},\"hatch_alpha\":{\"type\":\"value\",\"value\":0.2}}}}},{\"type\":\"object\",\"name\":\"GlyphRenderer\",\"id\":\"p1496\",\"attributes\":{\"name\":\"1\",\"data_source\":{\"type\":\"object\",\"name\":\"ColumnDataSource\",\"id\":\"p1487\",\"attributes\":{\"selected\":{\"type\":\"object\",\"name\":\"Selection\",\"id\":\"p1488\",\"attributes\":{\"indices\":[],\"line_indices\":[]}},\"selection_policy\":{\"type\":\"object\",\"name\":\"UnionRenderers\",\"id\":\"p1489\"},\"data\":{\"type\":\"map\",\"entries\":[[\"acousticness\",{\"type\":\"ndarray\",\"array\":{\"type\":\"bytes\",\"data\":\"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\"},\"shape\":[275],\"dtype\":\"float64\",\"order\":\"little\"}],[\"energy\",{\"type\":\"ndarray\",\"array\":{\"type\":\"bytes\",\"data\":\"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\"},\"shape\":[275],\"dtype\":\"float64\",\"order\":\"little\"}],[\"decade\",{\"type\":\"ndarray\",\"array\":{\"type\":\"bytes\",\"data\":\"qAcAAJ4HAACoBwAAngcAAJ4HAACeBwAAqAcAAJ4HAACeBwAAvAcAAKgHAADQBwAAngcAAJ4HAAC8BwAAngcAAJ4HAACeBwAAngcAAMYHAACoBwAAxgcAANAHAADQBwAA0AcAANAHAADQBwAA0AcAANAHAADQBwAA0AcAAMYHAADQBwAA0AcAANAHAADGBwAA0AcAANAHAADQBwAAsgcAANAHAADGBwAA0AcAANAHAAC8BwAAqAcAANAHAADGBwAAxgcAAMYHAADGBwAAxgcAAMYHAADGBwAAxgcAAMYHAADGBwAAxgcAAMYHAADGBwAAxgcAAMYHAADGBwAAxgcAAMYHAADGBwAAxgcAAMYHAADGBwAAxgcAAMYHAADGBwAAxgcAAMYHAADGBwAAxgcAAMYHAADGBwAAxgcAAMYHAADGBwAAxgcAAMYHAADGBwAAxgcAAMYHAADGBwAAxgcAAMYHAADGBwAAxgcAAMYHAADGBwAAxgcAAMYHAADQBwAA0AcAANAHAADQBwAA0AcAANAHAADQBwAA0AcAANAHAADQBwAA0AcAANAHAADQBwAA0AcAANAHAADQBwAA0AcAANAHAADQBwAA0AcAANAHAADQBwAA0AcAANAHAADQBwAA0AcAANAHAADQBwAA0AcAANAHAADQBwAA0AcAANAHAADQBwAA0AcAANAHAADQBwAA0AcAANAHAADGBwAA0AcAANAHAACyBwAAqAcAALIHAACyBwAAsgcAALIHAACyBwAAsgcAALIHAACyBwAAsgcAALIHAACyBwAAvAcAALIHAADQBwAAsgcAANAHAACyBwAAsgcAALIHAACyBwAAvAcAALIHAAC8BwAA0AcAANAHAAC8BwAAvAcAALIHAAC8BwAAsgcAALwHAADQBwAAvAcAALwHAAC8BwAAvAcAALwHAAC8BwAAvAcAALwHAAC8BwAAvAcAALwHAADQBwAAsgcAALwHAADQBwAAvAcAALwHAADGBwAAsgcAALIHAAC8BwAAxgcAALIHAACyBwAA0AcAAKgHAACoBwAAsgcAALIHAACyBwAAqAcAAKgHAACoBwAAqAcAAKgHAACoBwAAsgcAAKgHAACoBwAAqAcAALwHAAC8BwAAvAcAALwHAAC8BwAAvAcAALwHAAC8BwAA0AcAALwHAADGBwAAxgcAAMYHAADGBwAAxgcAANAHAADGBwAAxgcAAMYHAADGBwAAxgcAAMYHAADGBwAAxgcAAMYHAADGBwAAxgcAALIHAACyBwAA0AcAAJ4HAACoBwAAngcAAMYHAACoBwAAqAcAAKgHAACoBwAAqAcAAKgHAACoBwAAqAcAAKgHAACyBwAAsgcAALwHAAC8BwAAxgcAAMYHAADGBwAAxgcAANAHAADGBwAAxgcAANAHAADQBwAA0AcAANAHAADQBwAA0AcAANAHAADQBwAA0AcAANAHAAA=\"},\"shape\":[275],\"dtype\":\"int32\",\"order\":\"little\"}],[\"SongCluster\",[1,1,1,1,1,1,1,1,1,1,1,1,1,1,1,1,1,1,1,1,1,1,1,1,1,1,1,1,1,1,1,1,1,1,1,1,1,1,1,1,1,1,1,1,1,1,1,1,1,1,1,1,1,1,1,1,1,1,1,1,1,1,1,1,1,1,1,1,1,1,1,1,1,1,1,1,1,1,1,1,1,1,1,1,1,1,1,1,1,1,1,1,1,1,1,1,1,1,1,1,1,1,1,1,1,1,1,1,1,1,1,1,1,1,1,1,1,1,1,1,1,1,1,1,1,1,1,1,1,1,1,1,1,1,1,1,1,1,1,1,1,1,1,1,1,1,1,1,1,1,1,1,1,1,1,1,1,1,1,1,1,1,1,1,1,1,1,1,1,1,1,1,1,1,1,1,1,1,1,1,1,1,1,1,1,1,1,1,1,1,1,1,1,1,1,1,1,1,1,1,1,1,1,1,1,1,1,1,1,1,1,1,1,1,1,1,1,1,1,1,1,1,1,1,1,1,1,1,1,1,1,1,1,1,1,1,1,1,1,1,1,1,1,1,1,1,1,1,1,1,1,1,1,1,1,1,1,1,1,1,1,1,1,1,1,1,1,1,1,1,1,1,1,1,1]]]}}},\"view\":{\"type\":\"object\",\"name\":\"CDSView\",\"id\":\"p1497\",\"attributes\":{\"filter\":{\"type\":\"object\",\"name\":\"AllIndices\",\"id\":\"p1498\"}}},\"glyph\":{\"type\":\"object\",\"name\":\"Scatter\",\"id\":\"p1493\",\"attributes\":{\"tags\":[\"apply_ranges\"],\"x\":{\"type\":\"field\",\"field\":\"acousticness\"},\"y\":{\"type\":\"field\",\"field\":\"energy\"},\"size\":{\"type\":\"value\",\"value\":5.477225575051661},\"line_color\":{\"type\":\"value\",\"value\":\"#fc4f30\"},\"fill_color\":{\"type\":\"value\",\"value\":\"#fc4f30\"},\"hatch_color\":{\"type\":\"value\",\"value\":\"#fc4f30\"}}},\"selection_glyph\":{\"type\":\"object\",\"name\":\"Scatter\",\"id\":\"p1500\",\"attributes\":{\"tags\":[\"apply_ranges\"],\"x\":{\"type\":\"field\",\"field\":\"acousticness\"},\"y\":{\"type\":\"field\",\"field\":\"energy\"},\"size\":{\"type\":\"value\",\"value\":5.477225575051661},\"angle\":{\"type\":\"value\",\"value\":0.0},\"line_color\":{\"type\":\"value\",\"value\":\"#fc4f30\"},\"line_alpha\":{\"type\":\"value\",\"value\":1.0},\"line_width\":{\"type\":\"value\",\"value\":1},\"line_join\":{\"type\":\"value\",\"value\":\"bevel\"},\"line_cap\":{\"type\":\"value\",\"value\":\"butt\"},\"line_dash\":{\"type\":\"value\",\"value\":[]},\"line_dash_offset\":{\"type\":\"value\",\"value\":0},\"fill_color\":{\"type\":\"value\",\"value\":\"#fc4f30\"},\"fill_alpha\":{\"type\":\"value\",\"value\":1.0},\"hatch_color\":{\"type\":\"value\",\"value\":\"#fc4f30\"},\"hatch_alpha\":{\"type\":\"value\",\"value\":1.0},\"hatch_scale\":{\"type\":\"value\",\"value\":12.0},\"hatch_pattern\":{\"type\":\"value\",\"value\":null},\"hatch_weight\":{\"type\":\"value\",\"value\":1.0},\"marker\":{\"type\":\"value\",\"value\":\"circle\"}}},\"nonselection_glyph\":{\"type\":\"object\",\"name\":\"Scatter\",\"id\":\"p1494\",\"attributes\":{\"tags\":[\"apply_ranges\"],\"x\":{\"type\":\"field\",\"field\":\"acousticness\"},\"y\":{\"type\":\"field\",\"field\":\"energy\"},\"size\":{\"type\":\"value\",\"value\":5.477225575051661},\"line_color\":{\"type\":\"value\",\"value\":\"#fc4f30\"},\"line_alpha\":{\"type\":\"value\",\"value\":0.1},\"fill_color\":{\"type\":\"value\",\"value\":\"#fc4f30\"},\"fill_alpha\":{\"type\":\"value\",\"value\":0.1},\"hatch_color\":{\"type\":\"value\",\"value\":\"#fc4f30\"},\"hatch_alpha\":{\"type\":\"value\",\"value\":0.1}}},\"muted_glyph\":{\"type\":\"object\",\"name\":\"Scatter\",\"id\":\"p1495\",\"attributes\":{\"tags\":[\"apply_ranges\"],\"x\":{\"type\":\"field\",\"field\":\"acousticness\"},\"y\":{\"type\":\"field\",\"field\":\"energy\"},\"size\":{\"type\":\"value\",\"value\":5.477225575051661},\"line_color\":{\"type\":\"value\",\"value\":\"#fc4f30\"},\"line_alpha\":{\"type\":\"value\",\"value\":0.2},\"fill_color\":{\"type\":\"value\",\"value\":\"#fc4f30\"},\"fill_alpha\":{\"type\":\"value\",\"value\":0.2},\"hatch_color\":{\"type\":\"value\",\"value\":\"#fc4f30\"},\"hatch_alpha\":{\"type\":\"value\",\"value\":0.2}}}}},{\"type\":\"object\",\"name\":\"GlyphRenderer\",\"id\":\"p1510\",\"attributes\":{\"name\":\"2\",\"data_source\":{\"type\":\"object\",\"name\":\"ColumnDataSource\",\"id\":\"p1501\",\"attributes\":{\"selected\":{\"type\":\"object\",\"name\":\"Selection\",\"id\":\"p1502\",\"attributes\":{\"indices\":[],\"line_indices\":[]}},\"selection_policy\":{\"type\":\"object\",\"name\":\"UnionRenderers\",\"id\":\"p1503\"},\"data\":{\"type\":\"map\",\"entries\":[[\"acousticness\",{\"type\":\"ndarray\",\"array\":{\"type\":\"bytes\",\"data\":\"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\"},\"shape\":[428],\"dtype\":\"float64\",\"order\":\"little\"}],[\"energy\",{\"type\":\"ndarray\",\"array\":{\"type\":\"bytes\",\"data\":\"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\"},\"shape\":[428],\"dtype\":\"float64\",\"order\":\"little\"}],[\"decade\",{\"type\":\"ndarray\",\"array\":{\"type\":\"bytes\",\"data\":\"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\"},\"shape\":[428],\"dtype\":\"int32\",\"order\":\"little\"}],[\"SongCluster\",[2,2,2,2,2,2,2,2,2,2,2,2,2,2,2,2,2,2,2,2,2,2,2,2,2,2,2,2,2,2,2,2,2,2,2,2,2,2,2,2,2,2,2,2,2,2,2,2,2,2,2,2,2,2,2,2,2,2,2,2,2,2,2,2,2,2,2,2,2,2,2,2,2,2,2,2,2,2,2,2,2,2,2,2,2,2,2,2,2,2,2,2,2,2,2,2,2,2,2,2,2,2,2,2,2,2,2,2,2,2,2,2,2,2,2,2,2,2,2,2,2,2,2,2,2,2,2,2,2,2,2,2,2,2,2,2,2,2,2,2,2,2,2,2,2,2,2,2,2,2,2,2,2,2,2,2,2,2,2,2,2,2,2,2,2,2,2,2,2,2,2,2,2,2,2,2,2,2,2,2,2,2,2,2,2,2,2,2,2,2,2,2,2,2,2,2,2,2,2,2,2,2,2,2,2,2,2,2,2,2,2,2,2,2,2,2,2,2,2,2,2,2,2,2,2,2,2,2,2,2,2,2,2,2,2,2,2,2,2,2,2,2,2,2,2,2,2,2,2,2,2,2,2,2,2,2,2,2,2,2,2,2,2,2,2,2,2,2,2,2,2,2,2,2,2,2,2,2,2,2,2,2,2,2,2,2,2,2,2,2,2,2,2,2,2,2,2,2,2,2,2,2,2,2,2,2,2,2,2,2,2,2,2,2,2,2,2,2,2,2,2,2,2,2,2,2,2,2,2,2,2,2,2,2,2,2,2,2,2,2,2,2,2,2,2,2,2,2,2,2,2,2,2,2,2,2,2,2,2,2,2,2,2,2,2,2,2,2,2,2,2,2,2,2,2,2,2,2,2,2,2,2,2,2,2,2,2,2,2,2,2,2,2,2,2,2,2,2,2,2,2,2,2,2,2,2,2,2,2,2,2,2,2,2,2,2,2,2,2,2,2,2,2,2,2,2,2,2]]]}}},\"view\":{\"type\":\"object\",\"name\":\"CDSView\",\"id\":\"p1511\",\"attributes\":{\"filter\":{\"type\":\"object\",\"name\":\"AllIndices\",\"id\":\"p1512\"}}},\"glyph\":{\"type\":\"object\",\"name\":\"Scatter\",\"id\":\"p1507\",\"attributes\":{\"tags\":[\"apply_ranges\"],\"x\":{\"type\":\"field\",\"field\":\"acousticness\"},\"y\":{\"type\":\"field\",\"field\":\"energy\"},\"size\":{\"type\":\"value\",\"value\":5.477225575051661},\"line_color\":{\"type\":\"value\",\"value\":\"#e5ae38\"},\"fill_color\":{\"type\":\"value\",\"value\":\"#e5ae38\"},\"hatch_color\":{\"type\":\"value\",\"value\":\"#e5ae38\"}}},\"selection_glyph\":{\"type\":\"object\",\"name\":\"Scatter\",\"id\":\"p1514\",\"attributes\":{\"tags\":[\"apply_ranges\"],\"x\":{\"type\":\"field\",\"field\":\"acousticness\"},\"y\":{\"type\":\"field\",\"field\":\"energy\"},\"size\":{\"type\":\"value\",\"value\":5.477225575051661},\"angle\":{\"type\":\"value\",\"value\":0.0},\"line_color\":{\"type\":\"value\",\"value\":\"#e5ae38\"},\"line_alpha\":{\"type\":\"value\",\"value\":1.0},\"line_width\":{\"type\":\"value\",\"value\":1},\"line_join\":{\"type\":\"value\",\"value\":\"bevel\"},\"line_cap\":{\"type\":\"value\",\"value\":\"butt\"},\"line_dash\":{\"type\":\"value\",\"value\":[]},\"line_dash_offset\":{\"type\":\"value\",\"value\":0},\"fill_color\":{\"type\":\"value\",\"value\":\"#e5ae38\"},\"fill_alpha\":{\"type\":\"value\",\"value\":1.0},\"hatch_color\":{\"type\":\"value\",\"value\":\"#e5ae38\"},\"hatch_alpha\":{\"type\":\"value\",\"value\":1.0},\"hatch_scale\":{\"type\":\"value\",\"value\":12.0},\"hatch_pattern\":{\"type\":\"value\",\"value\":null},\"hatch_weight\":{\"type\":\"value\",\"value\":1.0},\"marker\":{\"type\":\"value\",\"value\":\"circle\"}}},\"nonselection_glyph\":{\"type\":\"object\",\"name\":\"Scatter\",\"id\":\"p1508\",\"attributes\":{\"tags\":[\"apply_ranges\"],\"x\":{\"type\":\"field\",\"field\":\"acousticness\"},\"y\":{\"type\":\"field\",\"field\":\"energy\"},\"size\":{\"type\":\"value\",\"value\":5.477225575051661},\"line_color\":{\"type\":\"value\",\"value\":\"#e5ae38\"},\"line_alpha\":{\"type\":\"value\",\"value\":0.1},\"fill_color\":{\"type\":\"value\",\"value\":\"#e5ae38\"},\"fill_alpha\":{\"type\":\"value\",\"value\":0.1},\"hatch_color\":{\"type\":\"value\",\"value\":\"#e5ae38\"},\"hatch_alpha\":{\"type\":\"value\",\"value\":0.1}}},\"muted_glyph\":{\"type\":\"object\",\"name\":\"Scatter\",\"id\":\"p1509\",\"attributes\":{\"tags\":[\"apply_ranges\"],\"x\":{\"type\":\"field\",\"field\":\"acousticness\"},\"y\":{\"type\":\"field\",\"field\":\"energy\"},\"size\":{\"type\":\"value\",\"value\":5.477225575051661},\"line_color\":{\"type\":\"value\",\"value\":\"#e5ae38\"},\"line_alpha\":{\"type\":\"value\",\"value\":0.2},\"fill_color\":{\"type\":\"value\",\"value\":\"#e5ae38\"},\"fill_alpha\":{\"type\":\"value\",\"value\":0.2},\"hatch_color\":{\"type\":\"value\",\"value\":\"#e5ae38\"},\"hatch_alpha\":{\"type\":\"value\",\"value\":0.2}}}}},{\"type\":\"object\",\"name\":\"GlyphRenderer\",\"id\":\"p1524\",\"attributes\":{\"name\":\"3\",\"data_source\":{\"type\":\"object\",\"name\":\"ColumnDataSource\",\"id\":\"p1515\",\"attributes\":{\"selected\":{\"type\":\"object\",\"name\":\"Selection\",\"id\":\"p1516\",\"attributes\":{\"indices\":[],\"line_indices\":[]}},\"selection_policy\":{\"type\":\"object\",\"name\":\"UnionRenderers\",\"id\":\"p1517\"},\"data\":{\"type\":\"map\",\"entries\":[[\"acousticness\",{\"type\":\"ndarray\",\"array\":{\"type\":\"bytes\",\"data\":\"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\"},\"shape\":[690],\"dtype\":\"float64\",\"order\":\"little\"}],[\"energy\",{\"type\":\"ndarray\",\"array\":{\"type\":\"bytes\",\"data\":\"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\"},\"shape\":[690],\"dtype\":\"float64\",\"order\":\"little\"}],[\"decade\",{\"type\":\"ndarray\",\"array\":{\"type\":\"bytes\",\"data\":\"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\"},\"shape\":[690],\"dtype\":\"int32\",\"order\":\"little\"}],[\"SongCluster\",[3,3,3,3,3,3,3,3,3,3,3,3,3,3,3,3,3,3,3,3,3,3,3,3,3,3,3,3,3,3,3,3,3,3,3,3,3,3,3,3,3,3,3,3,3,3,3,3,3,3,3,3,3,3,3,3,3,3,3,3,3,3,3,3,3,3,3,3,3,3,3,3,3,3,3,3,3,3,3,3,3,3,3,3,3,3,3,3,3,3,3,3,3,3,3,3,3,3,3,3,3,3,3,3,3,3,3,3,3,3,3,3,3,3,3,3,3,3,3,3,3,3,3,3,3,3,3,3,3,3,3,3,3,3,3,3,3,3,3,3,3,3,3,3,3,3,3,3,3,3,3,3,3,3,3,3,3,3,3,3,3,3,3,3,3,3,3,3,3,3,3,3,3,3,3,3,3,3,3,3,3,3,3,3,3,3,3,3,3,3,3,3,3,3,3,3,3,3,3,3,3,3,3,3,3,3,3,3,3,3,3,3,3,3,3,3,3,3,3,3,3,3,3,3,3,3,3,3,3,3,3,3,3,3,3,3,3,3,3,3,3,3,3,3,3,3,3,3,3,3,3,3,3,3,3,3,3,3,3,3,3,3,3,3,3,3,3,3,3,3,3,3,3,3,3,3,3,3,3,3,3,3,3,3,3,3,3,3,3,3,3,3,3,3,3,3,3,3,3,3,3,3,3,3,3,3,3,3,3,3,3,3,3,3,3,3,3,3,3,3,3,3,3,3,3,3,3,3,3,3,3,3,3,3,3,3,3,3,3,3,3,3,3,3,3,3,3,3,3,3,3,3,3,3,3,3,3,3,3,3,3,3,3,3,3,3,3,3,3,3,3,3,3,3,3,3,3,3,3,3,3,3,3,3,3,3,3,3,3,3,3,3,3,3,3,3,3,3,3,3,3,3,3,3,3,3,3,3,3,3,3,3,3,3,3,3,3,3,3,3,3,3,3,3,3,3,3,3,3,3,3,3,3,3,3,3,3,3,3,3,3,3,3,3,3,3,3,3,3,3,3,3,3,3,3,3,3,3,3,3,3,3,3,3,3,3,3,3,3,3,3,3,3,3,3,3,3,3,3,3,3,3,3,3,3,3,3,3,3,3,3,3,3,3,3,3,3,3,3,3,3,3,3,3,3,3,3,3,3,3,3,3,3,3,3,3,3,3,3,3,3,3,3,3,3,3,3,3,3,3,3,3,3,3,3,3,3,3,3,3,3,3,3,3,3,3,3,3,3,3,3,3,3,3,3,3,3,3,3,3,3,3,3,3,3,3,3,3,3,3,3,3,3,3,3,3,3,3,3,3,3,3,3,3,3,3,3,3,3,3,3,3,3,3,3,3,3,3,3,3,3,3,3,3,3,3,3,3,3,3,3,3,3,3,3,3,3,3,3,3,3,3,3,3,3,3,3,3,3,3,3,3,3,3,3,3,3,3,3,3,3,3,3,3,3,3,3,3,3,3,3,3,3,3,3,3,3,3,3,3,3,3,3,3,3,3,3,3,3,3,3,3,3,3,3,3,3,3,3,3,3,3,3,3,3,3,3,3,3,3]]]}}},\"view\":{\"type\":\"object\",\"name\":\"CDSView\",\"id\":\"p1525\",\"attributes\":{\"filter\":{\"type\":\"object\",\"name\":\"AllIndices\",\"id\":\"p1526\"}}},\"glyph\":{\"type\":\"object\",\"name\":\"Scatter\",\"id\":\"p1521\",\"attributes\":{\"tags\":[\"apply_ranges\"],\"x\":{\"type\":\"field\",\"field\":\"acousticness\"},\"y\":{\"type\":\"field\",\"field\":\"energy\"},\"size\":{\"type\":\"value\",\"value\":5.477225575051661},\"line_color\":{\"type\":\"value\",\"value\":\"#6d904f\"},\"fill_color\":{\"type\":\"value\",\"value\":\"#6d904f\"},\"hatch_color\":{\"type\":\"value\",\"value\":\"#6d904f\"}}},\"selection_glyph\":{\"type\":\"object\",\"name\":\"Scatter\",\"id\":\"p1528\",\"attributes\":{\"tags\":[\"apply_ranges\"],\"x\":{\"type\":\"field\",\"field\":\"acousticness\"},\"y\":{\"type\":\"field\",\"field\":\"energy\"},\"size\":{\"type\":\"value\",\"value\":5.477225575051661},\"angle\":{\"type\":\"value\",\"value\":0.0},\"line_color\":{\"type\":\"value\",\"value\":\"#6d904f\"},\"line_alpha\":{\"type\":\"value\",\"value\":1.0},\"line_width\":{\"type\":\"value\",\"value\":1},\"line_join\":{\"type\":\"value\",\"value\":\"bevel\"},\"line_cap\":{\"type\":\"value\",\"value\":\"butt\"},\"line_dash\":{\"type\":\"value\",\"value\":[]},\"line_dash_offset\":{\"type\":\"value\",\"value\":0},\"fill_color\":{\"type\":\"value\",\"value\":\"#6d904f\"},\"fill_alpha\":{\"type\":\"value\",\"value\":1.0},\"hatch_color\":{\"type\":\"value\",\"value\":\"#6d904f\"},\"hatch_alpha\":{\"type\":\"value\",\"value\":1.0},\"hatch_scale\":{\"type\":\"value\",\"value\":12.0},\"hatch_pattern\":{\"type\":\"value\",\"value\":null},\"hatch_weight\":{\"type\":\"value\",\"value\":1.0},\"marker\":{\"type\":\"value\",\"value\":\"circle\"}}},\"nonselection_glyph\":{\"type\":\"object\",\"name\":\"Scatter\",\"id\":\"p1522\",\"attributes\":{\"tags\":[\"apply_ranges\"],\"x\":{\"type\":\"field\",\"field\":\"acousticness\"},\"y\":{\"type\":\"field\",\"field\":\"energy\"},\"size\":{\"type\":\"value\",\"value\":5.477225575051661},\"line_color\":{\"type\":\"value\",\"value\":\"#6d904f\"},\"line_alpha\":{\"type\":\"value\",\"value\":0.1},\"fill_color\":{\"type\":\"value\",\"value\":\"#6d904f\"},\"fill_alpha\":{\"type\":\"value\",\"value\":0.1},\"hatch_color\":{\"type\":\"value\",\"value\":\"#6d904f\"},\"hatch_alpha\":{\"type\":\"value\",\"value\":0.1}}},\"muted_glyph\":{\"type\":\"object\",\"name\":\"Scatter\",\"id\":\"p1523\",\"attributes\":{\"tags\":[\"apply_ranges\"],\"x\":{\"type\":\"field\",\"field\":\"acousticness\"},\"y\":{\"type\":\"field\",\"field\":\"energy\"},\"size\":{\"type\":\"value\",\"value\":5.477225575051661},\"line_color\":{\"type\":\"value\",\"value\":\"#6d904f\"},\"line_alpha\":{\"type\":\"value\",\"value\":0.2},\"fill_color\":{\"type\":\"value\",\"value\":\"#6d904f\"},\"fill_alpha\":{\"type\":\"value\",\"value\":0.2},\"hatch_color\":{\"type\":\"value\",\"value\":\"#6d904f\"},\"hatch_alpha\":{\"type\":\"value\",\"value\":0.2}}}}}],\"toolbar\":{\"type\":\"object\",\"name\":\"Toolbar\",\"id\":\"p1454\",\"attributes\":{\"tools\":[{\"type\":\"object\",\"name\":\"WheelZoomTool\",\"id\":\"p1434\",\"attributes\":{\"tags\":[\"hv_created\"],\"zoom_together\":\"none\"}},{\"type\":\"object\",\"name\":\"HoverTool\",\"id\":\"p1435\",\"attributes\":{\"tags\":[\"hv_created\"],\"renderers\":[{\"id\":\"p1481\"},{\"id\":\"p1496\"},{\"id\":\"p1510\"},{\"id\":\"p1524\"}],\"tooltips\":[[\"SongCluster\",\"@{SongCluster}\"],[\"acousticness\",\"@{acousticness}\"],[\"energy\",\"@{energy}\"],[\"decade\",\"@{decade}\"]]}},{\"type\":\"object\",\"name\":\"SaveTool\",\"id\":\"p1467\"},{\"type\":\"object\",\"name\":\"PanTool\",\"id\":\"p1468\"},{\"type\":\"object\",\"name\":\"BoxZoomTool\",\"id\":\"p1469\",\"attributes\":{\"overlay\":{\"type\":\"object\",\"name\":\"BoxAnnotation\",\"id\":\"p1470\",\"attributes\":{\"syncable\":false,\"level\":\"overlay\",\"visible\":false,\"left_units\":\"canvas\",\"right_units\":\"canvas\",\"bottom_units\":\"canvas\",\"top_units\":\"canvas\",\"line_color\":\"black\",\"line_alpha\":1.0,\"line_width\":2,\"line_dash\":[4,4],\"fill_color\":\"lightgrey\",\"fill_alpha\":0.5}}}},{\"type\":\"object\",\"name\":\"ResetTool\",\"id\":\"p1471\"}],\"active_drag\":{\"id\":\"p1468\"},\"active_scroll\":{\"id\":\"p1434\"}}},\"left\":[{\"type\":\"object\",\"name\":\"LinearAxis\",\"id\":\"p1462\",\"attributes\":{\"ticker\":{\"type\":\"object\",\"name\":\"BasicTicker\",\"id\":\"p1463\",\"attributes\":{\"mantissas\":[1,2,5]}},\"formatter\":{\"type\":\"object\",\"name\":\"BasicTickFormatter\",\"id\":\"p1464\"},\"axis_label\":\"energy\",\"major_label_policy\":{\"type\":\"object\",\"name\":\"AllLabels\",\"id\":\"p1465\"}}}],\"right\":[{\"type\":\"object\",\"name\":\"Legend\",\"id\":\"p1484\",\"attributes\":{\"location\":[0,0],\"title\":\"SongCluster\",\"click_policy\":\"mute\",\"items\":[{\"type\":\"object\",\"name\":\"LegendItem\",\"id\":\"p1485\",\"attributes\":{\"label\":{\"type\":\"value\",\"value\":\"0\"},\"renderers\":[{\"id\":\"p1481\"}]}},{\"type\":\"object\",\"name\":\"LegendItem\",\"id\":\"p1499\",\"attributes\":{\"label\":{\"type\":\"value\",\"value\":\"1\"},\"renderers\":[{\"id\":\"p1496\"}]}},{\"type\":\"object\",\"name\":\"LegendItem\",\"id\":\"p1513\",\"attributes\":{\"label\":{\"type\":\"value\",\"value\":\"2\"},\"renderers\":[{\"id\":\"p1510\"}]}},{\"type\":\"object\",\"name\":\"LegendItem\",\"id\":\"p1527\",\"attributes\":{\"label\":{\"type\":\"value\",\"value\":\"3\"},\"renderers\":[{\"id\":\"p1524\"}]}}]}}],\"below\":[{\"type\":\"object\",\"name\":\"LinearAxis\",\"id\":\"p1457\",\"attributes\":{\"ticker\":{\"type\":\"object\",\"name\":\"BasicTicker\",\"id\":\"p1458\",\"attributes\":{\"mantissas\":[1,2,5]}},\"formatter\":{\"type\":\"object\",\"name\":\"BasicTickFormatter\",\"id\":\"p1459\"},\"axis_label\":\"acousticness\",\"major_label_policy\":{\"type\":\"object\",\"name\":\"AllLabels\",\"id\":\"p1460\"}}}],\"center\":[{\"type\":\"object\",\"name\":\"Grid\",\"id\":\"p1461\",\"attributes\":{\"axis\":{\"id\":\"p1457\"},\"grid_line_color\":null}},{\"type\":\"object\",\"name\":\"Grid\",\"id\":\"p1466\",\"attributes\":{\"dimension\":1,\"axis\":{\"id\":\"p1462\"},\"grid_line_color\":null}}],\"min_border_top\":10,\"min_border_bottom\":10,\"min_border_left\":10,\"min_border_right\":10,\"output_backend\":\"webgl\"}},{\"type\":\"object\",\"name\":\"Spacer\",\"id\":\"p1530\",\"attributes\":{\"name\":\"HSpacer01895\",\"stylesheets\":[\"\\n:host(.pn-loading.pn-arc):before, .pn-loading.pn-arc:before {\\n  background-image: url(\\\"data:image/svg+xml;base64,PHN2ZyB4bWxucz0iaHR0cDovL3d3dy53My5vcmcvMjAwMC9zdmciIHN0eWxlPSJtYXJnaW46IGF1dG87IGJhY2tncm91bmQ6IG5vbmU7IGRpc3BsYXk6IGJsb2NrOyBzaGFwZS1yZW5kZXJpbmc6IGF1dG87IiB2aWV3Qm94PSIwIDAgMTAwIDEwMCIgcHJlc2VydmVBc3BlY3RSYXRpbz0ieE1pZFlNaWQiPiAgPGNpcmNsZSBjeD0iNTAiIGN5PSI1MCIgZmlsbD0ibm9uZSIgc3Ryb2tlPSIjYzNjM2MzIiBzdHJva2Utd2lkdGg9IjEwIiByPSIzNSIgc3Ryb2tlLWRhc2hhcnJheT0iMTY0LjkzMzYxNDMxMzQ2NDE1IDU2Ljk3Nzg3MTQzNzgyMTM4Ij4gICAgPGFuaW1hdGVUcmFuc2Zvcm0gYXR0cmlidXRlTmFtZT0idHJhbnNmb3JtIiB0eXBlPSJyb3RhdGUiIHJlcGVhdENvdW50PSJpbmRlZmluaXRlIiBkdXI9IjFzIiB2YWx1ZXM9IjAgNTAgNTA7MzYwIDUwIDUwIiBrZXlUaW1lcz0iMDsxIj48L2FuaW1hdGVUcmFuc2Zvcm0+ICA8L2NpcmNsZT48L3N2Zz4=\\\");\\n  background-size: auto calc(min(50%, 400px));\\n}\",{\"id\":\"p1427\"},{\"id\":\"p1425\"},{\"id\":\"p1426\"}],\"margin\":0,\"sizing_mode\":\"stretch_width\",\"align\":\"start\"}}]}}],\"defs\":[{\"type\":\"model\",\"name\":\"ReactiveHTML1\"},{\"type\":\"model\",\"name\":\"FlexBox1\",\"properties\":[{\"name\":\"align_content\",\"kind\":\"Any\",\"default\":\"flex-start\"},{\"name\":\"align_items\",\"kind\":\"Any\",\"default\":\"flex-start\"},{\"name\":\"flex_direction\",\"kind\":\"Any\",\"default\":\"row\"},{\"name\":\"flex_wrap\",\"kind\":\"Any\",\"default\":\"wrap\"},{\"name\":\"justify_content\",\"kind\":\"Any\",\"default\":\"flex-start\"}]},{\"type\":\"model\",\"name\":\"FloatPanel1\",\"properties\":[{\"name\":\"config\",\"kind\":\"Any\",\"default\":{\"type\":\"map\"}},{\"name\":\"contained\",\"kind\":\"Any\",\"default\":true},{\"name\":\"position\",\"kind\":\"Any\",\"default\":\"right-top\"},{\"name\":\"offsetx\",\"kind\":\"Any\",\"default\":null},{\"name\":\"offsety\",\"kind\":\"Any\",\"default\":null},{\"name\":\"theme\",\"kind\":\"Any\",\"default\":\"primary\"},{\"name\":\"status\",\"kind\":\"Any\",\"default\":\"normalized\"}]},{\"type\":\"model\",\"name\":\"GridStack1\",\"properties\":[{\"name\":\"mode\",\"kind\":\"Any\",\"default\":\"warn\"},{\"name\":\"ncols\",\"kind\":\"Any\",\"default\":null},{\"name\":\"nrows\",\"kind\":\"Any\",\"default\":null},{\"name\":\"allow_resize\",\"kind\":\"Any\",\"default\":true},{\"name\":\"allow_drag\",\"kind\":\"Any\",\"default\":true},{\"name\":\"state\",\"kind\":\"Any\",\"default\":[]}]},{\"type\":\"model\",\"name\":\"drag1\",\"properties\":[{\"name\":\"slider_width\",\"kind\":\"Any\",\"default\":5},{\"name\":\"slider_color\",\"kind\":\"Any\",\"default\":\"black\"},{\"name\":\"value\",\"kind\":\"Any\",\"default\":50}]},{\"type\":\"model\",\"name\":\"click1\",\"properties\":[{\"name\":\"terminal_output\",\"kind\":\"Any\",\"default\":\"\"},{\"name\":\"debug_name\",\"kind\":\"Any\",\"default\":\"\"},{\"name\":\"clears\",\"kind\":\"Any\",\"default\":0}]},{\"type\":\"model\",\"name\":\"FastWrapper1\",\"properties\":[{\"name\":\"object\",\"kind\":\"Any\",\"default\":null},{\"name\":\"style\",\"kind\":\"Any\",\"default\":null}]},{\"type\":\"model\",\"name\":\"NotificationAreaBase1\",\"properties\":[{\"name\":\"js_events\",\"kind\":\"Any\",\"default\":{\"type\":\"map\"}},{\"name\":\"position\",\"kind\":\"Any\",\"default\":\"bottom-right\"},{\"name\":\"_clear\",\"kind\":\"Any\",\"default\":0}]},{\"type\":\"model\",\"name\":\"NotificationArea1\",\"properties\":[{\"name\":\"js_events\",\"kind\":\"Any\",\"default\":{\"type\":\"map\"}},{\"name\":\"notifications\",\"kind\":\"Any\",\"default\":[]},{\"name\":\"position\",\"kind\":\"Any\",\"default\":\"bottom-right\"},{\"name\":\"_clear\",\"kind\":\"Any\",\"default\":0},{\"name\":\"types\",\"kind\":\"Any\",\"default\":[{\"type\":\"map\",\"entries\":[[\"type\",\"warning\"],[\"background\",\"#ffc107\"],[\"icon\",{\"type\":\"map\",\"entries\":[[\"className\",\"fas fa-exclamation-triangle\"],[\"tagName\",\"i\"],[\"color\",\"white\"]]}]]},{\"type\":\"map\",\"entries\":[[\"type\",\"info\"],[\"background\",\"#007bff\"],[\"icon\",{\"type\":\"map\",\"entries\":[[\"className\",\"fas fa-info-circle\"],[\"tagName\",\"i\"],[\"color\",\"white\"]]}]]}]}]},{\"type\":\"model\",\"name\":\"Notification\",\"properties\":[{\"name\":\"background\",\"kind\":\"Any\",\"default\":null},{\"name\":\"duration\",\"kind\":\"Any\",\"default\":3000},{\"name\":\"icon\",\"kind\":\"Any\",\"default\":null},{\"name\":\"message\",\"kind\":\"Any\",\"default\":\"\"},{\"name\":\"notification_type\",\"kind\":\"Any\",\"default\":null},{\"name\":\"_destroyed\",\"kind\":\"Any\",\"default\":false}]},{\"type\":\"model\",\"name\":\"TemplateActions1\",\"properties\":[{\"name\":\"open_modal\",\"kind\":\"Any\",\"default\":0},{\"name\":\"close_modal\",\"kind\":\"Any\",\"default\":0}]},{\"type\":\"model\",\"name\":\"BootstrapTemplateActions1\",\"properties\":[{\"name\":\"open_modal\",\"kind\":\"Any\",\"default\":0},{\"name\":\"close_modal\",\"kind\":\"Any\",\"default\":0}]},{\"type\":\"model\",\"name\":\"MaterialTemplateActions1\",\"properties\":[{\"name\":\"open_modal\",\"kind\":\"Any\",\"default\":0},{\"name\":\"close_modal\",\"kind\":\"Any\",\"default\":0}]}]}};\n",
       "  var render_items = [{\"docid\":\"222c8a9c-20a6-4154-bc7d-cad89410d99a\",\"roots\":{\"p1424\":\"b7db6227-d8f7-4582-b327-0f8dcdc1c95d\"},\"root_ids\":[\"p1424\"]}];\n",
       "  var docs = Object.values(docs_json)\n",
       "  if (!docs) {\n",
       "    return\n",
       "  }\n",
       "  const py_version = docs[0].version.replace('rc', '-rc.').replace('.dev', '-dev.')\n",
       "  const is_dev = py_version.indexOf(\"+\") !== -1 || py_version.indexOf(\"-\") !== -1\n",
       "  function embed_document(root) {\n",
       "    var Bokeh = get_bokeh(root)\n",
       "    Bokeh.embed.embed_items_notebook(docs_json, render_items);\n",
       "    for (const render_item of render_items) {\n",
       "      for (const root_id of render_item.root_ids) {\n",
       "\tconst id_el = document.getElementById(root_id)\n",
       "\tif (id_el.children.length && (id_el.children[0].className === 'bk-root')) {\n",
       "\t  const root_el = id_el.children[0]\n",
       "\t  root_el.id = root_el.id + '-rendered'\n",
       "\t}\n",
       "      }\n",
       "    }\n",
       "  }\n",
       "  function get_bokeh(root) {\n",
       "    if (root.Bokeh === undefined) {\n",
       "      return null\n",
       "    } else if (root.Bokeh.version !== py_version && !is_dev) {\n",
       "      if (root.Bokeh.versions === undefined || !root.Bokeh.versions.has(py_version)) {\n",
       "\treturn null\n",
       "      }\n",
       "      return root.Bokeh.versions.get(py_version);\n",
       "    } else if (root.Bokeh.version === py_version) {\n",
       "      return root.Bokeh\n",
       "    }\n",
       "    return null\n",
       "  }\n",
       "  function is_loaded(root) {\n",
       "    var Bokeh = get_bokeh(root)\n",
       "    return (Bokeh != null && Bokeh.Panel !== undefined)\n",
       "  }\n",
       "  if (is_loaded(root)) {\n",
       "    embed_document(root);\n",
       "  } else {\n",
       "    var attempts = 0;\n",
       "    var timer = setInterval(function(root) {\n",
       "      if (is_loaded(root)) {\n",
       "        clearInterval(timer);\n",
       "        embed_document(root);\n",
       "      } else if (document.readyState == \"complete\") {\n",
       "        attempts++;\n",
       "        if (attempts > 200) {\n",
       "          clearInterval(timer);\n",
       "\t  var Bokeh = get_bokeh(root)\n",
       "\t  if (Bokeh == null || Bokeh.Panel == null) {\n",
       "            console.warn(\"Panel: ERROR: Unable to run Panel code because Bokeh or Panel library is missing\");\n",
       "\t  } else {\n",
       "\t    console.warn(\"Panel: WARNING: Attempting to render but not all required libraries could be resolved.\")\n",
       "\t    embed_document(root)\n",
       "\t  }\n",
       "        }\n",
       "      }\n",
       "    }, 25, root)\n",
       "  }\n",
       "})(window);</script>"
      ],
      "text/plain": [
       ":NdOverlay   [SongCluster]\n",
       "   :Scatter   [acousticness]   (energy,decade)"
      ]
     },
     "execution_count": 65,
     "metadata": {
      "application/vnd.holoviews_exec.v0+json": {
       "id": "p1424"
      }
     },
     "output_type": "execute_result"
    }
   ],
   "source": [
    "# Create a scatter plot with x=\"acousticness\",  y=\"energy\"\n",
    "songs_scaled.hvplot.scatter(\n",
    "    x=\"acousticness\",\n",
    "    y=\"energy\",\n",
    "    by=\"SongCluster\",\n",
    "    hover_cols = [\"decade\"], \n",
    "    title = \"Scatter Plot by Songs - k=4\"\n",
    ")"
   ]
  },
  {
   "cell_type": "markdown",
   "metadata": {},
   "source": [
    "### Step 6: Reduce the number of features to two principal components on the `songs_scaled` DataFrame, and  calculate the explained variance ratio that results from the PCA data."
   ]
  },
  {
   "cell_type": "code",
   "execution_count": 66,
   "metadata": {},
   "outputs": [],
   "source": [
    "# Create the PCA model instance where n_components=4\n",
    "pca = PCA(n_components=4)\n"
   ]
  },
  {
   "cell_type": "code",
   "execution_count": 67,
   "metadata": {},
   "outputs": [
    {
     "data": {
      "text/plain": [
       "array([[ 0.0498722 ,  1.17907014,  0.45951513,  0.3882913 ],\n",
       "       [-0.24951133,  0.43756283,  2.42131094, -2.06616765],\n",
       "       [ 0.2848315 , -1.81868923,  0.64954468,  0.28740555],\n",
       "       [ 0.61934917, -2.1622679 ,  0.72159565,  1.09777408],\n",
       "       [ 2.84115309,  0.20929732, -0.389593  ,  0.45380288]])"
      ]
     },
     "execution_count": 67,
     "metadata": {},
     "output_type": "execute_result"
    }
   ],
   "source": [
    "# Fit the songs_scaled data to the PCA\n",
    "songs_pca_data = pca.fit_transform(songs_scaled)\n",
    "\n",
    "# Review the first five rose of the PCA data\n",
    "# using bracket notation ([0:5])\n",
    "songs_pca_data[:5]"
   ]
  },
  {
   "cell_type": "code",
   "execution_count": 68,
   "metadata": {},
   "outputs": [
    {
     "data": {
      "text/plain": [
       "array([0.24687966, 0.23595602, 0.11894905, 0.09828696])"
      ]
     },
     "execution_count": 68,
     "metadata": {},
     "output_type": "execute_result"
    }
   ],
   "source": [
    "# Calculate the explained variance\n",
    "pca.explained_variance_ratio_"
   ]
  },
  {
   "cell_type": "markdown",
   "metadata": {},
   "source": [
    "### Step 7: Use the calculate PCA DataFrame in Step 6 to create a new DataFrame called, `df_songs_pca`, then add an additional column to the `df_songs_pca` DataFrame that contains the tickers from the original `songs_df` DataFrame."
   ]
  },
  {
   "cell_type": "code",
   "execution_count": 69,
   "metadata": {},
   "outputs": [
    {
     "data": {
      "text/html": [
       "<div>\n",
       "<style scoped>\n",
       "    .dataframe tbody tr th:only-of-type {\n",
       "        vertical-align: middle;\n",
       "    }\n",
       "\n",
       "    .dataframe tbody tr th {\n",
       "        vertical-align: top;\n",
       "    }\n",
       "\n",
       "    .dataframe thead th {\n",
       "        text-align: right;\n",
       "    }\n",
       "</style>\n",
       "<table border=\"1\" class=\"dataframe\">\n",
       "  <thead>\n",
       "    <tr style=\"text-align: right;\">\n",
       "      <th></th>\n",
       "      <th>PC1</th>\n",
       "      <th>PC2</th>\n",
       "      <th>PC3</th>\n",
       "      <th>PC4</th>\n",
       "    </tr>\n",
       "    <tr>\n",
       "      <th>decade</th>\n",
       "      <th></th>\n",
       "      <th></th>\n",
       "      <th></th>\n",
       "      <th></th>\n",
       "    </tr>\n",
       "  </thead>\n",
       "  <tbody>\n",
       "    <tr>\n",
       "      <th>1960</th>\n",
       "      <td>0.049872</td>\n",
       "      <td>1.179070</td>\n",
       "      <td>0.459515</td>\n",
       "      <td>0.388291</td>\n",
       "    </tr>\n",
       "    <tr>\n",
       "      <th>1950</th>\n",
       "      <td>-0.249511</td>\n",
       "      <td>0.437563</td>\n",
       "      <td>2.421311</td>\n",
       "      <td>-2.066168</td>\n",
       "    </tr>\n",
       "    <tr>\n",
       "      <th>1960</th>\n",
       "      <td>0.284831</td>\n",
       "      <td>-1.818689</td>\n",
       "      <td>0.649545</td>\n",
       "      <td>0.287406</td>\n",
       "    </tr>\n",
       "    <tr>\n",
       "      <th>1950</th>\n",
       "      <td>0.619349</td>\n",
       "      <td>-2.162268</td>\n",
       "      <td>0.721596</td>\n",
       "      <td>1.097774</td>\n",
       "    </tr>\n",
       "    <tr>\n",
       "      <th>1950</th>\n",
       "      <td>2.841153</td>\n",
       "      <td>0.209297</td>\n",
       "      <td>-0.389593</td>\n",
       "      <td>0.453803</td>\n",
       "    </tr>\n",
       "  </tbody>\n",
       "</table>\n",
       "</div>"
      ],
      "text/plain": [
       "             PC1       PC2       PC3       PC4\n",
       "decade                                        \n",
       "1960    0.049872  1.179070  0.459515  0.388291\n",
       "1950   -0.249511  0.437563  2.421311 -2.066168\n",
       "1960    0.284831 -1.818689  0.649545  0.287406\n",
       "1950    0.619349 -2.162268  0.721596  1.097774\n",
       "1950    2.841153  0.209297 -0.389593  0.453803"
      ]
     },
     "execution_count": 69,
     "metadata": {},
     "output_type": "execute_result"
    }
   ],
   "source": [
    "# Creating a DataFrame with the PCA data\n",
    "df_songs_pca = pd.DataFrame(songs_pca_data, columns=[\"PC1\", \"PC2\", \"PC3\", \"PC4\"])\n",
    "\n",
    "# Copy the tickers names from the original data\n",
    "df_songs_pca[\"decade\"] = songs_df.index\n",
    "\n",
    "# Set the Ticker column as index\n",
    "df_songs_pca = df_songs_pca.set_index(\"decade\")\n",
    "\n",
    "# Review the DataFrame\n",
    "df_songs_pca.head()"
   ]
  },
  {
   "cell_type": "markdown",
   "metadata": {},
   "source": [
    "### Step 8: Rerun the K-means algorithm on the `df_songs_pca` DataFrame and create a scatter plot using the  \"SongCluster\" and the two principal components for the x- and y-axes. Be sure to style and format your plot."
   ]
  },
  {
   "cell_type": "code",
   "execution_count": 70,
   "metadata": {},
   "outputs": [
    {
     "name": "stderr",
     "output_type": "stream",
     "text": [
      "c:\\Users\\roxan\\anaconda3\\lib\\site-packages\\sklearn\\cluster\\_kmeans.py:1412: FutureWarning: The default value of `n_init` will change from 10 to 'auto' in 1.4. Set the value of `n_init` explicitly to suppress the warning\n",
      "  super()._check_params_vs_input(X, default_n_init=10)\n",
      "c:\\Users\\roxan\\anaconda3\\lib\\site-packages\\sklearn\\cluster\\_kmeans.py:1436: UserWarning: KMeans is known to have a memory leak on Windows with MKL, when there are less chunks than available threads. You can avoid it by setting the environment variable OMP_NUM_THREADS=8.\n",
      "  warnings.warn(\n"
     ]
    },
    {
     "name": "stdout",
     "output_type": "stream",
     "text": [
      "[1 1 3 ... 3 3 1]\n"
     ]
    }
   ],
   "source": [
    "# Initialize the K-Means model with n_clusters=4\n",
    "model = KMeans(n_clusters=4)\n",
    "\n",
    "# Fit the model for the df_songs_pca DataFrame\n",
    "model.fit(df_songs_pca)\n",
    "\n",
    "# Predict the model segments (clusters)\n",
    "song_clusters = model.predict(df_songs_pca)\n",
    "\n",
    "# Print the song segments\n",
    "print(songs_clusters)"
   ]
  },
  {
   "cell_type": "code",
   "execution_count": 71,
   "metadata": {},
   "outputs": [
    {
     "data": {
      "text/html": [
       "<div>\n",
       "<style scoped>\n",
       "    .dataframe tbody tr th:only-of-type {\n",
       "        vertical-align: middle;\n",
       "    }\n",
       "\n",
       "    .dataframe tbody tr th {\n",
       "        vertical-align: top;\n",
       "    }\n",
       "\n",
       "    .dataframe thead th {\n",
       "        text-align: right;\n",
       "    }\n",
       "</style>\n",
       "<table border=\"1\" class=\"dataframe\">\n",
       "  <thead>\n",
       "    <tr style=\"text-align: right;\">\n",
       "      <th></th>\n",
       "      <th>PC1</th>\n",
       "      <th>PC2</th>\n",
       "      <th>PC3</th>\n",
       "      <th>PC4</th>\n",
       "      <th>SongCluster</th>\n",
       "    </tr>\n",
       "    <tr>\n",
       "      <th>decade</th>\n",
       "      <th></th>\n",
       "      <th></th>\n",
       "      <th></th>\n",
       "      <th></th>\n",
       "      <th></th>\n",
       "    </tr>\n",
       "  </thead>\n",
       "  <tbody>\n",
       "    <tr>\n",
       "      <th>1960</th>\n",
       "      <td>0.049872</td>\n",
       "      <td>1.179070</td>\n",
       "      <td>0.459515</td>\n",
       "      <td>0.388291</td>\n",
       "      <td>1</td>\n",
       "    </tr>\n",
       "    <tr>\n",
       "      <th>1950</th>\n",
       "      <td>-0.249511</td>\n",
       "      <td>0.437563</td>\n",
       "      <td>2.421311</td>\n",
       "      <td>-2.066168</td>\n",
       "      <td>1</td>\n",
       "    </tr>\n",
       "    <tr>\n",
       "      <th>1960</th>\n",
       "      <td>0.284831</td>\n",
       "      <td>-1.818689</td>\n",
       "      <td>0.649545</td>\n",
       "      <td>0.287406</td>\n",
       "      <td>3</td>\n",
       "    </tr>\n",
       "    <tr>\n",
       "      <th>1950</th>\n",
       "      <td>0.619349</td>\n",
       "      <td>-2.162268</td>\n",
       "      <td>0.721596</td>\n",
       "      <td>1.097774</td>\n",
       "      <td>3</td>\n",
       "    </tr>\n",
       "    <tr>\n",
       "      <th>1950</th>\n",
       "      <td>2.841153</td>\n",
       "      <td>0.209297</td>\n",
       "      <td>-0.389593</td>\n",
       "      <td>0.453803</td>\n",
       "      <td>2</td>\n",
       "    </tr>\n",
       "  </tbody>\n",
       "</table>\n",
       "</div>"
      ],
      "text/plain": [
       "             PC1       PC2       PC3       PC4  SongCluster\n",
       "decade                                                     \n",
       "1960    0.049872  1.179070  0.459515  0.388291            1\n",
       "1950   -0.249511  0.437563  2.421311 -2.066168            1\n",
       "1960    0.284831 -1.818689  0.649545  0.287406            3\n",
       "1950    0.619349 -2.162268  0.721596  1.097774            3\n",
       "1950    2.841153  0.209297 -0.389593  0.453803            2"
      ]
     },
     "execution_count": 71,
     "metadata": {},
     "output_type": "execute_result"
    }
   ],
   "source": [
    "# Create a copy of the df_songs_pca DataFrame and name it as df_songs_pca_predictions\n",
    "df_songs_pca_predictions = df_songs_pca.copy()\n",
    "\n",
    "# Create a new column in the DataFrame with the predicted clusters\n",
    "df_songs_pca_predictions[\"SongCluster\"] = songs_clusters\n",
    "\n",
    "# Review the DataFrame\n",
    "df_songs_pca_predictions.head()"
   ]
  },
  {
   "cell_type": "code",
   "execution_count": 74,
   "metadata": {},
   "outputs": [
    {
     "data": {
      "text/plain": [
       "SongCluster\n",
       "0    1987.458034\n",
       "1    1984.072727\n",
       "2    1972.710280\n",
       "3    1982.811594\n",
       "Name: decade, dtype: float64"
      ]
     },
     "execution_count": 74,
     "metadata": {},
     "output_type": "execute_result"
    }
   ],
   "source": [
    "songcluster_temp_df = df_songs_pca_predictions.reset_index(drop=False)\n",
    "songcluster_temp_df = songcluster_temp_df.groupby(\"SongCluster\")\n",
    "songcluster_temp_df = songcluster_temp_df['decade'].mean()\n",
    "songcluster_temp_df.head()"
   ]
  },
  {
   "cell_type": "code",
   "execution_count": 75,
   "metadata": {},
   "outputs": [
    {
     "data": {},
     "metadata": {},
     "output_type": "display_data"
    },
    {
     "data": {
      "application/vnd.holoviews_exec.v0+json": "",
      "text/html": [
       "<div id='p1546'>\n",
       "  <div id=\"e5f5bde2-0e89-466e-8fc9-c7566f420777\" data-root-id=\"p1546\" style=\"display: contents;\"></div>\n",
       "</div>\n",
       "<script type=\"application/javascript\">(function(root) {\n",
       "  var docs_json = {\"97c928bd-e5b8-4fe9-98f2-808b46c24232\":{\"version\":\"3.2.1\",\"title\":\"Bokeh Application\",\"roots\":[{\"type\":\"object\",\"name\":\"Row\",\"id\":\"p1546\",\"attributes\":{\"name\":\"Row02132\",\"tags\":[\"embedded\"],\"stylesheets\":[\"\\n:host(.pn-loading.pn-arc):before, .pn-loading.pn-arc:before {\\n  background-image: url(\\\"data:image/svg+xml;base64,PHN2ZyB4bWxucz0iaHR0cDovL3d3dy53My5vcmcvMjAwMC9zdmciIHN0eWxlPSJtYXJnaW46IGF1dG87IGJhY2tncm91bmQ6IG5vbmU7IGRpc3BsYXk6IGJsb2NrOyBzaGFwZS1yZW5kZXJpbmc6IGF1dG87IiB2aWV3Qm94PSIwIDAgMTAwIDEwMCIgcHJlc2VydmVBc3BlY3RSYXRpbz0ieE1pZFlNaWQiPiAgPGNpcmNsZSBjeD0iNTAiIGN5PSI1MCIgZmlsbD0ibm9uZSIgc3Ryb2tlPSIjYzNjM2MzIiBzdHJva2Utd2lkdGg9IjEwIiByPSIzNSIgc3Ryb2tlLWRhc2hhcnJheT0iMTY0LjkzMzYxNDMxMzQ2NDE1IDU2Ljk3Nzg3MTQzNzgyMTM4Ij4gICAgPGFuaW1hdGVUcmFuc2Zvcm0gYXR0cmlidXRlTmFtZT0idHJhbnNmb3JtIiB0eXBlPSJyb3RhdGUiIHJlcGVhdENvdW50PSJpbmRlZmluaXRlIiBkdXI9IjFzIiB2YWx1ZXM9IjAgNTAgNTA7MzYwIDUwIDUwIiBrZXlUaW1lcz0iMDsxIj48L2FuaW1hdGVUcmFuc2Zvcm0+ICA8L2NpcmNsZT48L3N2Zz4=\\\");\\n  background-size: auto calc(min(50%, 400px));\\n}\",{\"type\":\"object\",\"name\":\"ImportedStyleSheet\",\"id\":\"p1549\",\"attributes\":{\"url\":\"https://cdn.holoviz.org/panel/1.2.3/dist/css/loading.css\"}},{\"type\":\"object\",\"name\":\"ImportedStyleSheet\",\"id\":\"p1654\",\"attributes\":{\"url\":\"https://cdn.holoviz.org/panel/1.2.3/dist/css/listpanel.css\"}},{\"type\":\"object\",\"name\":\"ImportedStyleSheet\",\"id\":\"p1547\",\"attributes\":{\"url\":\"https://cdn.holoviz.org/panel/1.2.3/dist/bundled/theme/default.css\"}},{\"type\":\"object\",\"name\":\"ImportedStyleSheet\",\"id\":\"p1548\",\"attributes\":{\"url\":\"https://cdn.holoviz.org/panel/1.2.3/dist/bundled/theme/native.css\"}}],\"min_width\":700,\"margin\":0,\"sizing_mode\":\"stretch_width\",\"align\":\"start\",\"children\":[{\"type\":\"object\",\"name\":\"Spacer\",\"id\":\"p1550\",\"attributes\":{\"name\":\"HSpacer02143\",\"stylesheets\":[\"\\n:host(.pn-loading.pn-arc):before, .pn-loading.pn-arc:before {\\n  background-image: url(\\\"data:image/svg+xml;base64,PHN2ZyB4bWxucz0iaHR0cDovL3d3dy53My5vcmcvMjAwMC9zdmciIHN0eWxlPSJtYXJnaW46IGF1dG87IGJhY2tncm91bmQ6IG5vbmU7IGRpc3BsYXk6IGJsb2NrOyBzaGFwZS1yZW5kZXJpbmc6IGF1dG87IiB2aWV3Qm94PSIwIDAgMTAwIDEwMCIgcHJlc2VydmVBc3BlY3RSYXRpbz0ieE1pZFlNaWQiPiAgPGNpcmNsZSBjeD0iNTAiIGN5PSI1MCIgZmlsbD0ibm9uZSIgc3Ryb2tlPSIjYzNjM2MzIiBzdHJva2Utd2lkdGg9IjEwIiByPSIzNSIgc3Ryb2tlLWRhc2hhcnJheT0iMTY0LjkzMzYxNDMxMzQ2NDE1IDU2Ljk3Nzg3MTQzNzgyMTM4Ij4gICAgPGFuaW1hdGVUcmFuc2Zvcm0gYXR0cmlidXRlTmFtZT0idHJhbnNmb3JtIiB0eXBlPSJyb3RhdGUiIHJlcGVhdENvdW50PSJpbmRlZmluaXRlIiBkdXI9IjFzIiB2YWx1ZXM9IjAgNTAgNTA7MzYwIDUwIDUwIiBrZXlUaW1lcz0iMDsxIj48L2FuaW1hdGVUcmFuc2Zvcm0+ICA8L2NpcmNsZT48L3N2Zz4=\\\");\\n  background-size: auto calc(min(50%, 400px));\\n}\",{\"id\":\"p1549\"},{\"id\":\"p1547\"},{\"id\":\"p1548\"}],\"margin\":0,\"sizing_mode\":\"stretch_width\",\"align\":\"start\"}},{\"type\":\"object\",\"name\":\"Figure\",\"id\":\"p1567\",\"attributes\":{\"width\":700,\"height\":300,\"margin\":[5,10],\"sizing_mode\":\"fixed\",\"align\":\"start\",\"x_range\":{\"type\":\"object\",\"name\":\"Range1d\",\"id\":\"p1551\",\"attributes\":{\"tags\":[[[\"PC1\",\"PC1\",null]],[]],\"start\":-3.649865886081939,\"end\":6.8936434872425885,\"reset_start\":-3.649865886081939,\"reset_end\":6.8936434872425885}},\"y_range\":{\"type\":\"object\",\"name\":\"Range1d\",\"id\":\"p1552\",\"attributes\":{\"tags\":[[[\"PC2\",\"PC2\",null]],{\"type\":\"map\",\"entries\":[[\"invert_yaxis\",false],[\"autorange\",false]]}],\"start\":-3.8282442201255527,\"end\":4.963575112122474,\"reset_start\":-3.8282442201255527,\"reset_end\":4.963575112122474}},\"x_scale\":{\"type\":\"object\",\"name\":\"LinearScale\",\"id\":\"p1577\"},\"y_scale\":{\"type\":\"object\",\"name\":\"LinearScale\",\"id\":\"p1578\"},\"title\":{\"type\":\"object\",\"name\":\"Title\",\"id\":\"p1570\",\"attributes\":{\"text\":\"Scatter Plot by Song Segment - PCA=2\",\"text_color\":\"black\",\"text_font_size\":\"12pt\"}},\"renderers\":[{\"type\":\"object\",\"name\":\"GlyphRenderer\",\"id\":\"p1603\",\"attributes\":{\"name\":\"0\",\"data_source\":{\"type\":\"object\",\"name\":\"ColumnDataSource\",\"id\":\"p1594\",\"attributes\":{\"selected\":{\"type\":\"object\",\"name\":\"Selection\",\"id\":\"p1595\",\"attributes\":{\"indices\":[],\"line_indices\":[]}},\"selection_policy\":{\"type\":\"object\",\"name\":\"UnionRenderers\",\"id\":\"p1596\"},\"data\":{\"type\":\"map\",\"entries\":[[\"PC1\",{\"type\":\"ndarray\",\"array\":{\"type\":\"bytes\",\"data\":\"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\"},\"shape\":[417],\"dtype\":\"float64\",\"order\":\"little\"}],[\"PC2\",{\"type\":\"ndarray\",\"array\":{\"type\":\"bytes\",\"data\":\"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\"},\"shape\":[417],\"dtype\":\"float64\",\"order\":\"little\"}],[\"SongCluster\",[0,0,0,0,0,0,0,0,0,0,0,0,0,0,0,0,0,0,0,0,0,0,0,0,0,0,0,0,0,0,0,0,0,0,0,0,0,0,0,0,0,0,0,0,0,0,0,0,0,0,0,0,0,0,0,0,0,0,0,0,0,0,0,0,0,0,0,0,0,0,0,0,0,0,0,0,0,0,0,0,0,0,0,0,0,0,0,0,0,0,0,0,0,0,0,0,0,0,0,0,0,0,0,0,0,0,0,0,0,0,0,0,0,0,0,0,0,0,0,0,0,0,0,0,0,0,0,0,0,0,0,0,0,0,0,0,0,0,0,0,0,0,0,0,0,0,0,0,0,0,0,0,0,0,0,0,0,0,0,0,0,0,0,0,0,0,0,0,0,0,0,0,0,0,0,0,0,0,0,0,0,0,0,0,0,0,0,0,0,0,0,0,0,0,0,0,0,0,0,0,0,0,0,0,0,0,0,0,0,0,0,0,0,0,0,0,0,0,0,0,0,0,0,0,0,0,0,0,0,0,0,0,0,0,0,0,0,0,0,0,0,0,0,0,0,0,0,0,0,0,0,0,0,0,0,0,0,0,0,0,0,0,0,0,0,0,0,0,0,0,0,0,0,0,0,0,0,0,0,0,0,0,0,0,0,0,0,0,0,0,0,0,0,0,0,0,0,0,0,0,0,0,0,0,0,0,0,0,0,0,0,0,0,0,0,0,0,0,0,0,0,0,0,0,0,0,0,0,0,0,0,0,0,0,0,0,0,0,0,0,0,0,0,0,0,0,0,0,0,0,0,0,0,0,0,0,0,0,0,0,0,0,0,0,0,0,0,0,0,0,0,0,0,0,0,0,0,0,0,0,0,0,0,0,0,0,0,0,0,0,0,0,0,0,0,0,0,0,0,0,0,0,0,0,0,0,0,0,0,0,0,0,0,0,0,0,0]]]}}},\"view\":{\"type\":\"object\",\"name\":\"CDSView\",\"id\":\"p1604\",\"attributes\":{\"filter\":{\"type\":\"object\",\"name\":\"AllIndices\",\"id\":\"p1605\"}}},\"glyph\":{\"type\":\"object\",\"name\":\"Scatter\",\"id\":\"p1600\",\"attributes\":{\"tags\":[\"apply_ranges\"],\"x\":{\"type\":\"field\",\"field\":\"PC1\"},\"y\":{\"type\":\"field\",\"field\":\"PC2\"},\"size\":{\"type\":\"value\",\"value\":5.477225575051661},\"line_color\":{\"type\":\"value\",\"value\":\"#30a2da\"},\"fill_color\":{\"type\":\"value\",\"value\":\"#30a2da\"},\"hatch_color\":{\"type\":\"value\",\"value\":\"#30a2da\"}}},\"selection_glyph\":{\"type\":\"object\",\"name\":\"Scatter\",\"id\":\"p1608\",\"attributes\":{\"tags\":[\"apply_ranges\"],\"x\":{\"type\":\"field\",\"field\":\"PC1\"},\"y\":{\"type\":\"field\",\"field\":\"PC2\"},\"size\":{\"type\":\"value\",\"value\":5.477225575051661},\"angle\":{\"type\":\"value\",\"value\":0.0},\"line_color\":{\"type\":\"value\",\"value\":\"#30a2da\"},\"line_alpha\":{\"type\":\"value\",\"value\":1.0},\"line_width\":{\"type\":\"value\",\"value\":1},\"line_join\":{\"type\":\"value\",\"value\":\"bevel\"},\"line_cap\":{\"type\":\"value\",\"value\":\"butt\"},\"line_dash\":{\"type\":\"value\",\"value\":[]},\"line_dash_offset\":{\"type\":\"value\",\"value\":0},\"fill_color\":{\"type\":\"value\",\"value\":\"#30a2da\"},\"fill_alpha\":{\"type\":\"value\",\"value\":1.0},\"hatch_color\":{\"type\":\"value\",\"value\":\"#30a2da\"},\"hatch_alpha\":{\"type\":\"value\",\"value\":1.0},\"hatch_scale\":{\"type\":\"value\",\"value\":12.0},\"hatch_pattern\":{\"type\":\"value\",\"value\":null},\"hatch_weight\":{\"type\":\"value\",\"value\":1.0},\"marker\":{\"type\":\"value\",\"value\":\"circle\"}}},\"nonselection_glyph\":{\"type\":\"object\",\"name\":\"Scatter\",\"id\":\"p1601\",\"attributes\":{\"tags\":[\"apply_ranges\"],\"x\":{\"type\":\"field\",\"field\":\"PC1\"},\"y\":{\"type\":\"field\",\"field\":\"PC2\"},\"size\":{\"type\":\"value\",\"value\":5.477225575051661},\"line_color\":{\"type\":\"value\",\"value\":\"#30a2da\"},\"line_alpha\":{\"type\":\"value\",\"value\":0.1},\"fill_color\":{\"type\":\"value\",\"value\":\"#30a2da\"},\"fill_alpha\":{\"type\":\"value\",\"value\":0.1},\"hatch_color\":{\"type\":\"value\",\"value\":\"#30a2da\"},\"hatch_alpha\":{\"type\":\"value\",\"value\":0.1}}},\"muted_glyph\":{\"type\":\"object\",\"name\":\"Scatter\",\"id\":\"p1602\",\"attributes\":{\"tags\":[\"apply_ranges\"],\"x\":{\"type\":\"field\",\"field\":\"PC1\"},\"y\":{\"type\":\"field\",\"field\":\"PC2\"},\"size\":{\"type\":\"value\",\"value\":5.477225575051661},\"line_color\":{\"type\":\"value\",\"value\":\"#30a2da\"},\"line_alpha\":{\"type\":\"value\",\"value\":0.2},\"fill_color\":{\"type\":\"value\",\"value\":\"#30a2da\"},\"fill_alpha\":{\"type\":\"value\",\"value\":0.2},\"hatch_color\":{\"type\":\"value\",\"value\":\"#30a2da\"},\"hatch_alpha\":{\"type\":\"value\",\"value\":0.2}}}}},{\"type\":\"object\",\"name\":\"GlyphRenderer\",\"id\":\"p1618\",\"attributes\":{\"name\":\"1\",\"data_source\":{\"type\":\"object\",\"name\":\"ColumnDataSource\",\"id\":\"p1609\",\"attributes\":{\"selected\":{\"type\":\"object\",\"name\":\"Selection\",\"id\":\"p1610\",\"attributes\":{\"indices\":[],\"line_indices\":[]}},\"selection_policy\":{\"type\":\"object\",\"name\":\"UnionRenderers\",\"id\":\"p1611\"},\"data\":{\"type\":\"map\",\"entries\":[[\"PC1\",{\"type\":\"ndarray\",\"array\":{\"type\":\"bytes\",\"data\":\"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\"},\"shape\":[275],\"dtype\":\"float64\",\"order\":\"little\"}],[\"PC2\",{\"type\":\"ndarray\",\"array\":{\"type\":\"bytes\",\"data\":\"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\"},\"shape\":[275],\"dtype\":\"float64\",\"order\":\"little\"}],[\"SongCluster\",[1,1,1,1,1,1,1,1,1,1,1,1,1,1,1,1,1,1,1,1,1,1,1,1,1,1,1,1,1,1,1,1,1,1,1,1,1,1,1,1,1,1,1,1,1,1,1,1,1,1,1,1,1,1,1,1,1,1,1,1,1,1,1,1,1,1,1,1,1,1,1,1,1,1,1,1,1,1,1,1,1,1,1,1,1,1,1,1,1,1,1,1,1,1,1,1,1,1,1,1,1,1,1,1,1,1,1,1,1,1,1,1,1,1,1,1,1,1,1,1,1,1,1,1,1,1,1,1,1,1,1,1,1,1,1,1,1,1,1,1,1,1,1,1,1,1,1,1,1,1,1,1,1,1,1,1,1,1,1,1,1,1,1,1,1,1,1,1,1,1,1,1,1,1,1,1,1,1,1,1,1,1,1,1,1,1,1,1,1,1,1,1,1,1,1,1,1,1,1,1,1,1,1,1,1,1,1,1,1,1,1,1,1,1,1,1,1,1,1,1,1,1,1,1,1,1,1,1,1,1,1,1,1,1,1,1,1,1,1,1,1,1,1,1,1,1,1,1,1,1,1,1,1,1,1,1,1,1,1,1,1,1,1,1,1,1,1,1,1,1,1,1,1,1,1]]]}}},\"view\":{\"type\":\"object\",\"name\":\"CDSView\",\"id\":\"p1619\",\"attributes\":{\"filter\":{\"type\":\"object\",\"name\":\"AllIndices\",\"id\":\"p1620\"}}},\"glyph\":{\"type\":\"object\",\"name\":\"Scatter\",\"id\":\"p1615\",\"attributes\":{\"tags\":[\"apply_ranges\"],\"x\":{\"type\":\"field\",\"field\":\"PC1\"},\"y\":{\"type\":\"field\",\"field\":\"PC2\"},\"size\":{\"type\":\"value\",\"value\":5.477225575051661},\"line_color\":{\"type\":\"value\",\"value\":\"#fc4f30\"},\"fill_color\":{\"type\":\"value\",\"value\":\"#fc4f30\"},\"hatch_color\":{\"type\":\"value\",\"value\":\"#fc4f30\"}}},\"selection_glyph\":{\"type\":\"object\",\"name\":\"Scatter\",\"id\":\"p1622\",\"attributes\":{\"tags\":[\"apply_ranges\"],\"x\":{\"type\":\"field\",\"field\":\"PC1\"},\"y\":{\"type\":\"field\",\"field\":\"PC2\"},\"size\":{\"type\":\"value\",\"value\":5.477225575051661},\"angle\":{\"type\":\"value\",\"value\":0.0},\"line_color\":{\"type\":\"value\",\"value\":\"#fc4f30\"},\"line_alpha\":{\"type\":\"value\",\"value\":1.0},\"line_width\":{\"type\":\"value\",\"value\":1},\"line_join\":{\"type\":\"value\",\"value\":\"bevel\"},\"line_cap\":{\"type\":\"value\",\"value\":\"butt\"},\"line_dash\":{\"type\":\"value\",\"value\":[]},\"line_dash_offset\":{\"type\":\"value\",\"value\":0},\"fill_color\":{\"type\":\"value\",\"value\":\"#fc4f30\"},\"fill_alpha\":{\"type\":\"value\",\"value\":1.0},\"hatch_color\":{\"type\":\"value\",\"value\":\"#fc4f30\"},\"hatch_alpha\":{\"type\":\"value\",\"value\":1.0},\"hatch_scale\":{\"type\":\"value\",\"value\":12.0},\"hatch_pattern\":{\"type\":\"value\",\"value\":null},\"hatch_weight\":{\"type\":\"value\",\"value\":1.0},\"marker\":{\"type\":\"value\",\"value\":\"circle\"}}},\"nonselection_glyph\":{\"type\":\"object\",\"name\":\"Scatter\",\"id\":\"p1616\",\"attributes\":{\"tags\":[\"apply_ranges\"],\"x\":{\"type\":\"field\",\"field\":\"PC1\"},\"y\":{\"type\":\"field\",\"field\":\"PC2\"},\"size\":{\"type\":\"value\",\"value\":5.477225575051661},\"line_color\":{\"type\":\"value\",\"value\":\"#fc4f30\"},\"line_alpha\":{\"type\":\"value\",\"value\":0.1},\"fill_color\":{\"type\":\"value\",\"value\":\"#fc4f30\"},\"fill_alpha\":{\"type\":\"value\",\"value\":0.1},\"hatch_color\":{\"type\":\"value\",\"value\":\"#fc4f30\"},\"hatch_alpha\":{\"type\":\"value\",\"value\":0.1}}},\"muted_glyph\":{\"type\":\"object\",\"name\":\"Scatter\",\"id\":\"p1617\",\"attributes\":{\"tags\":[\"apply_ranges\"],\"x\":{\"type\":\"field\",\"field\":\"PC1\"},\"y\":{\"type\":\"field\",\"field\":\"PC2\"},\"size\":{\"type\":\"value\",\"value\":5.477225575051661},\"line_color\":{\"type\":\"value\",\"value\":\"#fc4f30\"},\"line_alpha\":{\"type\":\"value\",\"value\":0.2},\"fill_color\":{\"type\":\"value\",\"value\":\"#fc4f30\"},\"fill_alpha\":{\"type\":\"value\",\"value\":0.2},\"hatch_color\":{\"type\":\"value\",\"value\":\"#fc4f30\"},\"hatch_alpha\":{\"type\":\"value\",\"value\":0.2}}}}},{\"type\":\"object\",\"name\":\"GlyphRenderer\",\"id\":\"p1632\",\"attributes\":{\"name\":\"2\",\"data_source\":{\"type\":\"object\",\"name\":\"ColumnDataSource\",\"id\":\"p1623\",\"attributes\":{\"selected\":{\"type\":\"object\",\"name\":\"Selection\",\"id\":\"p1624\",\"attributes\":{\"indices\":[],\"line_indices\":[]}},\"selection_policy\":{\"type\":\"object\",\"name\":\"UnionRenderers\",\"id\":\"p1625\"},\"data\":{\"type\":\"map\",\"entries\":[[\"PC1\",{\"type\":\"ndarray\",\"array\":{\"type\":\"bytes\",\"data\":\"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\"},\"shape\":[428],\"dtype\":\"float64\",\"order\":\"little\"}],[\"PC2\",{\"type\":\"ndarray\",\"array\":{\"type\":\"bytes\",\"data\":\"U6uaLUHKyj/hojYtkf+sP/C/wHIhgMi/sBHBEdb3vL9g7AXdT6/2PxdLHvePR+Q/WpQq8o4v+b83Ljm+f/fsv81dyQY2IMS/B2UB3OTB3r9l6Z8LozHcPwC4BwS3ybI/AvcVcKau0z9QuY/Rf37QP3NNqv1Qed0/AzeP0HVc9r91lLDz5ATwv/f4aR9DAvo/yol+R9o+5r90DJu71yrAPxQJrRBqOPu/YqOTNcwczD+HruDxIvXmP1YtneUxtN6/UXT/HTkx1D/Bh2fny1h2v3DlKBBxRuA/a0FxaUFd8T8gs6SrqJf2P87FQnZHS9M/TMTsfxl35j8HBwbjEfTCvyoMPslzu+K/S+hSxIoVyr9igcUFU1Cnv/Fshb1q1ea/iwge+RxG3z9UXOLRWCjXvxpfIvSD+NW/y4+dLd1+5D8EQcEp+rTyP8HmC6EJ2u4/KspgEmBc378RZZCyIxTePzWj4WgIbtE/NOQPJYeP0D+86trItFX8P3g+TZ0PlW0/ZO26c7tT0b/IaSe4wpf8P9dP1RW29PC/4QBv2poa0T8ZJjn2kY/2v57rNV7vJdM/DMDn+tbxv790qjBpKzTWv0mU27dzle4/ayuJkIFG3j9LuPyI1eLPv2SgseTTetM/usPb/WPp6z+sUXapzRfoPypUx7X9L+E/jcOvkmW98D87WHmiwV/hv4twa5jyEfM/o7g6eGINzb8M/VPiKMvgv+Qqy5gTp+i/i66gSvv3+j94biSPSiPivy2odkWpBuY/p8jVAoAcxb9dOZX5hN/VvyFX9cW3q/E//lTPR5wA4z9s7zetv0SQPx1NttaaXe8/Xu+qQil39D+cdzQ6GQDoPxQFfggHNPS/7sJXTH8T+b/Wy48NTcX6v2/CFCGowfa/XV1CJUvjwD8hVOzEHm/fPx395YIHVue/QD4TK8el17/Fx22H6ZPyv0gb+p2ss+q/JpmcVUNG0L+p5QQLBpzdP+GsJdFXU/Y/lzjPR3927j+H0ocvmXXsv8nGC/csTuO/64ZNKKT17L87rwhFduDxv9YsD8lIVeo/CI8jnT362b/4D/bN7Gjmv6gHhOxEtPC/hgZTLFK83r+BEzkg09/gv7fkHtLbgMq/6Nzg/YXZ2j+KLVNXjL7tvyeghejRFfu/ly7UBwks6L9Ml8wtn93aP3nfsKZrdPO/wE7aDaQd+7+UnOUKzUPBvyuPL5MIxOe/s10Pic0m7r9dj7yfw0Pgv6xLtnWSr9S/4SWZ6npX27+KoI9mAqfjv5O6muQyK/W/r6MdqSbepj9yqH+rf5LPv9RuhDbRdu+/Gdhirw1U2r/YBNMMMDS4vxYyO+k2e8E/P9YEZZ+n8b/qYLYiUFDhv0AnpIZze/W/36JhS/GJxz/VKIfoXVCUP5CliRNBFOK/mselvVfb4b9Kf6vfBe3zv20e9gojceA/VmWtgpny0j+uYhepjPTbv8EaQP5Nw+u/YcFZUuNI579tDZEssLzuPzzPag22oPK/V1bMZPtV578Jnpqo1wnzv4H3ZcH2N/q/EF9I47EM+L+HPxN3E5/5v+LQ0oIStfS/LikLpyBj/L982wmFg2nkvwUEpAIFKNa/WQtD8BZp87+vrDTcxN/evwIqjIf7abC/7qnzpyVDor85nQ83aYPlv87RKqpnm6I/DYHrRmDw1T/BKiTGZkOwPwxHbo0cQ+S/T9gLqMRQoT9IozbupCvSP7yv+1l0M+O/9vB2hOCW97/uzdjUcEbrv5ryB0bwqeW/IlQhA9CG4L/ZRBYh3ST8v/KLIEAgF/i/+yKrcw5O2b/oP4i9V8Phv5GSnTNT1d2/vzsIiNUq0r87QfzLmBi1v+ISmM+oTtE/l2rr9X6r6D9UVles8wz2v6QyvqNAOte/KdeGhrbZyr9NpgePtiB4P5C2RRVxUPC/R0FBQPtF578nZh89jaShvz5Ea/oSquW//PnSj02R4L+dMPu1KTLov6D9Wa/EMsG/DZA5skwI279G0cusdS/oPxkmOfaRj/a/KLU0Y4d/4L/fT7W3+9T2P5rs9jYrIse/KkhHg0Yd4D9kxyyE/Hvxv0UJhyEwO+6/nsMkzSjN5L8d3cgK1Jrgv6CS17xFd/E/Q+tOrprl7D/YzLv1afjhP2cLBYZL6ac/Sm7J2zwv6j+Dpb45C3P4P+uyBFKBi9a/dErt+qGmkj/1RMaZMLToP3uYIS1fEOM/a2Sh4YzhAUAd4+cRCTpaPzL+HU7eCOg/880PKf2FqL/XBNNw0hzuP6ObYfDGl86/MNArz3jE6T/vzWahxWbMvyG/GuO/pby/0kjn5oYGyT8Ik0U+47r4Py5Po0bgfgJAISOuMU3x979GEBCuhCfvP7bM211sh+C/b8xO1u5h/z9xmedo+KyLvwsbnsBAafQ/A9UqdOrq4z819jVZNiK8v4N8zWqXMMG/ZPc4P9V0/T87McPWQ7bXv6P7hWxTlfC/AH/4LGxMsz9Q2bBQbR/5PzXgkhj/x8q/9L5dPin24D8oUA7GsZPlv/l1ELNf0uA/KWyz9BAA2z+ZP+cIdrzaPzkxcDI/uN8/eikGlHth+z9tAU/haFftP02nyQwPO8w/xFBuKNIM6j8VDAEcs0X3P5/T4b3ZPqu/rWh42g/13T/tn7u/WwPiP3wOEWTCxPk/2TZt46728T/Qk71Dl7PDP2eEIyr8nds/FRXsgbV55T9+poEV5ZPhvz9k+pOwata/KChwiOba4D9qa3xfpqbkv3aaEdAuBOM/Z3xON3RV5b/RxDGwXk7YP1fJhRaRnN0/ieC+NJiA4D8fu/nTVo7rv2OTkECzEMs/bAD3ekShuD/DqfdUJVCEP8Tb2gE+ytc/qNrpRG/k6j90xx48Zap6vxdG8cBTNs6/ysQ5Nw371z+AETEC2uGSP28m6jfRoey/voHp9gU/pD9tZV3A0Nz1v0D8SBR6WPI/uIvkRWZC+b+zNXgB7s3Yv3SR/RQvv9s/yWiFQBOR/j/1Yt7+SF/jv14pH6F+/eC/gAECfcfU4j/uVay3hiHwPySU3QAO2sc/GOPMG+Jz578xw/VocBvzPwBCULjEYn6/XY/l7TPf6j8WsTjexPm9v0y/lMBjMuM/UGe6PMDi9T964MmioEjyPxYaYZc1INs/QHXLfYWL5b9Vp3WkAfDwP0vQa4JYY/E/hi145+KBtL/eZNd7tODLP5OlzNqYEOI/sxoCtdeGtz+3/BapQ/riP7GeoNc2s5O/FLu62wUm0T8TqYbw1+HbP7VgHZf4/+A/A4pLT77c7D+L6QLg7zfvv+2CYqBFHO8/OWXeCX/R9L+hapdvxGfaP9EWaa2/e/U/Mv4dTt4I6D90U8H4NsvovxCv096Iv+I/1HYj83E+57+h8aR2tH3wP1apZbXS+dW//ziLMqqK1z99XHJh96OXvw0haeZP39u/uWcomZTTwj93jDKX3WLHv9oLPfDrNeC/eZ+qyKZ/zz+arp6TxJvdP0SoHXu3HLw/JvhLtE3Byz+0THN525TwPydrnBtpyOg/orUy3iVh0b+tie7MOibiv0yaFUSpZeO/h9OxuAQ+8L84NNXPt2buP81nKVQaz1K/qbTKwQn18j++n+axhpqmv9L2nn5xB9u/26M79R6Vyz+/m+OsLHvlPy4HNcKiSuI/015Jy3t90L+YrB7zGpzhP97r/ZMo7fW/FpallV509D/h9LtCjjbQv13NGtcIMc8/b9/KWbQh6b8IX+ckUfrsvxhn62jZfMa/tO9rtthMzT+tutLITdzkv51JI586E/A/SROquRJHzL8qAGJhlqrDPwt00TMPzNi/aMyexDkO4b+HGvGJZUnjv3Qc8k8Sk/c/jrsjncDnq79DxcoTJCz3PwKFE41/u+0/biqg6ize0z/cYRC5igjLv1xNNuIYiwJAyM4Up6bx5D+NevTCpW3zP7+k93umWpy/m86MfNVatb9tIVOIov3ivwe7NspQc/M/bC3YVkzO1L8Vs1q7mpjpP9q0SOVyt+S/5qpsUy8K5z8LbJ5bk7XQPxV2YAqO4r6/7yJ1YKcg8D83tABOGfDZP5eDK8Dgab8/1S4/B8xZ478QspNVy772vzIAernVIPO/5GWMO/rt6z+qHBCre5HgP49Rqc+Z+t2/27ajc77c7z+iGaGDqrb2P2Gmwl9SoOe/pwzj/auC2T8L68yVom7wPxBAnJGMwZE/nTD7tSky6L/4sGKZUMLdP9bREeMZ1Mu/hwaSAITZ8T9ZngGLDPXVv6fqc1ZTHLS/QD5Nl7jGnD+xyMcpKTLhPwfX6nOGvtQ/P22NbKf96L//OIsyqorXP3BiOw6fIbc/YOloEydRzD/sRzLaKS/Yv7ykQ5gowtw/iBaYQKCv8b+mcwOlCbvfP2DVF2TyBtQ/zLyLm50f57+V+yJlHqzgv4ldZDo9Q+A/oQlnXzh12j/AJ9Kxs9GTP3slZwul+sC/RjXfZ/o16T9OuyhM2OLtP7dItCCYZ+Y//Hvq5Lxvw78BF+4RrEX0P27mr/ND9No/YplGigAwyz8Xf/uK6zfSP8nG7F7VtvQ/kZLEOKxL4j+Si6Lpq/6rPw==\"},\"shape\":[428],\"dtype\":\"float64\",\"order\":\"little\"}],[\"SongCluster\",[2,2,2,2,2,2,2,2,2,2,2,2,2,2,2,2,2,2,2,2,2,2,2,2,2,2,2,2,2,2,2,2,2,2,2,2,2,2,2,2,2,2,2,2,2,2,2,2,2,2,2,2,2,2,2,2,2,2,2,2,2,2,2,2,2,2,2,2,2,2,2,2,2,2,2,2,2,2,2,2,2,2,2,2,2,2,2,2,2,2,2,2,2,2,2,2,2,2,2,2,2,2,2,2,2,2,2,2,2,2,2,2,2,2,2,2,2,2,2,2,2,2,2,2,2,2,2,2,2,2,2,2,2,2,2,2,2,2,2,2,2,2,2,2,2,2,2,2,2,2,2,2,2,2,2,2,2,2,2,2,2,2,2,2,2,2,2,2,2,2,2,2,2,2,2,2,2,2,2,2,2,2,2,2,2,2,2,2,2,2,2,2,2,2,2,2,2,2,2,2,2,2,2,2,2,2,2,2,2,2,2,2,2,2,2,2,2,2,2,2,2,2,2,2,2,2,2,2,2,2,2,2,2,2,2,2,2,2,2,2,2,2,2,2,2,2,2,2,2,2,2,2,2,2,2,2,2,2,2,2,2,2,2,2,2,2,2,2,2,2,2,2,2,2,2,2,2,2,2,2,2,2,2,2,2,2,2,2,2,2,2,2,2,2,2,2,2,2,2,2,2,2,2,2,2,2,2,2,2,2,2,2,2,2,2,2,2,2,2,2,2,2,2,2,2,2,2,2,2,2,2,2,2,2,2,2,2,2,2,2,2,2,2,2,2,2,2,2,2,2,2,2,2,2,2,2,2,2,2,2,2,2,2,2,2,2,2,2,2,2,2,2,2,2,2,2,2,2,2,2,2,2,2,2,2,2,2,2,2,2,2,2,2,2,2,2,2,2,2,2,2,2,2,2,2,2,2,2,2,2,2,2,2,2,2,2,2,2,2,2,2,2,2,2,2,2,2,2]]]}}},\"view\":{\"type\":\"object\",\"name\":\"CDSView\",\"id\":\"p1633\",\"attributes\":{\"filter\":{\"type\":\"object\",\"name\":\"AllIndices\",\"id\":\"p1634\"}}},\"glyph\":{\"type\":\"object\",\"name\":\"Scatter\",\"id\":\"p1629\",\"attributes\":{\"tags\":[\"apply_ranges\"],\"x\":{\"type\":\"field\",\"field\":\"PC1\"},\"y\":{\"type\":\"field\",\"field\":\"PC2\"},\"size\":{\"type\":\"value\",\"value\":5.477225575051661},\"line_color\":{\"type\":\"value\",\"value\":\"#e5ae38\"},\"fill_color\":{\"type\":\"value\",\"value\":\"#e5ae38\"},\"hatch_color\":{\"type\":\"value\",\"value\":\"#e5ae38\"}}},\"selection_glyph\":{\"type\":\"object\",\"name\":\"Scatter\",\"id\":\"p1636\",\"attributes\":{\"tags\":[\"apply_ranges\"],\"x\":{\"type\":\"field\",\"field\":\"PC1\"},\"y\":{\"type\":\"field\",\"field\":\"PC2\"},\"size\":{\"type\":\"value\",\"value\":5.477225575051661},\"angle\":{\"type\":\"value\",\"value\":0.0},\"line_color\":{\"type\":\"value\",\"value\":\"#e5ae38\"},\"line_alpha\":{\"type\":\"value\",\"value\":1.0},\"line_width\":{\"type\":\"value\",\"value\":1},\"line_join\":{\"type\":\"value\",\"value\":\"bevel\"},\"line_cap\":{\"type\":\"value\",\"value\":\"butt\"},\"line_dash\":{\"type\":\"value\",\"value\":[]},\"line_dash_offset\":{\"type\":\"value\",\"value\":0},\"fill_color\":{\"type\":\"value\",\"value\":\"#e5ae38\"},\"fill_alpha\":{\"type\":\"value\",\"value\":1.0},\"hatch_color\":{\"type\":\"value\",\"value\":\"#e5ae38\"},\"hatch_alpha\":{\"type\":\"value\",\"value\":1.0},\"hatch_scale\":{\"type\":\"value\",\"value\":12.0},\"hatch_pattern\":{\"type\":\"value\",\"value\":null},\"hatch_weight\":{\"type\":\"value\",\"value\":1.0},\"marker\":{\"type\":\"value\",\"value\":\"circle\"}}},\"nonselection_glyph\":{\"type\":\"object\",\"name\":\"Scatter\",\"id\":\"p1630\",\"attributes\":{\"tags\":[\"apply_ranges\"],\"x\":{\"type\":\"field\",\"field\":\"PC1\"},\"y\":{\"type\":\"field\",\"field\":\"PC2\"},\"size\":{\"type\":\"value\",\"value\":5.477225575051661},\"line_color\":{\"type\":\"value\",\"value\":\"#e5ae38\"},\"line_alpha\":{\"type\":\"value\",\"value\":0.1},\"fill_color\":{\"type\":\"value\",\"value\":\"#e5ae38\"},\"fill_alpha\":{\"type\":\"value\",\"value\":0.1},\"hatch_color\":{\"type\":\"value\",\"value\":\"#e5ae38\"},\"hatch_alpha\":{\"type\":\"value\",\"value\":0.1}}},\"muted_glyph\":{\"type\":\"object\",\"name\":\"Scatter\",\"id\":\"p1631\",\"attributes\":{\"tags\":[\"apply_ranges\"],\"x\":{\"type\":\"field\",\"field\":\"PC1\"},\"y\":{\"type\":\"field\",\"field\":\"PC2\"},\"size\":{\"type\":\"value\",\"value\":5.477225575051661},\"line_color\":{\"type\":\"value\",\"value\":\"#e5ae38\"},\"line_alpha\":{\"type\":\"value\",\"value\":0.2},\"fill_color\":{\"type\":\"value\",\"value\":\"#e5ae38\"},\"fill_alpha\":{\"type\":\"value\",\"value\":0.2},\"hatch_color\":{\"type\":\"value\",\"value\":\"#e5ae38\"},\"hatch_alpha\":{\"type\":\"value\",\"value\":0.2}}}}},{\"type\":\"object\",\"name\":\"GlyphRenderer\",\"id\":\"p1646\",\"attributes\":{\"name\":\"3\",\"data_source\":{\"type\":\"object\",\"name\":\"ColumnDataSource\",\"id\":\"p1637\",\"attributes\":{\"selected\":{\"type\":\"object\",\"name\":\"Selection\",\"id\":\"p1638\",\"attributes\":{\"indices\":[],\"line_indices\":[]}},\"selection_policy\":{\"type\":\"object\",\"name\":\"UnionRenderers\",\"id\":\"p1639\"},\"data\":{\"type\":\"map\",\"entries\":[[\"PC1\",{\"type\":\"ndarray\",\"array\":{\"type\":\"bytes\",\"data\":\"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\"},\"shape\":[690],\"dtype\":\"float64\",\"order\":\"little\"}],[\"PC2\",{\"type\":\"ndarray\",\"array\":{\"type\":\"bytes\",\"data\":\"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\"},\"shape\":[690],\"dtype\":\"float64\",\"order\":\"little\"}],[\"SongCluster\",[3,3,3,3,3,3,3,3,3,3,3,3,3,3,3,3,3,3,3,3,3,3,3,3,3,3,3,3,3,3,3,3,3,3,3,3,3,3,3,3,3,3,3,3,3,3,3,3,3,3,3,3,3,3,3,3,3,3,3,3,3,3,3,3,3,3,3,3,3,3,3,3,3,3,3,3,3,3,3,3,3,3,3,3,3,3,3,3,3,3,3,3,3,3,3,3,3,3,3,3,3,3,3,3,3,3,3,3,3,3,3,3,3,3,3,3,3,3,3,3,3,3,3,3,3,3,3,3,3,3,3,3,3,3,3,3,3,3,3,3,3,3,3,3,3,3,3,3,3,3,3,3,3,3,3,3,3,3,3,3,3,3,3,3,3,3,3,3,3,3,3,3,3,3,3,3,3,3,3,3,3,3,3,3,3,3,3,3,3,3,3,3,3,3,3,3,3,3,3,3,3,3,3,3,3,3,3,3,3,3,3,3,3,3,3,3,3,3,3,3,3,3,3,3,3,3,3,3,3,3,3,3,3,3,3,3,3,3,3,3,3,3,3,3,3,3,3,3,3,3,3,3,3,3,3,3,3,3,3,3,3,3,3,3,3,3,3,3,3,3,3,3,3,3,3,3,3,3,3,3,3,3,3,3,3,3,3,3,3,3,3,3,3,3,3,3,3,3,3,3,3,3,3,3,3,3,3,3,3,3,3,3,3,3,3,3,3,3,3,3,3,3,3,3,3,3,3,3,3,3,3,3,3,3,3,3,3,3,3,3,3,3,3,3,3,3,3,3,3,3,3,3,3,3,3,3,3,3,3,3,3,3,3,3,3,3,3,3,3,3,3,3,3,3,3,3,3,3,3,3,3,3,3,3,3,3,3,3,3,3,3,3,3,3,3,3,3,3,3,3,3,3,3,3,3,3,3,3,3,3,3,3,3,3,3,3,3,3,3,3,3,3,3,3,3,3,3,3,3,3,3,3,3,3,3,3,3,3,3,3,3,3,3,3,3,3,3,3,3,3,3,3,3,3,3,3,3,3,3,3,3,3,3,3,3,3,3,3,3,3,3,3,3,3,3,3,3,3,3,3,3,3,3,3,3,3,3,3,3,3,3,3,3,3,3,3,3,3,3,3,3,3,3,3,3,3,3,3,3,3,3,3,3,3,3,3,3,3,3,3,3,3,3,3,3,3,3,3,3,3,3,3,3,3,3,3,3,3,3,3,3,3,3,3,3,3,3,3,3,3,3,3,3,3,3,3,3,3,3,3,3,3,3,3,3,3,3,3,3,3,3,3,3,3,3,3,3,3,3,3,3,3,3,3,3,3,3,3,3,3,3,3,3,3,3,3,3,3,3,3,3,3,3,3,3,3,3,3,3,3,3,3,3,3,3,3,3,3,3,3,3,3,3,3,3,3,3,3,3,3,3,3,3,3,3,3,3,3,3,3,3,3,3,3,3,3,3,3,3,3,3,3,3,3,3,3,3,3,3,3,3,3,3,3,3,3,3,3,3,3,3,3,3,3,3,3,3,3,3,3,3,3,3,3,3,3,3,3,3,3]]]}}},\"view\":{\"type\":\"object\",\"name\":\"CDSView\",\"id\":\"p1647\",\"attributes\":{\"filter\":{\"type\":\"object\",\"name\":\"AllIndices\",\"id\":\"p1648\"}}},\"glyph\":{\"type\":\"object\",\"name\":\"Scatter\",\"id\":\"p1643\",\"attributes\":{\"tags\":[\"apply_ranges\"],\"x\":{\"type\":\"field\",\"field\":\"PC1\"},\"y\":{\"type\":\"field\",\"field\":\"PC2\"},\"size\":{\"type\":\"value\",\"value\":5.477225575051661},\"line_color\":{\"type\":\"value\",\"value\":\"#6d904f\"},\"fill_color\":{\"type\":\"value\",\"value\":\"#6d904f\"},\"hatch_color\":{\"type\":\"value\",\"value\":\"#6d904f\"}}},\"selection_glyph\":{\"type\":\"object\",\"name\":\"Scatter\",\"id\":\"p1650\",\"attributes\":{\"tags\":[\"apply_ranges\"],\"x\":{\"type\":\"field\",\"field\":\"PC1\"},\"y\":{\"type\":\"field\",\"field\":\"PC2\"},\"size\":{\"type\":\"value\",\"value\":5.477225575051661},\"angle\":{\"type\":\"value\",\"value\":0.0},\"line_color\":{\"type\":\"value\",\"value\":\"#6d904f\"},\"line_alpha\":{\"type\":\"value\",\"value\":1.0},\"line_width\":{\"type\":\"value\",\"value\":1},\"line_join\":{\"type\":\"value\",\"value\":\"bevel\"},\"line_cap\":{\"type\":\"value\",\"value\":\"butt\"},\"line_dash\":{\"type\":\"value\",\"value\":[]},\"line_dash_offset\":{\"type\":\"value\",\"value\":0},\"fill_color\":{\"type\":\"value\",\"value\":\"#6d904f\"},\"fill_alpha\":{\"type\":\"value\",\"value\":1.0},\"hatch_color\":{\"type\":\"value\",\"value\":\"#6d904f\"},\"hatch_alpha\":{\"type\":\"value\",\"value\":1.0},\"hatch_scale\":{\"type\":\"value\",\"value\":12.0},\"hatch_pattern\":{\"type\":\"value\",\"value\":null},\"hatch_weight\":{\"type\":\"value\",\"value\":1.0},\"marker\":{\"type\":\"value\",\"value\":\"circle\"}}},\"nonselection_glyph\":{\"type\":\"object\",\"name\":\"Scatter\",\"id\":\"p1644\",\"attributes\":{\"tags\":[\"apply_ranges\"],\"x\":{\"type\":\"field\",\"field\":\"PC1\"},\"y\":{\"type\":\"field\",\"field\":\"PC2\"},\"size\":{\"type\":\"value\",\"value\":5.477225575051661},\"line_color\":{\"type\":\"value\",\"value\":\"#6d904f\"},\"line_alpha\":{\"type\":\"value\",\"value\":0.1},\"fill_color\":{\"type\":\"value\",\"value\":\"#6d904f\"},\"fill_alpha\":{\"type\":\"value\",\"value\":0.1},\"hatch_color\":{\"type\":\"value\",\"value\":\"#6d904f\"},\"hatch_alpha\":{\"type\":\"value\",\"value\":0.1}}},\"muted_glyph\":{\"type\":\"object\",\"name\":\"Scatter\",\"id\":\"p1645\",\"attributes\":{\"tags\":[\"apply_ranges\"],\"x\":{\"type\":\"field\",\"field\":\"PC1\"},\"y\":{\"type\":\"field\",\"field\":\"PC2\"},\"size\":{\"type\":\"value\",\"value\":5.477225575051661},\"line_color\":{\"type\":\"value\",\"value\":\"#6d904f\"},\"line_alpha\":{\"type\":\"value\",\"value\":0.2},\"fill_color\":{\"type\":\"value\",\"value\":\"#6d904f\"},\"fill_alpha\":{\"type\":\"value\",\"value\":0.2},\"hatch_color\":{\"type\":\"value\",\"value\":\"#6d904f\"},\"hatch_alpha\":{\"type\":\"value\",\"value\":0.2}}}}}],\"toolbar\":{\"type\":\"object\",\"name\":\"Toolbar\",\"id\":\"p1576\",\"attributes\":{\"tools\":[{\"type\":\"object\",\"name\":\"WheelZoomTool\",\"id\":\"p1556\",\"attributes\":{\"tags\":[\"hv_created\"],\"zoom_together\":\"none\"}},{\"type\":\"object\",\"name\":\"HoverTool\",\"id\":\"p1557\",\"attributes\":{\"tags\":[\"hv_created\"],\"renderers\":[{\"id\":\"p1603\"},{\"id\":\"p1618\"},{\"id\":\"p1632\"},{\"id\":\"p1646\"}],\"tooltips\":[[\"SongCluster\",\"@{SongCluster}\"],[\"PC1\",\"@{PC1}\"],[\"PC2\",\"@{PC2}\"]]}},{\"type\":\"object\",\"name\":\"SaveTool\",\"id\":\"p1589\"},{\"type\":\"object\",\"name\":\"PanTool\",\"id\":\"p1590\"},{\"type\":\"object\",\"name\":\"BoxZoomTool\",\"id\":\"p1591\",\"attributes\":{\"overlay\":{\"type\":\"object\",\"name\":\"BoxAnnotation\",\"id\":\"p1592\",\"attributes\":{\"syncable\":false,\"level\":\"overlay\",\"visible\":false,\"left_units\":\"canvas\",\"right_units\":\"canvas\",\"bottom_units\":\"canvas\",\"top_units\":\"canvas\",\"line_color\":\"black\",\"line_alpha\":1.0,\"line_width\":2,\"line_dash\":[4,4],\"fill_color\":\"lightgrey\",\"fill_alpha\":0.5}}}},{\"type\":\"object\",\"name\":\"ResetTool\",\"id\":\"p1593\"}],\"active_drag\":{\"id\":\"p1590\"},\"active_scroll\":{\"id\":\"p1556\"}}},\"left\":[{\"type\":\"object\",\"name\":\"LinearAxis\",\"id\":\"p1584\",\"attributes\":{\"ticker\":{\"type\":\"object\",\"name\":\"BasicTicker\",\"id\":\"p1585\",\"attributes\":{\"mantissas\":[1,2,5]}},\"formatter\":{\"type\":\"object\",\"name\":\"BasicTickFormatter\",\"id\":\"p1586\"},\"axis_label\":\"PC2\",\"major_label_policy\":{\"type\":\"object\",\"name\":\"AllLabels\",\"id\":\"p1587\"}}}],\"right\":[{\"type\":\"object\",\"name\":\"Legend\",\"id\":\"p1606\",\"attributes\":{\"location\":[0,0],\"title\":\"SongCluster\",\"click_policy\":\"mute\",\"items\":[{\"type\":\"object\",\"name\":\"LegendItem\",\"id\":\"p1607\",\"attributes\":{\"label\":{\"type\":\"value\",\"value\":\"0\"},\"renderers\":[{\"id\":\"p1603\"}]}},{\"type\":\"object\",\"name\":\"LegendItem\",\"id\":\"p1621\",\"attributes\":{\"label\":{\"type\":\"value\",\"value\":\"1\"},\"renderers\":[{\"id\":\"p1618\"}]}},{\"type\":\"object\",\"name\":\"LegendItem\",\"id\":\"p1635\",\"attributes\":{\"label\":{\"type\":\"value\",\"value\":\"2\"},\"renderers\":[{\"id\":\"p1632\"}]}},{\"type\":\"object\",\"name\":\"LegendItem\",\"id\":\"p1649\",\"attributes\":{\"label\":{\"type\":\"value\",\"value\":\"3\"},\"renderers\":[{\"id\":\"p1646\"}]}}]}}],\"below\":[{\"type\":\"object\",\"name\":\"LinearAxis\",\"id\":\"p1579\",\"attributes\":{\"ticker\":{\"type\":\"object\",\"name\":\"BasicTicker\",\"id\":\"p1580\",\"attributes\":{\"mantissas\":[1,2,5]}},\"formatter\":{\"type\":\"object\",\"name\":\"BasicTickFormatter\",\"id\":\"p1581\"},\"axis_label\":\"PC1\",\"major_label_policy\":{\"type\":\"object\",\"name\":\"AllLabels\",\"id\":\"p1582\"}}}],\"center\":[{\"type\":\"object\",\"name\":\"Grid\",\"id\":\"p1583\",\"attributes\":{\"axis\":{\"id\":\"p1579\"},\"grid_line_color\":null}},{\"type\":\"object\",\"name\":\"Grid\",\"id\":\"p1588\",\"attributes\":{\"dimension\":1,\"axis\":{\"id\":\"p1584\"},\"grid_line_color\":null}}],\"min_border_top\":10,\"min_border_bottom\":10,\"min_border_left\":10,\"min_border_right\":10,\"output_backend\":\"webgl\"}},{\"type\":\"object\",\"name\":\"Spacer\",\"id\":\"p1652\",\"attributes\":{\"name\":\"HSpacer02146\",\"stylesheets\":[\"\\n:host(.pn-loading.pn-arc):before, .pn-loading.pn-arc:before {\\n  background-image: url(\\\"data:image/svg+xml;base64,PHN2ZyB4bWxucz0iaHR0cDovL3d3dy53My5vcmcvMjAwMC9zdmciIHN0eWxlPSJtYXJnaW46IGF1dG87IGJhY2tncm91bmQ6IG5vbmU7IGRpc3BsYXk6IGJsb2NrOyBzaGFwZS1yZW5kZXJpbmc6IGF1dG87IiB2aWV3Qm94PSIwIDAgMTAwIDEwMCIgcHJlc2VydmVBc3BlY3RSYXRpbz0ieE1pZFlNaWQiPiAgPGNpcmNsZSBjeD0iNTAiIGN5PSI1MCIgZmlsbD0ibm9uZSIgc3Ryb2tlPSIjYzNjM2MzIiBzdHJva2Utd2lkdGg9IjEwIiByPSIzNSIgc3Ryb2tlLWRhc2hhcnJheT0iMTY0LjkzMzYxNDMxMzQ2NDE1IDU2Ljk3Nzg3MTQzNzgyMTM4Ij4gICAgPGFuaW1hdGVUcmFuc2Zvcm0gYXR0cmlidXRlTmFtZT0idHJhbnNmb3JtIiB0eXBlPSJyb3RhdGUiIHJlcGVhdENvdW50PSJpbmRlZmluaXRlIiBkdXI9IjFzIiB2YWx1ZXM9IjAgNTAgNTA7MzYwIDUwIDUwIiBrZXlUaW1lcz0iMDsxIj48L2FuaW1hdGVUcmFuc2Zvcm0+ICA8L2NpcmNsZT48L3N2Zz4=\\\");\\n  background-size: auto calc(min(50%, 400px));\\n}\",{\"id\":\"p1549\"},{\"id\":\"p1547\"},{\"id\":\"p1548\"}],\"margin\":0,\"sizing_mode\":\"stretch_width\",\"align\":\"start\"}}]}}],\"defs\":[{\"type\":\"model\",\"name\":\"ReactiveHTML1\"},{\"type\":\"model\",\"name\":\"FlexBox1\",\"properties\":[{\"name\":\"align_content\",\"kind\":\"Any\",\"default\":\"flex-start\"},{\"name\":\"align_items\",\"kind\":\"Any\",\"default\":\"flex-start\"},{\"name\":\"flex_direction\",\"kind\":\"Any\",\"default\":\"row\"},{\"name\":\"flex_wrap\",\"kind\":\"Any\",\"default\":\"wrap\"},{\"name\":\"justify_content\",\"kind\":\"Any\",\"default\":\"flex-start\"}]},{\"type\":\"model\",\"name\":\"FloatPanel1\",\"properties\":[{\"name\":\"config\",\"kind\":\"Any\",\"default\":{\"type\":\"map\"}},{\"name\":\"contained\",\"kind\":\"Any\",\"default\":true},{\"name\":\"position\",\"kind\":\"Any\",\"default\":\"right-top\"},{\"name\":\"offsetx\",\"kind\":\"Any\",\"default\":null},{\"name\":\"offsety\",\"kind\":\"Any\",\"default\":null},{\"name\":\"theme\",\"kind\":\"Any\",\"default\":\"primary\"},{\"name\":\"status\",\"kind\":\"Any\",\"default\":\"normalized\"}]},{\"type\":\"model\",\"name\":\"GridStack1\",\"properties\":[{\"name\":\"mode\",\"kind\":\"Any\",\"default\":\"warn\"},{\"name\":\"ncols\",\"kind\":\"Any\",\"default\":null},{\"name\":\"nrows\",\"kind\":\"Any\",\"default\":null},{\"name\":\"allow_resize\",\"kind\":\"Any\",\"default\":true},{\"name\":\"allow_drag\",\"kind\":\"Any\",\"default\":true},{\"name\":\"state\",\"kind\":\"Any\",\"default\":[]}]},{\"type\":\"model\",\"name\":\"drag1\",\"properties\":[{\"name\":\"slider_width\",\"kind\":\"Any\",\"default\":5},{\"name\":\"slider_color\",\"kind\":\"Any\",\"default\":\"black\"},{\"name\":\"value\",\"kind\":\"Any\",\"default\":50}]},{\"type\":\"model\",\"name\":\"click1\",\"properties\":[{\"name\":\"terminal_output\",\"kind\":\"Any\",\"default\":\"\"},{\"name\":\"debug_name\",\"kind\":\"Any\",\"default\":\"\"},{\"name\":\"clears\",\"kind\":\"Any\",\"default\":0}]},{\"type\":\"model\",\"name\":\"FastWrapper1\",\"properties\":[{\"name\":\"object\",\"kind\":\"Any\",\"default\":null},{\"name\":\"style\",\"kind\":\"Any\",\"default\":null}]},{\"type\":\"model\",\"name\":\"NotificationAreaBase1\",\"properties\":[{\"name\":\"js_events\",\"kind\":\"Any\",\"default\":{\"type\":\"map\"}},{\"name\":\"position\",\"kind\":\"Any\",\"default\":\"bottom-right\"},{\"name\":\"_clear\",\"kind\":\"Any\",\"default\":0}]},{\"type\":\"model\",\"name\":\"NotificationArea1\",\"properties\":[{\"name\":\"js_events\",\"kind\":\"Any\",\"default\":{\"type\":\"map\"}},{\"name\":\"notifications\",\"kind\":\"Any\",\"default\":[]},{\"name\":\"position\",\"kind\":\"Any\",\"default\":\"bottom-right\"},{\"name\":\"_clear\",\"kind\":\"Any\",\"default\":0},{\"name\":\"types\",\"kind\":\"Any\",\"default\":[{\"type\":\"map\",\"entries\":[[\"type\",\"warning\"],[\"background\",\"#ffc107\"],[\"icon\",{\"type\":\"map\",\"entries\":[[\"className\",\"fas fa-exclamation-triangle\"],[\"tagName\",\"i\"],[\"color\",\"white\"]]}]]},{\"type\":\"map\",\"entries\":[[\"type\",\"info\"],[\"background\",\"#007bff\"],[\"icon\",{\"type\":\"map\",\"entries\":[[\"className\",\"fas fa-info-circle\"],[\"tagName\",\"i\"],[\"color\",\"white\"]]}]]}]}]},{\"type\":\"model\",\"name\":\"Notification\",\"properties\":[{\"name\":\"background\",\"kind\":\"Any\",\"default\":null},{\"name\":\"duration\",\"kind\":\"Any\",\"default\":3000},{\"name\":\"icon\",\"kind\":\"Any\",\"default\":null},{\"name\":\"message\",\"kind\":\"Any\",\"default\":\"\"},{\"name\":\"notification_type\",\"kind\":\"Any\",\"default\":null},{\"name\":\"_destroyed\",\"kind\":\"Any\",\"default\":false}]},{\"type\":\"model\",\"name\":\"TemplateActions1\",\"properties\":[{\"name\":\"open_modal\",\"kind\":\"Any\",\"default\":0},{\"name\":\"close_modal\",\"kind\":\"Any\",\"default\":0}]},{\"type\":\"model\",\"name\":\"BootstrapTemplateActions1\",\"properties\":[{\"name\":\"open_modal\",\"kind\":\"Any\",\"default\":0},{\"name\":\"close_modal\",\"kind\":\"Any\",\"default\":0}]},{\"type\":\"model\",\"name\":\"MaterialTemplateActions1\",\"properties\":[{\"name\":\"open_modal\",\"kind\":\"Any\",\"default\":0},{\"name\":\"close_modal\",\"kind\":\"Any\",\"default\":0}]}]}};\n",
       "  var render_items = [{\"docid\":\"97c928bd-e5b8-4fe9-98f2-808b46c24232\",\"roots\":{\"p1546\":\"e5f5bde2-0e89-466e-8fc9-c7566f420777\"},\"root_ids\":[\"p1546\"]}];\n",
       "  var docs = Object.values(docs_json)\n",
       "  if (!docs) {\n",
       "    return\n",
       "  }\n",
       "  const py_version = docs[0].version.replace('rc', '-rc.').replace('.dev', '-dev.')\n",
       "  const is_dev = py_version.indexOf(\"+\") !== -1 || py_version.indexOf(\"-\") !== -1\n",
       "  function embed_document(root) {\n",
       "    var Bokeh = get_bokeh(root)\n",
       "    Bokeh.embed.embed_items_notebook(docs_json, render_items);\n",
       "    for (const render_item of render_items) {\n",
       "      for (const root_id of render_item.root_ids) {\n",
       "\tconst id_el = document.getElementById(root_id)\n",
       "\tif (id_el.children.length && (id_el.children[0].className === 'bk-root')) {\n",
       "\t  const root_el = id_el.children[0]\n",
       "\t  root_el.id = root_el.id + '-rendered'\n",
       "\t}\n",
       "      }\n",
       "    }\n",
       "  }\n",
       "  function get_bokeh(root) {\n",
       "    if (root.Bokeh === undefined) {\n",
       "      return null\n",
       "    } else if (root.Bokeh.version !== py_version && !is_dev) {\n",
       "      if (root.Bokeh.versions === undefined || !root.Bokeh.versions.has(py_version)) {\n",
       "\treturn null\n",
       "      }\n",
       "      return root.Bokeh.versions.get(py_version);\n",
       "    } else if (root.Bokeh.version === py_version) {\n",
       "      return root.Bokeh\n",
       "    }\n",
       "    return null\n",
       "  }\n",
       "  function is_loaded(root) {\n",
       "    var Bokeh = get_bokeh(root)\n",
       "    return (Bokeh != null && Bokeh.Panel !== undefined)\n",
       "  }\n",
       "  if (is_loaded(root)) {\n",
       "    embed_document(root);\n",
       "  } else {\n",
       "    var attempts = 0;\n",
       "    var timer = setInterval(function(root) {\n",
       "      if (is_loaded(root)) {\n",
       "        clearInterval(timer);\n",
       "        embed_document(root);\n",
       "      } else if (document.readyState == \"complete\") {\n",
       "        attempts++;\n",
       "        if (attempts > 200) {\n",
       "          clearInterval(timer);\n",
       "\t  var Bokeh = get_bokeh(root)\n",
       "\t  if (Bokeh == null || Bokeh.Panel == null) {\n",
       "            console.warn(\"Panel: ERROR: Unable to run Panel code because Bokeh or Panel library is missing\");\n",
       "\t  } else {\n",
       "\t    console.warn(\"Panel: WARNING: Attempting to render but not all required libraries could be resolved.\")\n",
       "\t    embed_document(root)\n",
       "\t  }\n",
       "        }\n",
       "      }\n",
       "    }, 25, root)\n",
       "  }\n",
       "})(window);</script>"
      ],
      "text/plain": [
       ":NdOverlay   [SongCluster]\n",
       "   :Scatter   [PC1]   (PC2)"
      ]
     },
     "execution_count": 75,
     "metadata": {
      "application/vnd.holoviews_exec.v0+json": {
       "id": "p1546"
      }
     },
     "output_type": "execute_result"
    }
   ],
   "source": [
    "# Create the scatter plot with x=\"PC1\" and y=\"PC2\"\n",
    "df_songs_pca_predictions.hvplot.scatter(\n",
    "    x=\"PC1\",\n",
    "    y=\"PC2\",\n",
    "    by=\"SongCluster\",\n",
    "    title = \"Scatter Plot by Song Segment - PCA=2\"\n",
    ")"
   ]
  },
  {
   "cell_type": "markdown",
   "metadata": {},
   "source": [
    "### Bonus"
   ]
  },
  {
   "cell_type": "markdown",
   "metadata": {},
   "source": [
    "* Use the elbow method to find the best value for `k` using the PCA data. Use a range from 1 to 11.\n",
    "\n",
    "* Plot a line chart with all the inertia values computed with the different values of k to visually identify the optimal value for `k`."
   ]
  },
  {
   "cell_type": "code",
   "execution_count": null,
   "metadata": {},
   "outputs": [],
   "source": [
    "# Create a list with the number of k-values to try\n",
    "# Use a range from 1 to 11\n",
    "k = list(range(1, 11))"
   ]
  },
  {
   "cell_type": "code",
   "execution_count": null,
   "metadata": {},
   "outputs": [],
   "source": [
    "# Create an empy list to store the inertia values\n",
    "inertia = []"
   ]
  },
  {
   "cell_type": "code",
   "execution_count": null,
   "metadata": {},
   "outputs": [
    {
     "name": "stderr",
     "output_type": "stream",
     "text": [
      "c:\\Users\\roxan\\anaconda3\\lib\\site-packages\\sklearn\\cluster\\_kmeans.py:1412: FutureWarning: The default value of `n_init` will change from 10 to 'auto' in 1.4. Set the value of `n_init` explicitly to suppress the warning\n",
      "  super()._check_params_vs_input(X, default_n_init=10)\n",
      "c:\\Users\\roxan\\anaconda3\\lib\\site-packages\\sklearn\\cluster\\_kmeans.py:1436: UserWarning: KMeans is known to have a memory leak on Windows with MKL, when there are less chunks than available threads. You can avoid it by setting the environment variable OMP_NUM_THREADS=8.\n",
      "  warnings.warn(\n",
      "c:\\Users\\roxan\\anaconda3\\lib\\site-packages\\sklearn\\cluster\\_kmeans.py:1412: FutureWarning: The default value of `n_init` will change from 10 to 'auto' in 1.4. Set the value of `n_init` explicitly to suppress the warning\n",
      "  super()._check_params_vs_input(X, default_n_init=10)\n",
      "c:\\Users\\roxan\\anaconda3\\lib\\site-packages\\sklearn\\cluster\\_kmeans.py:1436: UserWarning: KMeans is known to have a memory leak on Windows with MKL, when there are less chunks than available threads. You can avoid it by setting the environment variable OMP_NUM_THREADS=8.\n",
      "  warnings.warn(\n",
      "c:\\Users\\roxan\\anaconda3\\lib\\site-packages\\sklearn\\cluster\\_kmeans.py:1412: FutureWarning: The default value of `n_init` will change from 10 to 'auto' in 1.4. Set the value of `n_init` explicitly to suppress the warning\n",
      "  super()._check_params_vs_input(X, default_n_init=10)\n",
      "c:\\Users\\roxan\\anaconda3\\lib\\site-packages\\sklearn\\cluster\\_kmeans.py:1436: UserWarning: KMeans is known to have a memory leak on Windows with MKL, when there are less chunks than available threads. You can avoid it by setting the environment variable OMP_NUM_THREADS=8.\n",
      "  warnings.warn(\n",
      "c:\\Users\\roxan\\anaconda3\\lib\\site-packages\\sklearn\\cluster\\_kmeans.py:1412: FutureWarning: The default value of `n_init` will change from 10 to 'auto' in 1.4. Set the value of `n_init` explicitly to suppress the warning\n",
      "  super()._check_params_vs_input(X, default_n_init=10)\n",
      "c:\\Users\\roxan\\anaconda3\\lib\\site-packages\\sklearn\\cluster\\_kmeans.py:1436: UserWarning: KMeans is known to have a memory leak on Windows with MKL, when there are less chunks than available threads. You can avoid it by setting the environment variable OMP_NUM_THREADS=8.\n",
      "  warnings.warn(\n",
      "c:\\Users\\roxan\\anaconda3\\lib\\site-packages\\sklearn\\cluster\\_kmeans.py:1412: FutureWarning: The default value of `n_init` will change from 10 to 'auto' in 1.4. Set the value of `n_init` explicitly to suppress the warning\n",
      "  super()._check_params_vs_input(X, default_n_init=10)\n",
      "c:\\Users\\roxan\\anaconda3\\lib\\site-packages\\sklearn\\cluster\\_kmeans.py:1436: UserWarning: KMeans is known to have a memory leak on Windows with MKL, when there are less chunks than available threads. You can avoid it by setting the environment variable OMP_NUM_THREADS=8.\n",
      "  warnings.warn(\n",
      "c:\\Users\\roxan\\anaconda3\\lib\\site-packages\\sklearn\\cluster\\_kmeans.py:1412: FutureWarning: The default value of `n_init` will change from 10 to 'auto' in 1.4. Set the value of `n_init` explicitly to suppress the warning\n",
      "  super()._check_params_vs_input(X, default_n_init=10)\n",
      "c:\\Users\\roxan\\anaconda3\\lib\\site-packages\\sklearn\\cluster\\_kmeans.py:1436: UserWarning: KMeans is known to have a memory leak on Windows with MKL, when there are less chunks than available threads. You can avoid it by setting the environment variable OMP_NUM_THREADS=8.\n",
      "  warnings.warn(\n",
      "c:\\Users\\roxan\\anaconda3\\lib\\site-packages\\sklearn\\cluster\\_kmeans.py:1412: FutureWarning: The default value of `n_init` will change from 10 to 'auto' in 1.4. Set the value of `n_init` explicitly to suppress the warning\n",
      "  super()._check_params_vs_input(X, default_n_init=10)\n",
      "c:\\Users\\roxan\\anaconda3\\lib\\site-packages\\sklearn\\cluster\\_kmeans.py:1436: UserWarning: KMeans is known to have a memory leak on Windows with MKL, when there are less chunks than available threads. You can avoid it by setting the environment variable OMP_NUM_THREADS=8.\n",
      "  warnings.warn(\n",
      "c:\\Users\\roxan\\anaconda3\\lib\\site-packages\\sklearn\\cluster\\_kmeans.py:1412: FutureWarning: The default value of `n_init` will change from 10 to 'auto' in 1.4. Set the value of `n_init` explicitly to suppress the warning\n",
      "  super()._check_params_vs_input(X, default_n_init=10)\n",
      "c:\\Users\\roxan\\anaconda3\\lib\\site-packages\\sklearn\\cluster\\_kmeans.py:1436: UserWarning: KMeans is known to have a memory leak on Windows with MKL, when there are less chunks than available threads. You can avoid it by setting the environment variable OMP_NUM_THREADS=8.\n",
      "  warnings.warn(\n",
      "c:\\Users\\roxan\\anaconda3\\lib\\site-packages\\sklearn\\cluster\\_kmeans.py:1412: FutureWarning: The default value of `n_init` will change from 10 to 'auto' in 1.4. Set the value of `n_init` explicitly to suppress the warning\n",
      "  super()._check_params_vs_input(X, default_n_init=10)\n",
      "c:\\Users\\roxan\\anaconda3\\lib\\site-packages\\sklearn\\cluster\\_kmeans.py:1436: UserWarning: KMeans is known to have a memory leak on Windows with MKL, when there are less chunks than available threads. You can avoid it by setting the environment variable OMP_NUM_THREADS=8.\n",
      "  warnings.warn(\n",
      "c:\\Users\\roxan\\anaconda3\\lib\\site-packages\\sklearn\\cluster\\_kmeans.py:1412: FutureWarning: The default value of `n_init` will change from 10 to 'auto' in 1.4. Set the value of `n_init` explicitly to suppress the warning\n",
      "  super()._check_params_vs_input(X, default_n_init=10)\n",
      "c:\\Users\\roxan\\anaconda3\\lib\\site-packages\\sklearn\\cluster\\_kmeans.py:1436: UserWarning: KMeans is known to have a memory leak on Windows with MKL, when there are less chunks than available threads. You can avoid it by setting the environment variable OMP_NUM_THREADS=8.\n",
      "  warnings.warn(\n"
     ]
    }
   ],
   "source": [
    "# Create a for loop to compute the inertia with each possible value of k\n",
    "# Inside the loop:\n",
    "# 1. Create a KMeans model using the loop counter for the n_clusters\n",
    "# 2. Fit the model to the data using `df_songs_pca`\n",
    "# 3. Append the model.inertia_ to the inertia list\n",
    "for i in k:\n",
    "    model = KMeans(n_clusters=i, random_state=0)\n",
    "    model.fit(df_songs_pca)\n",
    "    inertia.append(model.inertia_)"
   ]
  },
  {
   "cell_type": "code",
   "execution_count": null,
   "metadata": {},
   "outputs": [],
   "source": [
    "# Create a dictionary with the data to plot the Elbow curve\n",
    "elbow_data_pca = {\n",
    "    \"k\": k,\n",
    "    \"inertia\": inertia\n",
    "}\n",
    "\n",
    "# Create a DataFrame with the data to plot the Elbow curve\n",
    "df_elbow_pca = pd.DataFrame(elbow_data_pca)"
   ]
  },
  {
   "cell_type": "code",
   "execution_count": null,
   "metadata": {},
   "outputs": [
    {
     "data": {},
     "metadata": {},
     "output_type": "display_data"
    },
    {
     "data": {
      "application/vnd.holoviews_exec.v0+json": "",
      "text/html": [
       "<div id='p1364'>\n",
       "  <div id=\"eb496734-d30c-4b4e-a393-e6ab2b05ccde\" data-root-id=\"p1364\" style=\"display: contents;\"></div>\n",
       "</div>\n",
       "<script type=\"application/javascript\">(function(root) {\n",
       "  var docs_json = {\"31fae0cc-f610-4144-8d49-5103658bf981\":{\"version\":\"3.2.1\",\"title\":\"Bokeh Application\",\"roots\":[{\"type\":\"object\",\"name\":\"Row\",\"id\":\"p1364\",\"attributes\":{\"name\":\"Row01683\",\"tags\":[\"embedded\"],\"stylesheets\":[\"\\n:host(.pn-loading.pn-arc):before, .pn-loading.pn-arc:before {\\n  background-image: url(\\\"data:image/svg+xml;base64,PHN2ZyB4bWxucz0iaHR0cDovL3d3dy53My5vcmcvMjAwMC9zdmciIHN0eWxlPSJtYXJnaW46IGF1dG87IGJhY2tncm91bmQ6IG5vbmU7IGRpc3BsYXk6IGJsb2NrOyBzaGFwZS1yZW5kZXJpbmc6IGF1dG87IiB2aWV3Qm94PSIwIDAgMTAwIDEwMCIgcHJlc2VydmVBc3BlY3RSYXRpbz0ieE1pZFlNaWQiPiAgPGNpcmNsZSBjeD0iNTAiIGN5PSI1MCIgZmlsbD0ibm9uZSIgc3Ryb2tlPSIjYzNjM2MzIiBzdHJva2Utd2lkdGg9IjEwIiByPSIzNSIgc3Ryb2tlLWRhc2hhcnJheT0iMTY0LjkzMzYxNDMxMzQ2NDE1IDU2Ljk3Nzg3MTQzNzgyMTM4Ij4gICAgPGFuaW1hdGVUcmFuc2Zvcm0gYXR0cmlidXRlTmFtZT0idHJhbnNmb3JtIiB0eXBlPSJyb3RhdGUiIHJlcGVhdENvdW50PSJpbmRlZmluaXRlIiBkdXI9IjFzIiB2YWx1ZXM9IjAgNTAgNTA7MzYwIDUwIDUwIiBrZXlUaW1lcz0iMDsxIj48L2FuaW1hdGVUcmFuc2Zvcm0+ICA8L2NpcmNsZT48L3N2Zz4=\\\");\\n  background-size: auto calc(min(50%, 400px));\\n}\",{\"type\":\"object\",\"name\":\"ImportedStyleSheet\",\"id\":\"p1367\",\"attributes\":{\"url\":\"https://cdn.holoviz.org/panel/1.2.3/dist/css/loading.css\"}},{\"type\":\"object\",\"name\":\"ImportedStyleSheet\",\"id\":\"p1420\",\"attributes\":{\"url\":\"https://cdn.holoviz.org/panel/1.2.3/dist/css/listpanel.css\"}},{\"type\":\"object\",\"name\":\"ImportedStyleSheet\",\"id\":\"p1365\",\"attributes\":{\"url\":\"https://cdn.holoviz.org/panel/1.2.3/dist/bundled/theme/default.css\"}},{\"type\":\"object\",\"name\":\"ImportedStyleSheet\",\"id\":\"p1366\",\"attributes\":{\"url\":\"https://cdn.holoviz.org/panel/1.2.3/dist/bundled/theme/native.css\"}}],\"min_width\":700,\"margin\":0,\"sizing_mode\":\"stretch_width\",\"align\":\"start\",\"children\":[{\"type\":\"object\",\"name\":\"Spacer\",\"id\":\"p1368\",\"attributes\":{\"name\":\"HSpacer01694\",\"stylesheets\":[\"\\n:host(.pn-loading.pn-arc):before, .pn-loading.pn-arc:before {\\n  background-image: url(\\\"data:image/svg+xml;base64,PHN2ZyB4bWxucz0iaHR0cDovL3d3dy53My5vcmcvMjAwMC9zdmciIHN0eWxlPSJtYXJnaW46IGF1dG87IGJhY2tncm91bmQ6IG5vbmU7IGRpc3BsYXk6IGJsb2NrOyBzaGFwZS1yZW5kZXJpbmc6IGF1dG87IiB2aWV3Qm94PSIwIDAgMTAwIDEwMCIgcHJlc2VydmVBc3BlY3RSYXRpbz0ieE1pZFlNaWQiPiAgPGNpcmNsZSBjeD0iNTAiIGN5PSI1MCIgZmlsbD0ibm9uZSIgc3Ryb2tlPSIjYzNjM2MzIiBzdHJva2Utd2lkdGg9IjEwIiByPSIzNSIgc3Ryb2tlLWRhc2hhcnJheT0iMTY0LjkzMzYxNDMxMzQ2NDE1IDU2Ljk3Nzg3MTQzNzgyMTM4Ij4gICAgPGFuaW1hdGVUcmFuc2Zvcm0gYXR0cmlidXRlTmFtZT0idHJhbnNmb3JtIiB0eXBlPSJyb3RhdGUiIHJlcGVhdENvdW50PSJpbmRlZmluaXRlIiBkdXI9IjFzIiB2YWx1ZXM9IjAgNTAgNTA7MzYwIDUwIDUwIiBrZXlUaW1lcz0iMDsxIj48L2FuaW1hdGVUcmFuc2Zvcm0+ICA8L2NpcmNsZT48L3N2Zz4=\\\");\\n  background-size: auto calc(min(50%, 400px));\\n}\",{\"id\":\"p1367\"},{\"id\":\"p1365\"},{\"id\":\"p1366\"}],\"margin\":0,\"sizing_mode\":\"stretch_width\",\"align\":\"start\"}},{\"type\":\"object\",\"name\":\"Figure\",\"id\":\"p1376\",\"attributes\":{\"width\":700,\"height\":300,\"margin\":[5,10],\"sizing_mode\":\"fixed\",\"align\":\"start\",\"x_range\":{\"type\":\"object\",\"name\":\"Range1d\",\"id\":\"p1369\",\"attributes\":{\"tags\":[[[\"k\",\"k\",null]],[]],\"start\":1.0,\"end\":10.0,\"reset_start\":1.0,\"reset_end\":10.0}},\"y_range\":{\"type\":\"object\",\"name\":\"Range1d\",\"id\":\"p1370\",\"attributes\":{\"tags\":[[[\"inertia\",\"inertia\",null]],{\"type\":\"map\",\"entries\":[[\"invert_yaxis\",false],[\"autorange\",false]]}],\"start\":2764.126977143519,\"end\":13673.426092310388,\"reset_start\":2764.126977143519,\"reset_end\":13673.426092310388}},\"x_scale\":{\"type\":\"object\",\"name\":\"LinearScale\",\"id\":\"p1386\"},\"y_scale\":{\"type\":\"object\",\"name\":\"LinearScale\",\"id\":\"p1387\"},\"title\":{\"type\":\"object\",\"name\":\"Title\",\"id\":\"p1379\",\"attributes\":{\"text\":\"Elbow Curve Using PCA Data\",\"text_color\":\"black\",\"text_font_size\":\"12pt\"}},\"renderers\":[{\"type\":\"object\",\"name\":\"GlyphRenderer\",\"id\":\"p1412\",\"attributes\":{\"data_source\":{\"type\":\"object\",\"name\":\"ColumnDataSource\",\"id\":\"p1403\",\"attributes\":{\"selected\":{\"type\":\"object\",\"name\":\"Selection\",\"id\":\"p1404\",\"attributes\":{\"indices\":[],\"line_indices\":[]}},\"selection_policy\":{\"type\":\"object\",\"name\":\"UnionRenderers\",\"id\":\"p1405\"},\"data\":{\"type\":\"map\",\"entries\":[[\"k\",{\"type\":\"ndarray\",\"array\":{\"type\":\"bytes\",\"data\":\"AQAAAAIAAAADAAAABAAAAAUAAAAGAAAABwAAAAgAAAAJAAAACgAAAA==\"},\"shape\":[10],\"dtype\":\"int32\",\"order\":\"little\"}],[\"inertia\",{\"type\":\"ndarray\",\"array\":{\"type\":\"bytes\",\"data\":\"Sgq+rijuyEB/bXAIfZvAQACv8F9fSrpA1gVXDJX7tUCSxC2Kot2zQB7lvhBRQ7JAadb1sfDzsEBaGXhPMouvQP/IQNiq9K1AwDjzcHiyrEA=\"},\"shape\":[10],\"dtype\":\"float64\",\"order\":\"little\"}]]}}},\"view\":{\"type\":\"object\",\"name\":\"CDSView\",\"id\":\"p1413\",\"attributes\":{\"filter\":{\"type\":\"object\",\"name\":\"AllIndices\",\"id\":\"p1414\"}}},\"glyph\":{\"type\":\"object\",\"name\":\"Line\",\"id\":\"p1409\",\"attributes\":{\"tags\":[\"apply_ranges\"],\"x\":{\"type\":\"field\",\"field\":\"k\"},\"y\":{\"type\":\"field\",\"field\":\"inertia\"},\"line_color\":\"#30a2da\",\"line_width\":2}},\"selection_glyph\":{\"type\":\"object\",\"name\":\"Line\",\"id\":\"p1415\",\"attributes\":{\"tags\":[\"apply_ranges\"],\"x\":{\"type\":\"field\",\"field\":\"k\"},\"y\":{\"type\":\"field\",\"field\":\"inertia\"},\"line_color\":\"#30a2da\",\"line_width\":2}},\"nonselection_glyph\":{\"type\":\"object\",\"name\":\"Line\",\"id\":\"p1410\",\"attributes\":{\"tags\":[\"apply_ranges\"],\"x\":{\"type\":\"field\",\"field\":\"k\"},\"y\":{\"type\":\"field\",\"field\":\"inertia\"},\"line_color\":\"#30a2da\",\"line_alpha\":0.1,\"line_width\":2}},\"muted_glyph\":{\"type\":\"object\",\"name\":\"Line\",\"id\":\"p1411\",\"attributes\":{\"tags\":[\"apply_ranges\"],\"x\":{\"type\":\"field\",\"field\":\"k\"},\"y\":{\"type\":\"field\",\"field\":\"inertia\"},\"line_color\":\"#30a2da\",\"line_alpha\":0.2,\"line_width\":2}}}}],\"toolbar\":{\"type\":\"object\",\"name\":\"Toolbar\",\"id\":\"p1385\",\"attributes\":{\"tools\":[{\"type\":\"object\",\"name\":\"WheelZoomTool\",\"id\":\"p1374\",\"attributes\":{\"tags\":[\"hv_created\"],\"zoom_together\":\"none\"}},{\"type\":\"object\",\"name\":\"HoverTool\",\"id\":\"p1375\",\"attributes\":{\"tags\":[\"hv_created\"],\"renderers\":[{\"id\":\"p1412\"}],\"tooltips\":[[\"k\",\"@{k}\"],[\"inertia\",\"@{inertia}\"]]}},{\"type\":\"object\",\"name\":\"SaveTool\",\"id\":\"p1398\"},{\"type\":\"object\",\"name\":\"PanTool\",\"id\":\"p1399\"},{\"type\":\"object\",\"name\":\"BoxZoomTool\",\"id\":\"p1400\",\"attributes\":{\"overlay\":{\"type\":\"object\",\"name\":\"BoxAnnotation\",\"id\":\"p1401\",\"attributes\":{\"syncable\":false,\"level\":\"overlay\",\"visible\":false,\"left_units\":\"canvas\",\"right_units\":\"canvas\",\"bottom_units\":\"canvas\",\"top_units\":\"canvas\",\"line_color\":\"black\",\"line_alpha\":1.0,\"line_width\":2,\"line_dash\":[4,4],\"fill_color\":\"lightgrey\",\"fill_alpha\":0.5}}}},{\"type\":\"object\",\"name\":\"ResetTool\",\"id\":\"p1402\"}],\"active_drag\":{\"id\":\"p1399\"},\"active_scroll\":{\"id\":\"p1374\"}}},\"left\":[{\"type\":\"object\",\"name\":\"LinearAxis\",\"id\":\"p1393\",\"attributes\":{\"ticker\":{\"type\":\"object\",\"name\":\"BasicTicker\",\"id\":\"p1394\",\"attributes\":{\"mantissas\":[1,2,5]}},\"formatter\":{\"type\":\"object\",\"name\":\"BasicTickFormatter\",\"id\":\"p1395\"},\"axis_label\":\"inertia\",\"major_label_policy\":{\"type\":\"object\",\"name\":\"AllLabels\",\"id\":\"p1396\"}}}],\"below\":[{\"type\":\"object\",\"name\":\"LinearAxis\",\"id\":\"p1388\",\"attributes\":{\"ticker\":{\"type\":\"object\",\"name\":\"FixedTicker\",\"id\":\"p1416\",\"attributes\":{\"ticks\":[1,2,3,4,5,6,7,8,9,10],\"minor_ticks\":[]}},\"formatter\":{\"type\":\"object\",\"name\":\"BasicTickFormatter\",\"id\":\"p1390\"},\"axis_label\":\"k\",\"major_label_policy\":{\"type\":\"object\",\"name\":\"AllLabels\",\"id\":\"p1391\"}}}],\"center\":[{\"type\":\"object\",\"name\":\"Grid\",\"id\":\"p1392\",\"attributes\":{\"axis\":{\"id\":\"p1388\"},\"grid_line_color\":null}},{\"type\":\"object\",\"name\":\"Grid\",\"id\":\"p1397\",\"attributes\":{\"dimension\":1,\"axis\":{\"id\":\"p1393\"},\"grid_line_color\":null}}],\"min_border_top\":10,\"min_border_bottom\":10,\"min_border_left\":10,\"min_border_right\":10,\"output_backend\":\"webgl\"}},{\"type\":\"object\",\"name\":\"Spacer\",\"id\":\"p1418\",\"attributes\":{\"name\":\"HSpacer01697\",\"stylesheets\":[\"\\n:host(.pn-loading.pn-arc):before, .pn-loading.pn-arc:before {\\n  background-image: url(\\\"data:image/svg+xml;base64,PHN2ZyB4bWxucz0iaHR0cDovL3d3dy53My5vcmcvMjAwMC9zdmciIHN0eWxlPSJtYXJnaW46IGF1dG87IGJhY2tncm91bmQ6IG5vbmU7IGRpc3BsYXk6IGJsb2NrOyBzaGFwZS1yZW5kZXJpbmc6IGF1dG87IiB2aWV3Qm94PSIwIDAgMTAwIDEwMCIgcHJlc2VydmVBc3BlY3RSYXRpbz0ieE1pZFlNaWQiPiAgPGNpcmNsZSBjeD0iNTAiIGN5PSI1MCIgZmlsbD0ibm9uZSIgc3Ryb2tlPSIjYzNjM2MzIiBzdHJva2Utd2lkdGg9IjEwIiByPSIzNSIgc3Ryb2tlLWRhc2hhcnJheT0iMTY0LjkzMzYxNDMxMzQ2NDE1IDU2Ljk3Nzg3MTQzNzgyMTM4Ij4gICAgPGFuaW1hdGVUcmFuc2Zvcm0gYXR0cmlidXRlTmFtZT0idHJhbnNmb3JtIiB0eXBlPSJyb3RhdGUiIHJlcGVhdENvdW50PSJpbmRlZmluaXRlIiBkdXI9IjFzIiB2YWx1ZXM9IjAgNTAgNTA7MzYwIDUwIDUwIiBrZXlUaW1lcz0iMDsxIj48L2FuaW1hdGVUcmFuc2Zvcm0+ICA8L2NpcmNsZT48L3N2Zz4=\\\");\\n  background-size: auto calc(min(50%, 400px));\\n}\",{\"id\":\"p1367\"},{\"id\":\"p1365\"},{\"id\":\"p1366\"}],\"margin\":0,\"sizing_mode\":\"stretch_width\",\"align\":\"start\"}}]}}],\"defs\":[{\"type\":\"model\",\"name\":\"ReactiveHTML1\"},{\"type\":\"model\",\"name\":\"FlexBox1\",\"properties\":[{\"name\":\"align_content\",\"kind\":\"Any\",\"default\":\"flex-start\"},{\"name\":\"align_items\",\"kind\":\"Any\",\"default\":\"flex-start\"},{\"name\":\"flex_direction\",\"kind\":\"Any\",\"default\":\"row\"},{\"name\":\"flex_wrap\",\"kind\":\"Any\",\"default\":\"wrap\"},{\"name\":\"justify_content\",\"kind\":\"Any\",\"default\":\"flex-start\"}]},{\"type\":\"model\",\"name\":\"FloatPanel1\",\"properties\":[{\"name\":\"config\",\"kind\":\"Any\",\"default\":{\"type\":\"map\"}},{\"name\":\"contained\",\"kind\":\"Any\",\"default\":true},{\"name\":\"position\",\"kind\":\"Any\",\"default\":\"right-top\"},{\"name\":\"offsetx\",\"kind\":\"Any\",\"default\":null},{\"name\":\"offsety\",\"kind\":\"Any\",\"default\":null},{\"name\":\"theme\",\"kind\":\"Any\",\"default\":\"primary\"},{\"name\":\"status\",\"kind\":\"Any\",\"default\":\"normalized\"}]},{\"type\":\"model\",\"name\":\"GridStack1\",\"properties\":[{\"name\":\"mode\",\"kind\":\"Any\",\"default\":\"warn\"},{\"name\":\"ncols\",\"kind\":\"Any\",\"default\":null},{\"name\":\"nrows\",\"kind\":\"Any\",\"default\":null},{\"name\":\"allow_resize\",\"kind\":\"Any\",\"default\":true},{\"name\":\"allow_drag\",\"kind\":\"Any\",\"default\":true},{\"name\":\"state\",\"kind\":\"Any\",\"default\":[]}]},{\"type\":\"model\",\"name\":\"drag1\",\"properties\":[{\"name\":\"slider_width\",\"kind\":\"Any\",\"default\":5},{\"name\":\"slider_color\",\"kind\":\"Any\",\"default\":\"black\"},{\"name\":\"value\",\"kind\":\"Any\",\"default\":50}]},{\"type\":\"model\",\"name\":\"click1\",\"properties\":[{\"name\":\"terminal_output\",\"kind\":\"Any\",\"default\":\"\"},{\"name\":\"debug_name\",\"kind\":\"Any\",\"default\":\"\"},{\"name\":\"clears\",\"kind\":\"Any\",\"default\":0}]},{\"type\":\"model\",\"name\":\"FastWrapper1\",\"properties\":[{\"name\":\"object\",\"kind\":\"Any\",\"default\":null},{\"name\":\"style\",\"kind\":\"Any\",\"default\":null}]},{\"type\":\"model\",\"name\":\"NotificationAreaBase1\",\"properties\":[{\"name\":\"js_events\",\"kind\":\"Any\",\"default\":{\"type\":\"map\"}},{\"name\":\"position\",\"kind\":\"Any\",\"default\":\"bottom-right\"},{\"name\":\"_clear\",\"kind\":\"Any\",\"default\":0}]},{\"type\":\"model\",\"name\":\"NotificationArea1\",\"properties\":[{\"name\":\"js_events\",\"kind\":\"Any\",\"default\":{\"type\":\"map\"}},{\"name\":\"notifications\",\"kind\":\"Any\",\"default\":[]},{\"name\":\"position\",\"kind\":\"Any\",\"default\":\"bottom-right\"},{\"name\":\"_clear\",\"kind\":\"Any\",\"default\":0},{\"name\":\"types\",\"kind\":\"Any\",\"default\":[{\"type\":\"map\",\"entries\":[[\"type\",\"warning\"],[\"background\",\"#ffc107\"],[\"icon\",{\"type\":\"map\",\"entries\":[[\"className\",\"fas fa-exclamation-triangle\"],[\"tagName\",\"i\"],[\"color\",\"white\"]]}]]},{\"type\":\"map\",\"entries\":[[\"type\",\"info\"],[\"background\",\"#007bff\"],[\"icon\",{\"type\":\"map\",\"entries\":[[\"className\",\"fas fa-info-circle\"],[\"tagName\",\"i\"],[\"color\",\"white\"]]}]]}]}]},{\"type\":\"model\",\"name\":\"Notification\",\"properties\":[{\"name\":\"background\",\"kind\":\"Any\",\"default\":null},{\"name\":\"duration\",\"kind\":\"Any\",\"default\":3000},{\"name\":\"icon\",\"kind\":\"Any\",\"default\":null},{\"name\":\"message\",\"kind\":\"Any\",\"default\":\"\"},{\"name\":\"notification_type\",\"kind\":\"Any\",\"default\":null},{\"name\":\"_destroyed\",\"kind\":\"Any\",\"default\":false}]},{\"type\":\"model\",\"name\":\"TemplateActions1\",\"properties\":[{\"name\":\"open_modal\",\"kind\":\"Any\",\"default\":0},{\"name\":\"close_modal\",\"kind\":\"Any\",\"default\":0}]},{\"type\":\"model\",\"name\":\"BootstrapTemplateActions1\",\"properties\":[{\"name\":\"open_modal\",\"kind\":\"Any\",\"default\":0},{\"name\":\"close_modal\",\"kind\":\"Any\",\"default\":0}]},{\"type\":\"model\",\"name\":\"MaterialTemplateActions1\",\"properties\":[{\"name\":\"open_modal\",\"kind\":\"Any\",\"default\":0},{\"name\":\"close_modal\",\"kind\":\"Any\",\"default\":0}]}]}};\n",
       "  var render_items = [{\"docid\":\"31fae0cc-f610-4144-8d49-5103658bf981\",\"roots\":{\"p1364\":\"eb496734-d30c-4b4e-a393-e6ab2b05ccde\"},\"root_ids\":[\"p1364\"]}];\n",
       "  var docs = Object.values(docs_json)\n",
       "  if (!docs) {\n",
       "    return\n",
       "  }\n",
       "  const py_version = docs[0].version.replace('rc', '-rc.').replace('.dev', '-dev.')\n",
       "  const is_dev = py_version.indexOf(\"+\") !== -1 || py_version.indexOf(\"-\") !== -1\n",
       "  function embed_document(root) {\n",
       "    var Bokeh = get_bokeh(root)\n",
       "    Bokeh.embed.embed_items_notebook(docs_json, render_items);\n",
       "    for (const render_item of render_items) {\n",
       "      for (const root_id of render_item.root_ids) {\n",
       "\tconst id_el = document.getElementById(root_id)\n",
       "\tif (id_el.children.length && (id_el.children[0].className === 'bk-root')) {\n",
       "\t  const root_el = id_el.children[0]\n",
       "\t  root_el.id = root_el.id + '-rendered'\n",
       "\t}\n",
       "      }\n",
       "    }\n",
       "  }\n",
       "  function get_bokeh(root) {\n",
       "    if (root.Bokeh === undefined) {\n",
       "      return null\n",
       "    } else if (root.Bokeh.version !== py_version && !is_dev) {\n",
       "      if (root.Bokeh.versions === undefined || !root.Bokeh.versions.has(py_version)) {\n",
       "\treturn null\n",
       "      }\n",
       "      return root.Bokeh.versions.get(py_version);\n",
       "    } else if (root.Bokeh.version === py_version) {\n",
       "      return root.Bokeh\n",
       "    }\n",
       "    return null\n",
       "  }\n",
       "  function is_loaded(root) {\n",
       "    var Bokeh = get_bokeh(root)\n",
       "    return (Bokeh != null && Bokeh.Panel !== undefined)\n",
       "  }\n",
       "  if (is_loaded(root)) {\n",
       "    embed_document(root);\n",
       "  } else {\n",
       "    var attempts = 0;\n",
       "    var timer = setInterval(function(root) {\n",
       "      if (is_loaded(root)) {\n",
       "        clearInterval(timer);\n",
       "        embed_document(root);\n",
       "      } else if (document.readyState == \"complete\") {\n",
       "        attempts++;\n",
       "        if (attempts > 200) {\n",
       "          clearInterval(timer);\n",
       "\t  var Bokeh = get_bokeh(root)\n",
       "\t  if (Bokeh == null || Bokeh.Panel == null) {\n",
       "            console.warn(\"Panel: ERROR: Unable to run Panel code because Bokeh or Panel library is missing\");\n",
       "\t  } else {\n",
       "\t    console.warn(\"Panel: WARNING: Attempting to render but not all required libraries could be resolved.\")\n",
       "\t    embed_document(root)\n",
       "\t  }\n",
       "        }\n",
       "      }\n",
       "    }, 25, root)\n",
       "  }\n",
       "})(window);</script>"
      ],
      "text/plain": [
       ":Curve   [k]   (inertia)"
      ]
     },
     "execution_count": 52,
     "metadata": {
      "application/vnd.holoviews_exec.v0+json": {
       "id": "p1364"
      }
     },
     "output_type": "execute_result"
    }
   ],
   "source": [
    "# Plot a line chart with all the inertia values computed with \n",
    "# the different values of k to visually identify the optimal value for k.\n",
    "elbow_plot_pca = df_elbow_pca.hvplot.line(x=\"k\", y=\"inertia\", title=\"Elbow Curve Using PCA Data\", xticks=k)\n",
    "elbow_plot_pca"
   ]
  },
  {
   "cell_type": "markdown",
   "metadata": {},
   "source": [
    "**Question:** What is the best value for k when using the PCA data? Does it differ from the best k value found using the original data?\n",
    "\n",
    "**Answer:** Based on this Elbow Curve, it looks like `k=4` is the correct one."
   ]
  },
  {
   "cell_type": "code",
   "execution_count": 104,
   "metadata": {},
   "outputs": [
    {
     "data": {
      "text/plain": [
       "array([0.15402809, 0.39242073, 0.43001586, 0.76060683, 0.9456701 ,\n",
       "       1.00681489, 1.14760155, 1.29311821, 2.56721061, 4.83872097])"
      ]
     },
     "execution_count": 104,
     "metadata": {},
     "output_type": "execute_result"
    }
   ],
   "source": [
    "X = songs_scaled\n",
    "cov = (X.T @ X) / (X.shape[0] - 1)\n",
    "eig_values, eig_vectors = np.linalg.eig(cov)\n",
    "eig_values.sort()\n",
    "eig_values\n"
   ]
  },
  {
   "cell_type": "code",
   "execution_count": 92,
   "metadata": {},
   "outputs": [
    {
     "data": {
      "text/plain": [
       "100"
      ]
     },
     "execution_count": 92,
     "metadata": {},
     "output_type": "execute_result"
    }
   ],
   "source": [
    "eig_vectors.size"
   ]
  }
 ],
 "metadata": {
  "kernelspec": {
   "display_name": "Python 3 (ipykernel)",
   "language": "python",
   "name": "python3"
  },
  "language_info": {
   "codemirror_mode": {
    "name": "ipython",
    "version": 3
   },
   "file_extension": ".py",
   "mimetype": "text/x-python",
   "name": "python",
   "nbconvert_exporter": "python",
   "pygments_lexer": "ipython3",
   "version": "3.10.9"
  }
 },
 "nbformat": 4,
 "nbformat_minor": 4
}
